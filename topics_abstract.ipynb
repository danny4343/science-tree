{
 "cells": [
  {
   "cell_type": "code",
   "execution_count": 1,
   "id": "heard-theme",
   "metadata": {},
   "outputs": [],
   "source": [
    "import pandas as pd\n",
    "import numpy as np\n",
    "import matplotlib.pyplot as plt\n",
    "import re\n",
    "import pickle"
   ]
  },
  {
   "cell_type": "code",
   "execution_count": 2,
   "id": "future-spelling",
   "metadata": {},
   "outputs": [
    {
     "name": "stderr",
     "output_type": "stream",
     "text": [
      "[nltk_data] Downloading package stopwords to\n",
      "[nltk_data]     C:\\Users\\Danny\\AppData\\Roaming\\nltk_data...\n",
      "[nltk_data]   Package stopwords is already up-to-date!\n"
     ]
    },
    {
     "data": {
      "text/plain": [
       "True"
      ]
     },
     "execution_count": 2,
     "metadata": {},
     "output_type": "execute_result"
    }
   ],
   "source": [
    "from nltk.stem import WordNetLemmatizer \n",
    "lemmatizer = WordNetLemmatizer()\n",
    "from nltk.tokenize import word_tokenize\n",
    "from nltk.corpus import stopwords\n",
    "import nltk\n",
    "nltk.download('stopwords')"
   ]
  },
  {
   "cell_type": "code",
   "execution_count": 3,
   "id": "surface-remains",
   "metadata": {},
   "outputs": [],
   "source": [
    "from sklearn.feature_extraction.text import TfidfVectorizer, CountVectorizer\n",
    "from sklearn.decomposition import NMF, LatentDirichletAllocation"
   ]
  },
  {
   "cell_type": "code",
   "execution_count": 4,
   "id": "light-lease",
   "metadata": {},
   "outputs": [],
   "source": [
    "from functions import log, plot_top_words"
   ]
  },
  {
   "cell_type": "code",
   "execution_count": 5,
   "id": "opposite-regular",
   "metadata": {},
   "outputs": [],
   "source": [
    "df = pd.read_csv('files/select_files.txt', delimiter= '\\t')"
   ]
  },
  {
   "cell_type": "code",
   "execution_count": 6,
   "id": "accessible-celtic",
   "metadata": {},
   "outputs": [],
   "source": [
    "df = df[[\"PMID\", \"title\", \"abstract\"]]"
   ]
  },
  {
   "cell_type": "code",
   "execution_count": 7,
   "id": "square-owner",
   "metadata": {},
   "outputs": [],
   "source": [
    "groupBy = \"abstract\" # title or abstract"
   ]
  },
  {
   "cell_type": "code",
   "execution_count": 8,
   "id": "empty-belief",
   "metadata": {},
   "outputs": [],
   "source": [
    "df = df.dropna()\n",
    "\n",
    "stop_words = set(stopwords.words('english'))\n",
    "\n",
    "def parseGroupString(abstract):\n",
    "    temp = re.sub('doi', '', abstract, flags=re.IGNORECASE) \n",
    "    temp = re.sub(' .*10\\.1371.* ', ' ', temp)\n",
    "    temp = re.sub(r'[^\\w\\s]', '', temp)\n",
    "    temp = temp.lower()\n",
    "    temp = word_tokenize(temp)\n",
    "    temp = [w for w in temp if not w in stop_words]\n",
    "    temp = ' '.join([lemmatizer.lemmatize(w) for w in temp])\n",
    "    return temp\n",
    "                     \n",
    "df[groupBy] = [ parseGroupString(x) for x in df[groupBy] ]"
   ]
  },
  {
   "cell_type": "code",
   "execution_count": 9,
   "id": "whole-banana",
   "metadata": {},
   "outputs": [
    {
     "data": {
      "text/plain": [
       "3996"
      ]
     },
     "execution_count": 9,
     "metadata": {},
     "output_type": "execute_result"
    }
   ],
   "source": [
    "len(df)"
   ]
  },
  {
   "cell_type": "code",
   "execution_count": 10,
   "id": "honey-highway",
   "metadata": {},
   "outputs": [],
   "source": [
    "# tempdf = df[df[\"references\"].str.len()>3]\n",
    "# tempdf"
   ]
  },
  {
   "cell_type": "code",
   "execution_count": 11,
   "id": "caroline-banana",
   "metadata": {},
   "outputs": [],
   "source": [
    "#count_vect = CountVectorizer(max_df=0.8, min_df=2, stop_words='english')\n",
    "#doc_term_matrix = count_vect.fit_transform(df['abstract'].values.astype('U')) # U converts to unicode"
   ]
  },
  {
   "cell_type": "code",
   "execution_count": 12,
   "id": "verbal-stream",
   "metadata": {},
   "outputs": [
    {
     "data": {
      "text/html": [
       "<div>\n",
       "<style scoped>\n",
       "    .dataframe tbody tr th:only-of-type {\n",
       "        vertical-align: middle;\n",
       "    }\n",
       "\n",
       "    .dataframe tbody tr th {\n",
       "        vertical-align: top;\n",
       "    }\n",
       "\n",
       "    .dataframe thead th {\n",
       "        text-align: right;\n",
       "    }\n",
       "</style>\n",
       "<table border=\"1\" class=\"dataframe\">\n",
       "  <thead>\n",
       "    <tr style=\"text-align: right;\">\n",
       "      <th></th>\n",
       "      <th>PMID</th>\n",
       "      <th>title</th>\n",
       "      <th>abstract</th>\n",
       "    </tr>\n",
       "  </thead>\n",
       "  <tbody>\n",
       "    <tr>\n",
       "      <th>0</th>\n",
       "      <td>12929205</td>\n",
       "      <td>The Transcriptome of the Intraerythrocytic Dev...</td>\n",
       "      <td>plasmodium falciparum causative agent burdenso...</td>\n",
       "    </tr>\n",
       "    <tr>\n",
       "      <th>1</th>\n",
       "      <td>12929206</td>\n",
       "      <td>DNA Analysis Indicates That Asian Elephants Ar...</td>\n",
       "      <td>origin borneo elephant controversial two compe...</td>\n",
       "    </tr>\n",
       "    <tr>\n",
       "      <th>2</th>\n",
       "      <td>12975658</td>\n",
       "      <td>Drosophila Free-Running Rhythms Require Interc...</td>\n",
       "      <td>robust selfsustained oscillation ubiquitous ch...</td>\n",
       "    </tr>\n",
       "    <tr>\n",
       "      <th>3</th>\n",
       "      <td>12975657</td>\n",
       "      <td>From Gene Trees to Organismal Phylogeny in Pro...</td>\n",
       "      <td>rapid increase published genomic sequence bact...</td>\n",
       "    </tr>\n",
       "    <tr>\n",
       "      <th>4</th>\n",
       "      <td>14551903</td>\n",
       "      <td>A Functional Analysis of the Spacer of V(D)J R...</td>\n",
       "      <td>lymphocyte development vdj recombination assem...</td>\n",
       "    </tr>\n",
       "    <tr>\n",
       "      <th>...</th>\n",
       "      <td>...</td>\n",
       "      <td>...</td>\n",
       "      <td>...</td>\n",
       "    </tr>\n",
       "    <tr>\n",
       "      <th>3994</th>\n",
       "      <td>17925860</td>\n",
       "      <td>Large-Scale Mitochondrial DNA Analysis of the ...</td>\n",
       "      <td>backgroundfrom beginning domestication transpo...</td>\n",
       "    </tr>\n",
       "    <tr>\n",
       "      <th>3995</th>\n",
       "      <td>17925881</td>\n",
       "      <td>Endothelial Progenitor Cells, Cardiovascular R...</td>\n",
       "      <td>backgroundepc number functionality assumed ref...</td>\n",
       "    </tr>\n",
       "    <tr>\n",
       "      <th>3996</th>\n",
       "      <td>17925862</td>\n",
       "      <td>Ataxin-1 Fusion Partners Alter PolyQ Lethality...</td>\n",
       "      <td>intranuclear inclusion body ibs histopathologi...</td>\n",
       "    </tr>\n",
       "    <tr>\n",
       "      <th>3997</th>\n",
       "      <td>17925864</td>\n",
       "      <td>The Chemokine Receptor CXCR4 Strongly Promotes...</td>\n",
       "      <td>neuroblastoma nb heterogeneous particularly ma...</td>\n",
       "    </tr>\n",
       "    <tr>\n",
       "      <th>3998</th>\n",
       "      <td>17925856</td>\n",
       "      <td>Predicting Spatial Patterns of Plant Recruitme...</td>\n",
       "      <td>plant dispersed frugivores spatial pattern rec...</td>\n",
       "    </tr>\n",
       "  </tbody>\n",
       "</table>\n",
       "<p>3996 rows × 3 columns</p>\n",
       "</div>"
      ],
      "text/plain": [
       "          PMID                                              title  \\\n",
       "0     12929205  The Transcriptome of the Intraerythrocytic Dev...   \n",
       "1     12929206  DNA Analysis Indicates That Asian Elephants Ar...   \n",
       "2     12975658  Drosophila Free-Running Rhythms Require Interc...   \n",
       "3     12975657  From Gene Trees to Organismal Phylogeny in Pro...   \n",
       "4     14551903  A Functional Analysis of the Spacer of V(D)J R...   \n",
       "...        ...                                                ...   \n",
       "3994  17925860  Large-Scale Mitochondrial DNA Analysis of the ...   \n",
       "3995  17925881  Endothelial Progenitor Cells, Cardiovascular R...   \n",
       "3996  17925862  Ataxin-1 Fusion Partners Alter PolyQ Lethality...   \n",
       "3997  17925864  The Chemokine Receptor CXCR4 Strongly Promotes...   \n",
       "3998  17925856  Predicting Spatial Patterns of Plant Recruitme...   \n",
       "\n",
       "                                               abstract  \n",
       "0     plasmodium falciparum causative agent burdenso...  \n",
       "1     origin borneo elephant controversial two compe...  \n",
       "2     robust selfsustained oscillation ubiquitous ch...  \n",
       "3     rapid increase published genomic sequence bact...  \n",
       "4     lymphocyte development vdj recombination assem...  \n",
       "...                                                 ...  \n",
       "3994  backgroundfrom beginning domestication transpo...  \n",
       "3995  backgroundepc number functionality assumed ref...  \n",
       "3996  intranuclear inclusion body ibs histopathologi...  \n",
       "3997  neuroblastoma nb heterogeneous particularly ma...  \n",
       "3998  plant dispersed frugivores spatial pattern rec...  \n",
       "\n",
       "[3996 rows x 3 columns]"
      ]
     },
     "execution_count": 12,
     "metadata": {},
     "output_type": "execute_result"
    }
   ],
   "source": [
    "df"
   ]
  },
  {
   "cell_type": "code",
   "execution_count": 13,
   "id": "excess-ranch",
   "metadata": {},
   "outputs": [],
   "source": [
    "tfidf_vect = TfidfVectorizer(max_df=0.8, min_df=2, stop_words=\"english\")\n",
    "tfidf = tfidf_vect.fit_transform(df[groupBy].values.astype('U'))"
   ]
  },
  {
   "cell_type": "code",
   "execution_count": 14,
   "id": "latter-waters",
   "metadata": {},
   "outputs": [],
   "source": [
    "df = df[[\"PMID\", \"title\"]]"
   ]
  },
  {
   "cell_type": "code",
   "execution_count": 15,
   "id": "helpful-citizenship",
   "metadata": {},
   "outputs": [],
   "source": [
    "n_top_words = 10 # for bar graph\n",
    "n_topics = 5"
   ]
  },
  {
   "cell_type": "code",
   "execution_count": 16,
   "id": "painted-amount",
   "metadata": {},
   "outputs": [
    {
     "name": "stderr",
     "output_type": "stream",
     "text": [
      "c:\\users\\danny\\miniconda3\\lib\\site-packages\\sklearn\\decomposition\\_nmf.py:289: FutureWarning: The 'init' value, when 'init=None' and n_components is less than n_samples and n_features, will be changed from 'nndsvd' to 'nndsvda' in 1.1 (renaming of 0.26).\n",
      "  warnings.warn(\n"
     ]
    }
   ],
   "source": [
    "nmf1 = NMF(\n",
    "    n_components=n_topics,\n",
    "    beta_loss=\"frobenius\", #\"frobenius\"\n",
    "    solver=\"cd\",\n",
    "    max_iter=1000,\n",
    "    l1_ratio=0.5,\n",
    ").fit(tfidf)\n",
    "\n",
    "log(f'fitting {n_topics}')"
   ]
  },
  {
   "cell_type": "code",
   "execution_count": 17,
   "id": "bored-pulse",
   "metadata": {},
   "outputs": [
    {
     "data": {
      "image/png": "[encoded data removed]",
      "text/plain": [
       "<Figure size 2160x288 with 5 Axes>"
      ]
     },
     "metadata": {
      "needs_background": "light"
     },
     "output_type": "display_data"
    }
   ],
   "source": [
    "plot_top_words(\n",
    "    nmf1, tfidf_vect.get_feature_names_out(), n_topics, n_top_words,\"Topics in nmf1\"\n",
    ")"
   ]
  },
  {
   "cell_type": "code",
   "execution_count": 18,
   "id": "cutting-handy",
   "metadata": {},
   "outputs": [],
   "source": [
    "X_new = nmf1.transform(tfidf)\n",
    "# Get the top predicted topic\n",
    "predicted_topics = [np.argsort(each)[::-1][0] for each in X_new]"
   ]
  },
  {
   "cell_type": "code",
   "execution_count": 19,
   "id": "determined-mongolia",
   "metadata": {},
   "outputs": [],
   "source": [
    "df[\"topic\"] = predicted_topics"
   ]
  },
  {
   "cell_type": "code",
   "execution_count": 20,
   "id": "bulgarian-brand",
   "metadata": {},
   "outputs": [
    {
     "data": {
      "text/plain": [
       "<AxesSubplot:ylabel='Frequency'>"
      ]
     },
     "execution_count": 20,
     "metadata": {},
     "output_type": "execute_result"
    },
    {
     "data": {
      "image/png": "[encoded data removed]",
      "text/plain": [
       "<Figure size 432x288 with 1 Axes>"
      ]
     },
     "metadata": {
      "needs_background": "light"
     },
     "output_type": "display_data"
    }
   ],
   "source": [
    "df['topic'].plot(kind='hist', edgecolor='black')"
   ]
  },
  {
   "cell_type": "code",
   "execution_count": 21,
   "id": "nasty-defense",
   "metadata": {},
   "outputs": [],
   "source": [
    "df = df[[\"PMID\",\"topic\"]]"
   ]
  },
  {
   "cell_type": "code",
   "execution_count": 22,
   "id": "welsh-listing",
   "metadata": {},
   "outputs": [
    {
     "name": "stdout",
     "output_type": "stream",
     "text": [
      "{0: ['gene', 'expression', 'genome', 'transcription', 'promoter', 'region', 'sequence', 'regulatory', 'regulation', 'function'], 1: ['patient', 'health', 'trial', 'treatment', 'hiv', 'study', 'research', 'discus', 'disease', 'risk'], 2: ['cell', 'response', 'mouse', 'stem', 'infection', 'tumor', 'signaling', 'expression', 'immune', 'virus'], 3: ['protein', 'network', 'interaction', 'structure', 'binding', 'complex', 'domain', 'model', 'motif', 'method'], 4: ['population', 'specie', 'genetic', 'genome', 'human', 'selection', 'variation', 'sequence', 'mutation', 'evolution']}\n"
     ]
    }
   ],
   "source": [
    "topicDict = {}\n",
    "\n",
    "for i,topic in enumerate(nmf1.components_):\n",
    "    top_features_ind = topic.argsort()[: -n_top_words - 1 : -1] # finds indeces of n top words\n",
    "    top_features = [tfidf_vect.get_feature_names_out()[i] for i in top_features_ind] # gets the actual words\n",
    "    topicDict[i] = top_features\n",
    "    \n",
    "print(topicDict)"
   ]
  },
  {
   "cell_type": "code",
   "execution_count": 23,
   "id": "polar-linux",
   "metadata": {},
   "outputs": [],
   "source": [
    "with open(r'files/topicDict.pkl', 'wb') as f:\n",
    "    pickle.dump(topicDict, f)\n",
    "    \n",
    "log(f'saving main word of topic to files/topicDict.pkl')"
   ]
  },
  {
   "cell_type": "code",
   "execution_count": 24,
   "id": "hydraulic-protein",
   "metadata": {},
   "outputs": [],
   "source": [
    "df.to_csv(r'files/topics_abstract.txt', sep='\\t', index = False)\n",
    "log(f'Ran topics_abstract.ipynb succesfully')"
   ]
  },
  {
   "cell_type": "code",
   "execution_count": 25,
   "id": "hundred-chosen",
   "metadata": {},
   "outputs": [
    {
     "data": {
      "text/html": [
       "<div>\n",
       "<style scoped>\n",
       "    .dataframe tbody tr th:only-of-type {\n",
       "        vertical-align: middle;\n",
       "    }\n",
       "\n",
       "    .dataframe tbody tr th {\n",
       "        vertical-align: top;\n",
       "    }\n",
       "\n",
       "    .dataframe thead th {\n",
       "        text-align: right;\n",
       "    }\n",
       "</style>\n",
       "<table border=\"1\" class=\"dataframe\">\n",
       "  <thead>\n",
       "    <tr style=\"text-align: right;\">\n",
       "      <th></th>\n",
       "      <th>PMID</th>\n",
       "      <th>topic</th>\n",
       "    </tr>\n",
       "  </thead>\n",
       "  <tbody>\n",
       "    <tr>\n",
       "      <th>0</th>\n",
       "      <td>12929205</td>\n",
       "      <td>0</td>\n",
       "    </tr>\n",
       "    <tr>\n",
       "      <th>1</th>\n",
       "      <td>12929206</td>\n",
       "      <td>4</td>\n",
       "    </tr>\n",
       "    <tr>\n",
       "      <th>2</th>\n",
       "      <td>12975658</td>\n",
       "      <td>3</td>\n",
       "    </tr>\n",
       "    <tr>\n",
       "      <th>3</th>\n",
       "      <td>12975657</td>\n",
       "      <td>4</td>\n",
       "    </tr>\n",
       "    <tr>\n",
       "      <th>4</th>\n",
       "      <td>14551903</td>\n",
       "      <td>3</td>\n",
       "    </tr>\n",
       "    <tr>\n",
       "      <th>...</th>\n",
       "      <td>...</td>\n",
       "      <td>...</td>\n",
       "    </tr>\n",
       "    <tr>\n",
       "      <th>3994</th>\n",
       "      <td>17925860</td>\n",
       "      <td>4</td>\n",
       "    </tr>\n",
       "    <tr>\n",
       "      <th>3995</th>\n",
       "      <td>17925881</td>\n",
       "      <td>1</td>\n",
       "    </tr>\n",
       "    <tr>\n",
       "      <th>3996</th>\n",
       "      <td>17925862</td>\n",
       "      <td>3</td>\n",
       "    </tr>\n",
       "    <tr>\n",
       "      <th>3997</th>\n",
       "      <td>17925864</td>\n",
       "      <td>2</td>\n",
       "    </tr>\n",
       "    <tr>\n",
       "      <th>3998</th>\n",
       "      <td>17925856</td>\n",
       "      <td>4</td>\n",
       "    </tr>\n",
       "  </tbody>\n",
       "</table>\n",
       "<p>3996 rows × 2 columns</p>\n",
       "</div>"
      ],
      "text/plain": [
       "          PMID  topic\n",
       "0     12929205      0\n",
       "1     12929206      4\n",
       "2     12975658      3\n",
       "3     12975657      4\n",
       "4     14551903      3\n",
       "...        ...    ...\n",
       "3994  17925860      4\n",
       "3995  17925881      1\n",
       "3996  17925862      3\n",
       "3997  17925864      2\n",
       "3998  17925856      4\n",
       "\n",
       "[3996 rows x 2 columns]"
      ]
     },
     "execution_count": 25,
     "metadata": {},
     "output_type": "execute_result"
    }
   ],
   "source": [
    "df"
   ]
  },
  {
   "cell_type": "code",
   "execution_count": null,
   "id": "exact-lunch",
   "metadata": {},
   "outputs": [],
   "source": []
  }
 ],
 "metadata": {
  "kernelspec": {
   "display_name": "Python 3",
   "language": "python",
   "name": "python3"
  },
  "language_info": {
   "codemirror_mode": {
    "name": "ipython",
    "version": 3
   },
   "file_extension": ".py",
   "mimetype": "text/x-python",
   "name": "python",
   "nbconvert_exporter": "python",
   "pygments_lexer": "ipython3",
   "version": "3.8.12"
  }
 },
 "nbformat": 4,
 "nbformat_minor": 5
}
