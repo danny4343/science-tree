{
 "cells": [
  {
   "cell_type": "markdown",
   "id": "relevant-spirituality",
   "metadata": {},
   "source": [
    "## Replace doi references with actual links"
   ]
  },
  {
   "cell_type": "code",
   "execution_count": 1,
   "id": "daily-medium",
   "metadata": {},
   "outputs": [],
   "source": [
    "from bs4 import BeautifulSoup"
   ]
  },
  {
   "cell_type": "code",
   "execution_count": 2,
   "id": "reduced-cedar",
   "metadata": {},
   "outputs": [],
   "source": [
    "import requests"
   ]
  },
  {
   "cell_type": "code",
   "execution_count": 3,
   "id": "hydraulic-stevens",
   "metadata": {},
   "outputs": [],
   "source": [
    "import pandas as pd\n",
    "from collections import Counter"
   ]
  },
  {
   "cell_type": "code",
   "execution_count": 4,
   "id": "massive-helping",
   "metadata": {},
   "outputs": [],
   "source": [
    "from urllib.parse import urlparse"
   ]
  },
  {
   "cell_type": "code",
   "execution_count": 5,
   "id": "developed-president",
   "metadata": {},
   "outputs": [],
   "source": [
    "from functions import log, isInRef"
   ]
  },
  {
   "cell_type": "code",
   "execution_count": 6,
   "id": "supreme-exposure",
   "metadata": {},
   "outputs": [],
   "source": [
    "import warnings\n",
    "warnings.filterwarnings('ignore')"
   ]
  },
  {
   "cell_type": "code",
   "execution_count": 7,
   "id": "yellow-hands",
   "metadata": {},
   "outputs": [],
   "source": [
    "headers = { # this is my header\n",
    "    \"User-Agent\": \"Mozilla/5.0 (Windows NT 10.0; Win64; x64) AppleWebKit/537.36 (KHTML, like Gecko) Chrome/70.0.3538.102 Safari/537.36 Edge/18.19582\"\n",
    "}"
   ]
  },
  {
   "cell_type": "code",
   "execution_count": 8,
   "id": "hearing-class",
   "metadata": {},
   "outputs": [],
   "source": [
    "# dictionary for getting journal name from url\n",
    "journals_df = pd.read_csv('domain_to_journal.csv', delimiter='\\t')\n",
    "journal_ref = pd.Series(journals_df.journal.values,index=journals_df.domain).to_dict()\n",
    "# dict: journal_ref['url'] = journal name"
   ]
  },
  {
   "cell_type": "code",
   "execution_count": 9,
   "id": "removed-tokyo",
   "metadata": {},
   "outputs": [],
   "source": [
    "df = pd.read_csv('results.2.csv', delimiter= '\\t')"
   ]
  },
  {
   "cell_type": "code",
   "execution_count": 10,
   "id": "perfect-setting",
   "metadata": {},
   "outputs": [
    {
     "data": {
      "text/html": [
       "<div>\n",
       "<style scoped>\n",
       "    .dataframe tbody tr th:only-of-type {\n",
       "        vertical-align: middle;\n",
       "    }\n",
       "\n",
       "    .dataframe tbody tr th {\n",
       "        vertical-align: top;\n",
       "    }\n",
       "\n",
       "    .dataframe thead th {\n",
       "        text-align: right;\n",
       "    }\n",
       "</style>\n",
       "<table border=\"1\" class=\"dataframe\">\n",
       "  <thead>\n",
       "    <tr style=\"text-align: right;\">\n",
       "      <th></th>\n",
       "      <th>link</th>\n",
       "      <th>title</th>\n",
       "      <th>abstract</th>\n",
       "      <th>references</th>\n",
       "    </tr>\n",
       "  </thead>\n",
       "  <tbody>\n",
       "    <tr>\n",
       "      <th>0</th>\n",
       "      <td>https://journals.plos.org/plosone/article?id=1...</td>\n",
       "      <td>Multi-methodological approach for the Quality ...</td>\n",
       "      <td>We set forth to assess the quality of an herba...</td>\n",
       "      <td>['https://doi.org/10.1016/j.jpba.2011.05.004',...</td>\n",
       "    </tr>\n",
       "    <tr>\n",
       "      <th>1</th>\n",
       "      <td>https://journals.plos.org/plosone/article?id=1...</td>\n",
       "      <td>Differential COVID-19 testing, admissions, and...</td>\n",
       "      <td>Understanding of COVID-19 acquisition and seve...</td>\n",
       "      <td>['https://doi.org/10.1111/joim.13117', 'https:...</td>\n",
       "    </tr>\n",
       "    <tr>\n",
       "      <th>2</th>\n",
       "      <td>https://journals.plos.org/plosone/article?id=1...</td>\n",
       "      <td>DAO-CP: Data-Adaptive Online CP decomposition ...</td>\n",
       "      <td>How can we accurately and efficiently decompos...</td>\n",
       "      <td>['https://doi.org/10.1109/TSP.2017.2690524', '...</td>\n",
       "    </tr>\n",
       "    <tr>\n",
       "      <th>3</th>\n",
       "      <td>https://journals.plos.org/plosone/article?id=1...</td>\n",
       "      <td>Retinal biomarkers of Cerebral Small Vessel Di...</td>\n",
       "      <td>Cerebral Small Vessel Disease (CSVD), a progre...</td>\n",
       "      <td>['https://doi.org/10.1212/WNL.0000000000007654...</td>\n",
       "    </tr>\n",
       "    <tr>\n",
       "      <th>4</th>\n",
       "      <td>https://journals.plos.org/plosone/article?id=1...</td>\n",
       "      <td>Blockchain-based healthcare management system ...</td>\n",
       "      <td>The lack of data outsourcing in healthcare man...</td>\n",
       "      <td>['https://doi.org/10.3390/sym10100470', 'https...</td>\n",
       "    </tr>\n",
       "  </tbody>\n",
       "</table>\n",
       "</div>"
      ],
      "text/plain": [
       "                                                link  \\\n",
       "0  https://journals.plos.org/plosone/article?id=1...   \n",
       "1  https://journals.plos.org/plosone/article?id=1...   \n",
       "2  https://journals.plos.org/plosone/article?id=1...   \n",
       "3  https://journals.plos.org/plosone/article?id=1...   \n",
       "4  https://journals.plos.org/plosone/article?id=1...   \n",
       "\n",
       "                                               title  \\\n",
       "0  Multi-methodological approach for the Quality ...   \n",
       "1  Differential COVID-19 testing, admissions, and...   \n",
       "2  DAO-CP: Data-Adaptive Online CP decomposition ...   \n",
       "3  Retinal biomarkers of Cerebral Small Vessel Di...   \n",
       "4  Blockchain-based healthcare management system ...   \n",
       "\n",
       "                                            abstract  \\\n",
       "0  We set forth to assess the quality of an herba...   \n",
       "1  Understanding of COVID-19 acquisition and seve...   \n",
       "2  How can we accurately and efficiently decompos...   \n",
       "3  Cerebral Small Vessel Disease (CSVD), a progre...   \n",
       "4  The lack of data outsourcing in healthcare man...   \n",
       "\n",
       "                                          references  \n",
       "0  ['https://doi.org/10.1016/j.jpba.2011.05.004',...  \n",
       "1  ['https://doi.org/10.1111/joim.13117', 'https:...  \n",
       "2  ['https://doi.org/10.1109/TSP.2017.2690524', '...  \n",
       "3  ['https://doi.org/10.1212/WNL.0000000000007654...  \n",
       "4  ['https://doi.org/10.3390/sym10100470', 'https...  "
      ]
     },
     "execution_count": 10,
     "metadata": {},
     "output_type": "execute_result"
    }
   ],
   "source": [
    "df.head()"
   ]
  },
  {
   "cell_type": "code",
   "execution_count": 11,
   "id": "medical-madagascar",
   "metadata": {},
   "outputs": [],
   "source": [
    "# # all references in flat list\n",
    "# all_references = []\n",
    "# for sublist in df.references:\n",
    "#     sub = eval(sublist) # convert from string\n",
    "#     for item in sub:        \n",
    "#         all_references.append(item)    "
   ]
  },
  {
   "cell_type": "code",
   "execution_count": 12,
   "id": "useful-overview",
   "metadata": {},
   "outputs": [],
   "source": [
    "# initialize journal list\n",
    "journals = []"
   ]
  },
  {
   "cell_type": "code",
   "execution_count": 13,
   "id": "spatial-possible",
   "metadata": {},
   "outputs": [],
   "source": [
    "# collect an example link for every journal\n",
    "samples = {}\n",
    "def get_sample_url(url, domain):\n",
    "    if not(domain in samples.keys()):\n",
    "        samples[domain] = url"
   ]
  },
  {
   "cell_type": "code",
   "execution_count": 15,
   "id": "thick-father",
   "metadata": {},
   "outputs": [],
   "source": [
    "def main():\n",
    "    # will replace references column\n",
    "    all_references = []\n",
    "    counter = 0; # for knowing progress\n",
    "    for sublist in df.references:\n",
    "        sub_references = []\n",
    "        sub = eval(sublist)        \n",
    "        for link in sub:\n",
    "            # get request and extract domain\n",
    "            request = requests.get(link, headers=headers, verify=False)\n",
    "            domain = urlparse(request.url).netloc\n",
    "            # append to master list of domains\n",
    "            journals.append(domain)\n",
    "            # collect example article for each domain\n",
    "            get_sample_url(request.url, domain)\n",
    "            # check if domain is in reference file as some journal\n",
    "            if isInRef(domain):            \n",
    "                # append to list of references for this article\n",
    "                sub_references.append(domain)\n",
    "\n",
    "                # counter for progress purposes\n",
    "                counter+=1;\n",
    "                if counter%25 == 0:\n",
    "                    print(counter)\n",
    "            else:\n",
    "                # do same thing actually lol\n",
    "                sub_references.append(domain)\n",
    "\n",
    "                # counter for progress purposes\n",
    "                counter+=1;\n",
    "                if counter%25 == 0:\n",
    "                    print(counter)\n",
    "                \n",
    "        # append list of references for this article        \n",
    "        all_references.append(sub_references)\n",
    "        \n",
    "    df.references = all_references\n",
    "    \n",
    "    log(f'Ran analyze_ref.3.ipynb succesfully')\n"
   ]
  },
  {
   "cell_type": "code",
   "execution_count": 16,
   "id": "roman-supplement",
   "metadata": {},
   "outputs": [
    {
     "name": "stdout",
     "output_type": "stream",
     "text": [
      "25\n",
      "50\n",
      "75\n",
      "100\n",
      "125\n",
      "150\n",
      "175\n",
      "200\n",
      "225\n",
      "250\n",
      "275\n",
      "300\n"
     ]
    }
   ],
   "source": [
    "main()"
   ]
  },
  {
   "cell_type": "code",
   "execution_count": 17,
   "id": "united-hypothesis",
   "metadata": {},
   "outputs": [
    {
     "data": {
      "text/html": [
       "<div>\n",
       "<style scoped>\n",
       "    .dataframe tbody tr th:only-of-type {\n",
       "        vertical-align: middle;\n",
       "    }\n",
       "\n",
       "    .dataframe tbody tr th {\n",
       "        vertical-align: top;\n",
       "    }\n",
       "\n",
       "    .dataframe thead th {\n",
       "        text-align: right;\n",
       "    }\n",
       "</style>\n",
       "<table border=\"1\" class=\"dataframe\">\n",
       "  <thead>\n",
       "    <tr style=\"text-align: right;\">\n",
       "      <th></th>\n",
       "      <th>link</th>\n",
       "      <th>title</th>\n",
       "      <th>abstract</th>\n",
       "      <th>references</th>\n",
       "    </tr>\n",
       "  </thead>\n",
       "  <tbody>\n",
       "    <tr>\n",
       "      <th>0</th>\n",
       "      <td>https://journals.plos.org/plosone/article?id=1...</td>\n",
       "      <td>Multi-methodological approach for the Quality ...</td>\n",
       "      <td>We set forth to assess the quality of an herba...</td>\n",
       "      <td>[linkinghub.elsevier.com, linkinghub.elsevier....</td>\n",
       "    </tr>\n",
       "    <tr>\n",
       "      <th>1</th>\n",
       "      <td>https://journals.plos.org/plosone/article?id=1...</td>\n",
       "      <td>Differential COVID-19 testing, admissions, and...</td>\n",
       "      <td>Understanding of COVID-19 acquisition and seve...</td>\n",
       "      <td>[onlinelibrary.wiley.com, journals.plos.org, g...</td>\n",
       "    </tr>\n",
       "    <tr>\n",
       "      <th>2</th>\n",
       "      <td>https://journals.plos.org/plosone/article?id=1...</td>\n",
       "      <td>DAO-CP: Data-Adaptive Online CP decomposition ...</td>\n",
       "      <td>How can we accurately and efficiently decompos...</td>\n",
       "      <td>[ieeexplore.ieee.org, ieeexplore.ieee.org, lin...</td>\n",
       "    </tr>\n",
       "    <tr>\n",
       "      <th>3</th>\n",
       "      <td>https://journals.plos.org/plosone/article?id=1...</td>\n",
       "      <td>Retinal biomarkers of Cerebral Small Vessel Di...</td>\n",
       "      <td>Cerebral Small Vessel Disease (CSVD), a progre...</td>\n",
       "      <td>[n.neurology.org, journals.sagepub.com, journa...</td>\n",
       "    </tr>\n",
       "    <tr>\n",
       "      <th>4</th>\n",
       "      <td>https://journals.plos.org/plosone/article?id=1...</td>\n",
       "      <td>Blockchain-based healthcare management system ...</td>\n",
       "      <td>The lack of data outsourcing in healthcare man...</td>\n",
       "      <td>[www.mdpi.com, ieeexplore.ieee.org, linkinghub...</td>\n",
       "    </tr>\n",
       "  </tbody>\n",
       "</table>\n",
       "</div>"
      ],
      "text/plain": [
       "                                                link  \\\n",
       "0  https://journals.plos.org/plosone/article?id=1...   \n",
       "1  https://journals.plos.org/plosone/article?id=1...   \n",
       "2  https://journals.plos.org/plosone/article?id=1...   \n",
       "3  https://journals.plos.org/plosone/article?id=1...   \n",
       "4  https://journals.plos.org/plosone/article?id=1...   \n",
       "\n",
       "                                               title  \\\n",
       "0  Multi-methodological approach for the Quality ...   \n",
       "1  Differential COVID-19 testing, admissions, and...   \n",
       "2  DAO-CP: Data-Adaptive Online CP decomposition ...   \n",
       "3  Retinal biomarkers of Cerebral Small Vessel Di...   \n",
       "4  Blockchain-based healthcare management system ...   \n",
       "\n",
       "                                            abstract  \\\n",
       "0  We set forth to assess the quality of an herba...   \n",
       "1  Understanding of COVID-19 acquisition and seve...   \n",
       "2  How can we accurately and efficiently decompos...   \n",
       "3  Cerebral Small Vessel Disease (CSVD), a progre...   \n",
       "4  The lack of data outsourcing in healthcare man...   \n",
       "\n",
       "                                          references  \n",
       "0  [linkinghub.elsevier.com, linkinghub.elsevier....  \n",
       "1  [onlinelibrary.wiley.com, journals.plos.org, g...  \n",
       "2  [ieeexplore.ieee.org, ieeexplore.ieee.org, lin...  \n",
       "3  [n.neurology.org, journals.sagepub.com, journa...  \n",
       "4  [www.mdpi.com, ieeexplore.ieee.org, linkinghub...  "
      ]
     },
     "execution_count": 17,
     "metadata": {},
     "output_type": "execute_result"
    }
   ],
   "source": [
    "df.head()"
   ]
  },
  {
   "cell_type": "code",
   "execution_count": 18,
   "id": "informative-physics",
   "metadata": {},
   "outputs": [],
   "source": [
    "df.to_csv(r'results.3.csv', sep='\\t', index = False)"
   ]
  },
  {
   "cell_type": "code",
   "execution_count": 19,
   "id": "vietnamese-empire",
   "metadata": {},
   "outputs": [
    {
     "data": {
      "text/plain": [
       "305"
      ]
     },
     "execution_count": 19,
     "metadata": {},
     "output_type": "execute_result"
    }
   ],
   "source": [
    "len(journals)"
   ]
  },
  {
   "cell_type": "code",
   "execution_count": 20,
   "id": "environmental-freeware",
   "metadata": {},
   "outputs": [],
   "source": [
    "counter = Counter(journals)"
   ]
  },
  {
   "cell_type": "code",
   "execution_count": 21,
   "id": "round-scientist",
   "metadata": {},
   "outputs": [
    {
     "data": {
      "text/plain": [
       "[('linkinghub.elsevier.com', 72),\n",
       " ('onlinelibrary.wiley.com', 36),\n",
       " ('link.springer.com', 24),\n",
       " ('journals.plos.org', 17),\n",
       " ('ieeexplore.ieee.org', 15),\n",
       " ('www.nature.com', 13),\n",
       " ('www.tandfonline.com', 12),\n",
       " ('www.ahajournals.org', 9),\n",
       " ('www.mdpi.com', 8),\n",
       " ('journals.sagepub.com', 8),\n",
       " ('doi.apa.org:443', 8),\n",
       " ('www.frontiersin.org', 6),\n",
       " ('journals.lww.com', 6),\n",
       " ('asa.scitation.org', 6),\n",
       " ('www.hindawi.com', 5),\n",
       " ('n.neurology.org', 5),\n",
       " ('ajph.aphapublications.org', 4),\n",
       " ('academic.oup.com', 4),\n",
       " ('www.karger.com', 4),\n",
       " ('ascelibrary.org', 3),\n",
       " ('d.wanfangdata.com.cn', 2),\n",
       " ('www.healthaffairs.org', 2),\n",
       " ('jech.bmj.com', 2),\n",
       " ('jamanetwork.com', 2),\n",
       " ('epubs.siam.org', 2),\n",
       " ('iovs.arvojournals.org', 2),\n",
       " ('pubs.asha.org', 2),\n",
       " ('kns.cnki.net', 2),\n",
       " ('cmjournal.biomedcentral.com', 1),\n",
       " ('bmcecolevol.biomedcentral.com', 1),\n",
       " ('gh.bmj.com', 1),\n",
       " ('direct.mit.edu', 1),\n",
       " ('royalsocietypublishing.org', 1),\n",
       " ('svn.bmj.com', 1),\n",
       " ('www.ijo.cn', 1),\n",
       " ('ojrd.biomedcentral.com', 1),\n",
       " ('jnnp.bmj.com', 1),\n",
       " ('alzres.biomedcentral.com', 1),\n",
       " ('neurolrespract.biomedcentral.com', 1),\n",
       " ('www.thejcn.com', 1),\n",
       " ('www.eurekaselect.com', 1),\n",
       " ('koreascience.or.kr', 1),\n",
       " ('cshperspectives.cshlp.org', 1),\n",
       " ('www.liebertpub.com', 1),\n",
       " ('fibrogenesis.biomedcentral.com', 1),\n",
       " ('asmedigitalcollection.asme.org', 1),\n",
       " ('pnas.org', 1),\n",
       " ('pubs.acs.org', 1),\n",
       " ('www.icevirtuallibrary.com', 1),\n",
       " ('doi.org', 1),\n",
       " ('www.cnki.net', 1),\n",
       " ('www.nejm.org', 1)]"
      ]
     },
     "execution_count": 21,
     "metadata": {},
     "output_type": "execute_result"
    }
   ],
   "source": [
    "counter.most_common()"
   ]
  },
  {
   "cell_type": "code",
   "execution_count": 22,
   "id": "personal-alliance",
   "metadata": {},
   "outputs": [
    {
     "data": {
      "text/plain": [
       "{'linkinghub.elsevier.com': 'https://linkinghub.elsevier.com/retrieve/pii/S0731708511002433',\n",
       " 'link.springer.com': 'https://link.springer.com/article/10.1007/s00216-014-8175-z',\n",
       " 'onlinelibrary.wiley.com': 'https://onlinelibrary.wiley.com/resolve/doi?DOI=10.1002/jms.4532',\n",
       " 'www.hindawi.com': 'https://www.hindawi.com/journals/ijac/2021/5209618/',\n",
       " 'journals.plos.org': 'https://journals.plos.org/plosone/article?id=10.1371/journal.pone.0195240',\n",
       " 'www.frontiersin.org': 'https://www.frontiersin.org/articles/10.3389/fphar.2019.01227/full',\n",
       " 'www.mdpi.com': 'https://www.mdpi.com/2223-7747/10/1/161',\n",
       " 'cmjournal.biomedcentral.com': 'https://cmjournal.biomedcentral.com/articles/10.1186/s13020-018-0188-7',\n",
       " 'www.nature.com': 'https://www.nature.com/articles/s41598-017-17765-5',\n",
       " 'bmcecolevol.biomedcentral.com': 'https://bmcecolevol.biomedcentral.com/articles/10.1186/1471-2148-10-324',\n",
       " 'd.wanfangdata.com.cn': 'https://d.wanfangdata.com.cn/periodical/ChlQZXJpb2RpY2FsQ0hJTmV3UzIwMjIwMzIyEg9haG55a3gyMDIyMDIwNTUaCHR6eW55NnB4',\n",
       " 'gh.bmj.com': 'https://gh.bmj.com/content/5/6/e002913',\n",
       " 'www.healthaffairs.org': 'https://www.healthaffairs.org/doi/10.1377/hlthaff.2020.00598',\n",
       " 'ajph.aphapublications.org': 'https://ajph.aphapublications.org/doi/10.2105/AJPH.89.10.1543',\n",
       " 'jech.bmj.com': 'https://jech.bmj.com/content/64/2/155',\n",
       " 'jamanetwork.com': 'https://jamanetwork.com/journals/jama/fullarticle/2775687',\n",
       " 'ieeexplore.ieee.org': 'https://ieeexplore.ieee.org/document/7891546/',\n",
       " 'direct.mit.edu': 'https://direct.mit.edu/tacl/article/doi/10.1162/tacl_a_00015/43429/Knowledge-Completion-for-Generics-using-Guided',\n",
       " 'epubs.siam.org': 'https://epubs.siam.org/doi/10.1137/07070111X',\n",
       " 'www.tandfonline.com': 'https://www.tandfonline.com/doi/abs/10.1080/00401706.1962.10490022',\n",
       " 'royalsocietypublishing.org': 'https://royalsocietypublishing.org/doi/10.1098/rspa.2017.0457',\n",
       " 'n.neurology.org': 'https://n.neurology.org/content/92/24/1146',\n",
       " 'journals.sagepub.com': 'https://journals.sagepub.com/doi/10.1177/0963689718795148',\n",
       " 'svn.bmj.com': 'https://svn.bmj.com/content/1/3/83',\n",
       " 'journals.lww.com': 'https://journals.lww.com/co-ophthalmology/Abstract/2017/11000/Neuro_ophthalmic_manifestations_of_cerebrovascular.5.aspx',\n",
       " 'www.ijo.cn': 'http://www.ijo.cn/gjyken/ch/reader/view_abstract.aspx?file_no=20170118&flag=1',\n",
       " 'academic.oup.com': 'https://academic.oup.com/brain/article/129/1/182/311867',\n",
       " 'iovs.arvojournals.org': 'https://iovs.arvojournals.org/article.aspx?articleid=2188375',\n",
       " 'www.ahajournals.org': 'https://www.ahajournals.org/doi/10.1161/STROKEAHA.110.580837',\n",
       " 'www.karger.com': 'https://www.karger.com/Article/Abstract/251173',\n",
       " 'ojrd.biomedcentral.com': 'https://ojrd.biomedcentral.com/articles/10.1186/s13023-019-1267-2',\n",
       " 'jnnp.bmj.com': 'https://jnnp.bmj.com/content/75/7/1058',\n",
       " 'alzres.biomedcentral.com': 'https://alzres.biomedcentral.com/articles/10.1186/s13195-020-00638-x',\n",
       " 'neurolrespract.biomedcentral.com': 'https://neurolrespract.biomedcentral.com/articles/10.1186/s42466-020-00062-4',\n",
       " 'www.thejcn.com': 'https://www.thejcn.com/DOIx.php?id=10.3988/jcn.2011.7.1.1',\n",
       " 'www.eurekaselect.com': 'http://www.eurekaselect.com/article/33635',\n",
       " 'asa.scitation.org': 'https://asa.scitation.org/doi/10.1121/1.4964509',\n",
       " 'pubs.asha.org': 'https://pubs.asha.org/doi/10.1044/2021_JSLHR-20-00498',\n",
       " 'koreascience.or.kr': 'http://koreascience.or.kr/article/JAKO201819063370169.page',\n",
       " 'cshperspectives.cshlp.org': 'https://cshperspectives.cshlp.org/content/10/2/a023200',\n",
       " 'www.liebertpub.com': 'https://www.liebertpub.com/doi/10.1089/ten.tea.2011.0278',\n",
       " 'fibrogenesis.biomedcentral.com': 'https://fibrogenesis.biomedcentral.com/articles/10.1186/1755-1536-5-15',\n",
       " 'asmedigitalcollection.asme.org': 'https://asmedigitalcollection.asme.org/biomechanical/article-abstract/136/5/051005/371051/Measuring-the-Contractile-Forces-of-Human-Induced?redirectedFrom=fulltext',\n",
       " 'pnas.org': 'https://pnas.org/doi/full/10.1073/pnas.1311120110',\n",
       " 'pubs.acs.org': 'https://pubs.acs.org/doi/10.1021/acscentsci.9b00052',\n",
       " 'ascelibrary.org': 'https://ascelibrary.org/doi/10.1061/%28ASCE%29MT.1943-5533.0002313',\n",
       " 'kns.cnki.net': 'https://kns.cnki.net/kcms/detail/detail.aspx?doi=10.19782/j.cnki.1674-0610.2019.05.039',\n",
       " 'www.icevirtuallibrary.com': 'https://www.icevirtuallibrary.com/doi/10.1680/gein.2010.17.2.86',\n",
       " 'doi.org': 'https://doi.org/10.3328/IJGE.2011.05.02.235%E2%80%93243',\n",
       " 'www.cnki.net': 'https://www.cnki.net/kcms/doi/10.16285/j.rsm.2005.08.029.html',\n",
       " 'www.nejm.org': 'https://www.nejm.org/doi/10.1056/NEJMp1608351',\n",
       " 'doi.apa.org:443': 'https://doi.apa.org:443/doiLanding?doi=10.1037/0003-066X.59.8.676'}"
      ]
     },
     "execution_count": 22,
     "metadata": {},
     "output_type": "execute_result"
    }
   ],
   "source": [
    "samples"
   ]
  },
  {
   "cell_type": "code",
   "execution_count": null,
   "id": "mathematical-casino",
   "metadata": {},
   "outputs": [],
   "source": []
  }
 ],
 "metadata": {
  "kernelspec": {
   "display_name": "Python 3",
   "language": "python",
   "name": "python3"
  },
  "language_info": {
   "codemirror_mode": {
    "name": "ipython",
    "version": 3
   },
   "file_extension": ".py",
   "mimetype": "text/x-python",
   "name": "python",
   "nbconvert_exporter": "python",
   "pygments_lexer": "ipython3",
   "version": "3.8.12"
  }
 },
 "nbformat": 4,
 "nbformat_minor": 5
}
