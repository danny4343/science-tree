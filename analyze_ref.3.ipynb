{
 "cells": [
  {
   "cell_type": "markdown",
   "id": "clean-indonesian",
   "metadata": {},
   "source": [
    "## Replace doi references with actual links"
   ]
  },
  {
   "cell_type": "code",
   "execution_count": 1,
   "id": "adverse-juice",
   "metadata": {},
   "outputs": [],
   "source": [
    "from bs4 import BeautifulSoup"
   ]
  },
  {
   "cell_type": "code",
   "execution_count": 2,
   "id": "focused-candle",
   "metadata": {},
   "outputs": [],
   "source": [
    "import requests"
   ]
  },
  {
   "cell_type": "code",
   "execution_count": 3,
   "id": "fifteen-bubble",
   "metadata": {},
   "outputs": [],
   "source": [
    "import pandas as pd\n",
    "from collections import Counter"
   ]
  },
  {
   "cell_type": "code",
   "execution_count": 4,
   "id": "swiss-fleet",
   "metadata": {},
   "outputs": [],
   "source": [
    "from urllib.parse import urlparse"
   ]
  },
  {
   "cell_type": "code",
   "execution_count": 5,
   "id": "genetic-california",
   "metadata": {},
   "outputs": [],
   "source": [
    "from functions import log, isInRef"
   ]
  },
  {
   "cell_type": "code",
   "execution_count": 6,
   "id": "incomplete-importance",
   "metadata": {},
   "outputs": [],
   "source": [
    "import warnings\n",
    "warnings.filterwarnings('ignore')"
   ]
  },
  {
   "cell_type": "code",
   "execution_count": 7,
   "id": "polyphonic-motion",
   "metadata": {},
   "outputs": [],
   "source": [
    "headers = { # this is my header\n",
    "    \"User-Agent\": \"Mozilla/5.0 (Windows NT 10.0; Win64; x64) AppleWebKit/537.36 (KHTML, like Gecko) Chrome/70.0.3538.102 Safari/537.36 Edge/18.19582\"\n",
    "}"
   ]
  },
  {
   "cell_type": "code",
   "execution_count": 8,
   "id": "checked-journey",
   "metadata": {},
   "outputs": [],
   "source": [
    "# dictionary for getting journal name from url\n",
    "journals_df = pd.read_csv('domain_to_journal.csv', delimiter='\\t')\n",
    "journal_ref = pd.Series(journals_df.journal.values,index=journals_df.domain).to_dict()\n",
    "# dict: journal_ref['url'] = journal name"
   ]
  },
  {
   "cell_type": "code",
   "execution_count": 9,
   "id": "constitutional-arrow",
   "metadata": {},
   "outputs": [],
   "source": [
    "df = pd.read_csv('results.2.csv', delimiter= '\\t')"
   ]
  },
  {
   "cell_type": "code",
   "execution_count": 10,
   "id": "eight-elimination",
   "metadata": {},
   "outputs": [
    {
     "data": {
      "text/html": [
       "<div>\n",
       "<style scoped>\n",
       "    .dataframe tbody tr th:only-of-type {\n",
       "        vertical-align: middle;\n",
       "    }\n",
       "\n",
       "    .dataframe tbody tr th {\n",
       "        vertical-align: top;\n",
       "    }\n",
       "\n",
       "    .dataframe thead th {\n",
       "        text-align: right;\n",
       "    }\n",
       "</style>\n",
       "<table border=\"1\" class=\"dataframe\">\n",
       "  <thead>\n",
       "    <tr style=\"text-align: right;\">\n",
       "      <th></th>\n",
       "      <th>link</th>\n",
       "      <th>title</th>\n",
       "      <th>abstract</th>\n",
       "      <th>references</th>\n",
       "      <th>journal</th>\n",
       "      <th>doi</th>\n",
       "    </tr>\n",
       "  </thead>\n",
       "  <tbody>\n",
       "    <tr>\n",
       "      <th>0</th>\n",
       "      <td>https://journals.plos.org/plosone/article?id=1...</td>\n",
       "      <td>Awareness, perception and perpetration of cybe...</td>\n",
       "      <td>The modern online society requires everyone, e...</td>\n",
       "      <td>['https://doi.org/10.1111/j.1746-1561.2008.003...</td>\n",
       "      <td>PLOS</td>\n",
       "      <td>https://doi.org/10.1371/journal.pone.0267702</td>\n",
       "    </tr>\n",
       "    <tr>\n",
       "      <th>1</th>\n",
       "      <td>https://journals.plos.org/plosone/article?id=1...</td>\n",
       "      <td>Validation pipeline for machine learning algor...</td>\n",
       "      <td>A standardized objective evaluation method is ...</td>\n",
       "      <td>['https://doi.org/10.1109/TMI.2014.2377694', '...</td>\n",
       "      <td>PLOS</td>\n",
       "      <td>https://doi.org/10.1371/journal.pone.0267213</td>\n",
       "    </tr>\n",
       "    <tr>\n",
       "      <th>2</th>\n",
       "      <td>https://journals.plos.org/plosone/article?id=1...</td>\n",
       "      <td>Identifying luminal and basal mammary cell spe...</td>\n",
       "      <td>Mammary gland is present in all mammals and us...</td>\n",
       "      <td>['https://doi.org/10.1002/wdev.35', 'https://d...</td>\n",
       "      <td>PLOS</td>\n",
       "      <td>https://doi.org/10.1371/journal.pone.0267211</td>\n",
       "    </tr>\n",
       "    <tr>\n",
       "      <th>3</th>\n",
       "      <td>https://journals.plos.org/plosone/article?id=1...</td>\n",
       "      <td>Using machine learning for the personalised pr...</td>\n",
       "      <td>Revision endoscopic sinus surgery (ESS) is oft...</td>\n",
       "      <td>['https://doi.org/10.4193/Rhin20.600', 'https:...</td>\n",
       "      <td>PLOS</td>\n",
       "      <td>https://doi.org/10.1371/journal.pone.0267146</td>\n",
       "    </tr>\n",
       "    <tr>\n",
       "      <th>4</th>\n",
       "      <td>https://journals.plos.org/plosone/article?id=1...</td>\n",
       "      <td>Underwater acoustic target recognition method ...</td>\n",
       "      <td>To improve the recognition accuracy of underwa...</td>\n",
       "      <td>['https://doi.org/10.3390/e20040243', 'https:/...</td>\n",
       "      <td>PLOS</td>\n",
       "      <td>https://doi.org/10.1371/journal.pone.0266425</td>\n",
       "    </tr>\n",
       "  </tbody>\n",
       "</table>\n",
       "</div>"
      ],
      "text/plain": [
       "                                                link  \\\n",
       "0  https://journals.plos.org/plosone/article?id=1...   \n",
       "1  https://journals.plos.org/plosone/article?id=1...   \n",
       "2  https://journals.plos.org/plosone/article?id=1...   \n",
       "3  https://journals.plos.org/plosone/article?id=1...   \n",
       "4  https://journals.plos.org/plosone/article?id=1...   \n",
       "\n",
       "                                               title  \\\n",
       "0  Awareness, perception and perpetration of cybe...   \n",
       "1  Validation pipeline for machine learning algor...   \n",
       "2  Identifying luminal and basal mammary cell spe...   \n",
       "3  Using machine learning for the personalised pr...   \n",
       "4  Underwater acoustic target recognition method ...   \n",
       "\n",
       "                                            abstract  \\\n",
       "0  The modern online society requires everyone, e...   \n",
       "1  A standardized objective evaluation method is ...   \n",
       "2  Mammary gland is present in all mammals and us...   \n",
       "3  Revision endoscopic sinus surgery (ESS) is oft...   \n",
       "4  To improve the recognition accuracy of underwa...   \n",
       "\n",
       "                                          references journal  \\\n",
       "0  ['https://doi.org/10.1111/j.1746-1561.2008.003...    PLOS   \n",
       "1  ['https://doi.org/10.1109/TMI.2014.2377694', '...    PLOS   \n",
       "2  ['https://doi.org/10.1002/wdev.35', 'https://d...    PLOS   \n",
       "3  ['https://doi.org/10.4193/Rhin20.600', 'https:...    PLOS   \n",
       "4  ['https://doi.org/10.3390/e20040243', 'https:/...    PLOS   \n",
       "\n",
       "                                            doi  \n",
       "0  https://doi.org/10.1371/journal.pone.0267702  \n",
       "1  https://doi.org/10.1371/journal.pone.0267213  \n",
       "2  https://doi.org/10.1371/journal.pone.0267211  \n",
       "3  https://doi.org/10.1371/journal.pone.0267146  \n",
       "4  https://doi.org/10.1371/journal.pone.0266425  "
      ]
     },
     "execution_count": 10,
     "metadata": {},
     "output_type": "execute_result"
    }
   ],
   "source": [
    "df.head()"
   ]
  },
  {
   "cell_type": "code",
   "execution_count": 11,
   "id": "textile-system",
   "metadata": {},
   "outputs": [],
   "source": [
    "# # all references in flat list\n",
    "# all_references = []\n",
    "# for sublist in df.references:\n",
    "#     sub = eval(sublist) # convert from string\n",
    "#     for item in sub:        \n",
    "#         all_references.append(item)    "
   ]
  },
  {
   "cell_type": "code",
   "execution_count": 12,
   "id": "literary-frontier",
   "metadata": {},
   "outputs": [],
   "source": [
    "# initialize journal list\n",
    "journals = []"
   ]
  },
  {
   "cell_type": "code",
   "execution_count": 13,
   "id": "pointed-palestinian",
   "metadata": {},
   "outputs": [],
   "source": [
    "# collect an example link for every journal\n",
    "samples = {}\n",
    "def get_sample_url(url, domain):\n",
    "    if not(domain in samples.keys()):\n",
    "        samples[domain] = url"
   ]
  },
  {
   "cell_type": "code",
   "execution_count": 14,
   "id": "broad-immune",
   "metadata": {},
   "outputs": [],
   "source": [
    "def main():\n",
    "    # will replace references column\n",
    "    all_references = []\n",
    "    counter = 0; # for knowing progress\n",
    "    for sublist in df.references:\n",
    "        sub_references = []\n",
    "        sub = eval(sublist) # bc its stored as string, parse to list     \n",
    "        for link in sub:\n",
    "            try:\n",
    "                # get request and extract domain\n",
    "                request = requests.get(link, headers=headers, verify=False, timeout = 5)\n",
    "                domain = urlparse(request.url).netloc\n",
    "                # append to master list of domains\n",
    "                journals.append(domain)\n",
    "                # collect example article for each domain\n",
    "                get_sample_url(request.url, domain)\n",
    "                # check if domain is in reference file as some journal\n",
    "                if isInRef(domain):            \n",
    "                    # append to list of references for this article\n",
    "                    sub_references.append(link+\"|\"+domain)\n",
    "\n",
    "                    # counter for progress purposes\n",
    "                    counter+=1;\n",
    "                    if counter%25 == 0:\n",
    "                        print(counter)\n",
    "                else:\n",
    "                    # do same thing actually lol\n",
    "                    sub_references.append(link+\"|\"+domain)\n",
    "\n",
    "                    # counter for progress purposes\n",
    "                    counter+=1;\n",
    "                    if counter%25 == 0:\n",
    "                        print(counter)\n",
    "                        \n",
    "            except requests.exceptions.Timeout:\n",
    "                print(\"Timeout occurred\")\n",
    "                    \n",
    "                \n",
    "        # append list of references for this article        \n",
    "        all_references.append(sub_references)\n",
    "        \n",
    "    df.references = all_references\n",
    "    \n",
    "    log(f'Ran analyze_ref.3.ipynb succesfully')\n"
   ]
  },
  {
   "cell_type": "code",
   "execution_count": 15,
   "id": "removable-calvin",
   "metadata": {},
   "outputs": [
    {
     "name": "stdout",
     "output_type": "stream",
     "text": [
      "25\n",
      "50\n",
      "75\n",
      "100\n",
      "125\n",
      "150\n",
      "175\n",
      "200\n",
      "225\n",
      "250\n",
      "275\n",
      "300\n",
      "325\n",
      "350\n",
      "375\n"
     ]
    }
   ],
   "source": [
    "main()"
   ]
  },
  {
   "cell_type": "code",
   "execution_count": 16,
   "id": "southeast-ottawa",
   "metadata": {},
   "outputs": [
    {
     "data": {
      "text/html": [
       "<div>\n",
       "<style scoped>\n",
       "    .dataframe tbody tr th:only-of-type {\n",
       "        vertical-align: middle;\n",
       "    }\n",
       "\n",
       "    .dataframe tbody tr th {\n",
       "        vertical-align: top;\n",
       "    }\n",
       "\n",
       "    .dataframe thead th {\n",
       "        text-align: right;\n",
       "    }\n",
       "</style>\n",
       "<table border=\"1\" class=\"dataframe\">\n",
       "  <thead>\n",
       "    <tr style=\"text-align: right;\">\n",
       "      <th></th>\n",
       "      <th>link</th>\n",
       "      <th>title</th>\n",
       "      <th>abstract</th>\n",
       "      <th>references</th>\n",
       "      <th>journal</th>\n",
       "      <th>doi</th>\n",
       "    </tr>\n",
       "  </thead>\n",
       "  <tbody>\n",
       "    <tr>\n",
       "      <th>0</th>\n",
       "      <td>https://journals.plos.org/plosone/article?id=1...</td>\n",
       "      <td>Awareness, perception and perpetration of cybe...</td>\n",
       "      <td>The modern online society requires everyone, e...</td>\n",
       "      <td>[https://doi.org/10.1111/j.1746-1561.2008.0033...</td>\n",
       "      <td>PLOS</td>\n",
       "      <td>https://doi.org/10.1371/journal.pone.0267702</td>\n",
       "    </tr>\n",
       "    <tr>\n",
       "      <th>1</th>\n",
       "      <td>https://journals.plos.org/plosone/article?id=1...</td>\n",
       "      <td>Validation pipeline for machine learning algor...</td>\n",
       "      <td>A standardized objective evaluation method is ...</td>\n",
       "      <td>[https://doi.org/10.1109/TMI.2014.2377694|ieee...</td>\n",
       "      <td>PLOS</td>\n",
       "      <td>https://doi.org/10.1371/journal.pone.0267213</td>\n",
       "    </tr>\n",
       "    <tr>\n",
       "      <th>2</th>\n",
       "      <td>https://journals.plos.org/plosone/article?id=1...</td>\n",
       "      <td>Identifying luminal and basal mammary cell spe...</td>\n",
       "      <td>Mammary gland is present in all mammals and us...</td>\n",
       "      <td>[https://doi.org/10.1002/wdev.35|onlinelibrary...</td>\n",
       "      <td>PLOS</td>\n",
       "      <td>https://doi.org/10.1371/journal.pone.0267211</td>\n",
       "    </tr>\n",
       "    <tr>\n",
       "      <th>3</th>\n",
       "      <td>https://journals.plos.org/plosone/article?id=1...</td>\n",
       "      <td>Using machine learning for the personalised pr...</td>\n",
       "      <td>Revision endoscopic sinus surgery (ESS) is oft...</td>\n",
       "      <td>[https://doi.org/10.4193/Rhin20.600|www.rhinol...</td>\n",
       "      <td>PLOS</td>\n",
       "      <td>https://doi.org/10.1371/journal.pone.0267146</td>\n",
       "    </tr>\n",
       "    <tr>\n",
       "      <th>4</th>\n",
       "      <td>https://journals.plos.org/plosone/article?id=1...</td>\n",
       "      <td>Underwater acoustic target recognition method ...</td>\n",
       "      <td>To improve the recognition accuracy of underwa...</td>\n",
       "      <td>[https://doi.org/10.3390/e20040243|www.mdpi.co...</td>\n",
       "      <td>PLOS</td>\n",
       "      <td>https://doi.org/10.1371/journal.pone.0266425</td>\n",
       "    </tr>\n",
       "  </tbody>\n",
       "</table>\n",
       "</div>"
      ],
      "text/plain": [
       "                                                link  \\\n",
       "0  https://journals.plos.org/plosone/article?id=1...   \n",
       "1  https://journals.plos.org/plosone/article?id=1...   \n",
       "2  https://journals.plos.org/plosone/article?id=1...   \n",
       "3  https://journals.plos.org/plosone/article?id=1...   \n",
       "4  https://journals.plos.org/plosone/article?id=1...   \n",
       "\n",
       "                                               title  \\\n",
       "0  Awareness, perception and perpetration of cybe...   \n",
       "1  Validation pipeline for machine learning algor...   \n",
       "2  Identifying luminal and basal mammary cell spe...   \n",
       "3  Using machine learning for the personalised pr...   \n",
       "4  Underwater acoustic target recognition method ...   \n",
       "\n",
       "                                            abstract  \\\n",
       "0  The modern online society requires everyone, e...   \n",
       "1  A standardized objective evaluation method is ...   \n",
       "2  Mammary gland is present in all mammals and us...   \n",
       "3  Revision endoscopic sinus surgery (ESS) is oft...   \n",
       "4  To improve the recognition accuracy of underwa...   \n",
       "\n",
       "                                          references journal  \\\n",
       "0  [https://doi.org/10.1111/j.1746-1561.2008.0033...    PLOS   \n",
       "1  [https://doi.org/10.1109/TMI.2014.2377694|ieee...    PLOS   \n",
       "2  [https://doi.org/10.1002/wdev.35|onlinelibrary...    PLOS   \n",
       "3  [https://doi.org/10.4193/Rhin20.600|www.rhinol...    PLOS   \n",
       "4  [https://doi.org/10.3390/e20040243|www.mdpi.co...    PLOS   \n",
       "\n",
       "                                            doi  \n",
       "0  https://doi.org/10.1371/journal.pone.0267702  \n",
       "1  https://doi.org/10.1371/journal.pone.0267213  \n",
       "2  https://doi.org/10.1371/journal.pone.0267211  \n",
       "3  https://doi.org/10.1371/journal.pone.0267146  \n",
       "4  https://doi.org/10.1371/journal.pone.0266425  "
      ]
     },
     "execution_count": 16,
     "metadata": {},
     "output_type": "execute_result"
    }
   ],
   "source": [
    "df.head()"
   ]
  },
  {
   "cell_type": "code",
   "execution_count": 17,
   "id": "caring-island",
   "metadata": {},
   "outputs": [],
   "source": [
    "df.to_csv(r'results.3.csv', sep='\\t', index = False)"
   ]
  },
  {
   "cell_type": "code",
   "execution_count": 18,
   "id": "suited-essence",
   "metadata": {},
   "outputs": [
    {
     "data": {
      "text/plain": [
       "396"
      ]
     },
     "execution_count": 18,
     "metadata": {},
     "output_type": "execute_result"
    }
   ],
   "source": [
    "len(journals)"
   ]
  },
  {
   "cell_type": "code",
   "execution_count": 19,
   "id": "prompt-performance",
   "metadata": {},
   "outputs": [],
   "source": [
    "counter = Counter(journals)"
   ]
  },
  {
   "cell_type": "code",
   "execution_count": 20,
   "id": "checked-charter",
   "metadata": {},
   "outputs": [
    {
     "data": {
      "text/plain": [
       "[('linkinghub.elsevier.com', 107),\n",
       " ('onlinelibrary.wiley.com', 47),\n",
       " ('link.springer.com', 27),\n",
       " ('journals.lww.com', 15),\n",
       " ('journals.sagepub.com', 14),\n",
       " ('journals.plos.org', 14),\n",
       " ('www.nature.com', 13),\n",
       " ('www.tandfonline.com', 12),\n",
       " ('www.frontiersin.org', 12),\n",
       " ('doi.org', 12),\n",
       " ('ieeexplore.ieee.org', 9),\n",
       " ('academic.oup.com', 9),\n",
       " ('journals.physiology.org', 9),\n",
       " ('www.mdpi.com', 8),\n",
       " ('www.hindawi.com', 7),\n",
       " ('www.rhinologyjournal.com', 6),\n",
       " ('www.liebertpub.com', 5),\n",
       " ('doi.apa.org:443', 5),\n",
       " ('jamanetwork.com', 4),\n",
       " ('breast-cancer-research.biomedcentral.com', 4),\n",
       " ('bmcmedinformdecismak.biomedcentral.com', 3),\n",
       " ('www.science.org', 3),\n",
       " ('www.cambridge.org', 3),\n",
       " ('kns.cnki.net', 3),\n",
       " ('bmcpublichealth.biomedcentral.com', 2),\n",
       " ('pnas.org', 2),\n",
       " ('www.karger.com', 2),\n",
       " ('aip.scitation.org', 2),\n",
       " ('www.acpjournals.org', 2),\n",
       " ('validate.perfdrive.com', 2),\n",
       " ('www.scielo.br', 2),\n",
       " ('journals.aps.org', 2),\n",
       " ('content.iospress.com:443', 2),\n",
       " ('www.cnki.net', 2),\n",
       " ('publications.aap.org', 1),\n",
       " ('bmcpsychiatry.biomedcentral.com', 1),\n",
       " ('bjgp.org', 1),\n",
       " ('pubs.rsna.org', 1),\n",
       " ('journals.biologists.com', 1),\n",
       " ('www.ijdb.ehu.es', 1),\n",
       " ('aacrjournals.org', 1),\n",
       " ('gan.sagepub.com', 1),\n",
       " ('bmccancer.biomedcentral.com', 1),\n",
       " ('bmcpulmmed.biomedcentral.com', 1),\n",
       " ('projecteuclid.org', 1),\n",
       " ('pubs.acs.org', 1),\n",
       " ('bmjopen.bmj.com', 1),\n",
       " ('www.jstor.org', 1),\n",
       " ('asmedigitalcollection.asme.org', 1),\n",
       " ('lww.com', 1),\n",
       " ('www.ccjm.org', 1),\n",
       " ('journals.humankinetics.com', 1),\n",
       " ('www.jneurosci.org', 1),\n",
       " ('journals.tubitak.gov.tr', 1),\n",
       " ('www.worldscientific.com', 1),\n",
       " ('dl.acm.org', 1),\n",
       " ('ojs.aaai.org', 1),\n",
       " ('wseas.com', 1),\n",
       " ('www.spiedigitallibrary.org', 1)]"
      ]
     },
     "execution_count": 20,
     "metadata": {},
     "output_type": "execute_result"
    }
   ],
   "source": [
    "counter.most_common()"
   ]
  },
  {
   "cell_type": "code",
   "execution_count": 21,
   "id": "prepared-incentive",
   "metadata": {},
   "outputs": [
    {
     "data": {
      "text/plain": [
       "{'onlinelibrary.wiley.com': 'https://onlinelibrary.wiley.com/doi/10.1111/j.1746-1561.2008.00335.x',\n",
       " 'link.springer.com': 'https://link.springer.com/article/10.1007/s10964-017-0678-4',\n",
       " 'www.liebertpub.com': 'https://www.liebertpub.com/doi/10.1089/cyber.2012.0207',\n",
       " 'journals.sagepub.com': 'https://journals.sagepub.com/doi/10.1177/1010539514548759',\n",
       " 'linkinghub.elsevier.com': 'https://linkinghub.elsevier.com/retrieve/pii/S0145213415001131',\n",
       " 'jamanetwork.com': 'https://jamanetwork.com/journals/jamapsychiatry/fullarticle/210833',\n",
       " 'doi.apa.org:443': 'https://doi.apa.org:443/doiLanding?doi=10.1037/a0035618',\n",
       " 'www.tandfonline.com': 'https://www.tandfonline.com/doi/full/10.1080/13811118.2017.1304304',\n",
       " 'publications.aap.org': 'https://publications.aap.org/pediatrics/article/127/4/800/65133/The-Impact-of-Social-Media-on-Children-Adolescents',\n",
       " 'bmcpsychiatry.biomedcentral.com': 'https://bmcpsychiatry.biomedcentral.com/articles/10.1186/s12888-021-03365-1',\n",
       " 'bjgp.org': 'https://bjgp.org/content/71/704/122',\n",
       " 'bmcpublichealth.biomedcentral.com': 'https://bmcpublichealth.biomedcentral.com/articles/10.1186/s12889-019-7876-9',\n",
       " 'www.mdpi.com': 'https://www.mdpi.com/1660-4601/16/24/4893',\n",
       " 'ieeexplore.ieee.org': 'https://ieeexplore.ieee.org/document/6975210/',\n",
       " 'academic.oup.com': 'https://academic.oup.com/jnci/article/100/24/1763/2606882',\n",
       " 'www.nature.com': 'https://www.nature.com/articles/s41591-021-01312-x',\n",
       " 'pubs.rsna.org': 'https://pubs.rsna.org/doi/10.1148/radiographics.21.2.g01mr17403',\n",
       " 'breast-cancer-research.biomedcentral.com': 'https://breast-cancer-research.biomedcentral.com/articles/10.1186/s13058-017-0921-7',\n",
       " 'journals.biologists.com': 'https://journals.biologists.com/dev/article/142/6/1028/47198/Mammary-gland-development-cell-fate-specification',\n",
       " 'www.ijdb.ehu.es': 'http://www.ijdb.ehu.es/web/paper.php?doi=113385mm',\n",
       " 'www.frontiersin.org': 'https://www.frontiersin.org/articles/10.3389/fgene.2020.599970/full',\n",
       " 'pnas.org': 'https://pnas.org/doi/full/10.1073/pnas.1303053111',\n",
       " 'journals.plos.org': 'https://journals.plos.org/plosone/article?id=10.1371/journal.pone.0112987',\n",
       " 'aacrjournals.org': 'https://aacrjournals.org/cancerres/article/64/9/3037/517895/Expression-Profiling-of-Purified-Normal-Human',\n",
       " 'gan.sagepub.com': 'https://gan.sagepub.com/lookup/doi/10.1177/1947601913496813',\n",
       " 'journals.lww.com': 'https://journals.lww.com/appliedimmunohist/Abstract/2014/02000/Claudin_3_and_Claudin_4__Distinct_Prognostic.6.aspx',\n",
       " 'bmccancer.biomedcentral.com': 'https://bmccancer.biomedcentral.com/articles/10.1186/1471-2407-13-268',\n",
       " 'www.rhinologyjournal.com': 'https://www.rhinologyjournal.com/Documents/Supplements/supplement_29.pdf',\n",
       " 'bmcpulmmed.biomedcentral.com': 'https://bmcpulmmed.biomedcentral.com/articles/10.1186/s12890-021-01578-4',\n",
       " 'projecteuclid.org': 'https://projecteuclid.org/journals/annals-of-statistics/volume-29/issue-5',\n",
       " 'bmcmedinformdecismak.biomedcentral.com': 'https://bmcmedinformdecismak.biomedcentral.com/articles/10.1186/s12911-015-0203-1',\n",
       " 'pubs.acs.org': 'https://pubs.acs.org/doi/10.1021/acs.analchem.0c04497',\n",
       " 'bmjopen.bmj.com': 'https://bmjopen.bmj.com/content/8/10/e022173',\n",
       " 'www.hindawi.com': 'https://www.hindawi.com/journals/cin/2018/1214301/',\n",
       " 'www.karger.com': 'https://www.karger.com/Article/FullText/499453',\n",
       " 'www.science.org': 'https://www.science.org/doi/10.1126/science.168.3934.939',\n",
       " 'www.jstor.org': 'https://www.jstor.org/stable/10.2307/20022754?origin=crossref',\n",
       " 'asmedigitalcollection.asme.org': 'https://asmedigitalcollection.asme.org/appliedmechanics/article-abstract/87/10/101003/1084232/Scaling-Effects-on-the-Residual-Thermomechanical?redirectedFrom=fulltext',\n",
       " 'aip.scitation.org': 'https://aip.scitation.org/doi/10.1063/1.442402',\n",
       " 'www.acpjournals.org': 'https://www.acpjournals.org/doi/10.7326/0003-4819-144-8-200604180-00009',\n",
       " 'lww.com': 'https://lww.com/pages/default.aspx',\n",
       " 'www.ccjm.org': 'https://www.ccjm.org/content/76/10_suppl_4/S60',\n",
       " 'journals.physiology.org': 'https://journals.physiology.org/doi/full/10.1152/jn.10898.2011',\n",
       " 'validate.perfdrive.com': 'https://validate.perfdrive.com/?ssa=74a2859d-2184-4854-b5c5-f2598819c2fb&ssb=31611215404&ssc=https%3A%2F%2Fiopscience.iop.org%2Farticle%2F10.1088%2F1741-2552%2Faa7960&ssi=accdaabb-8427-4b3b-8be4-1eb0ab9da7bf&ssk=support@shieldsquare.com&ssm=77465967551187111103223292985039&ssn=71a16ff32e38eb90d21a41bc7ff7ef75835594ef8a41-5923-4e88-bb2466&sso=635dac6f-f26e326178a0d6a23107ac2334ee7c7c55a2fd2e6e1f28c4&ssp=72574729681651540476165154662753975&ssq=00564843662194813755836621255774964056699&ssr=MjQuMTY4LjczLjE5Mg==&sst=Mozilla/5.0%20(Windows%20NT%2010.0;%20Win64;%20x64)%20AppleWebKit/537.36%20(KHTML,%20like%20Gecko)%20Chrome/70.0.3538.102%20Safari/537.36%20Edge/18.19582&ssv=&ssw=&ssx=W10=',\n",
       " 'www.scielo.br': 'https://www.scielo.br/j/rbfis/a/hFQTppgw4q3jGBCDKV9fdCH/?lang=pt',\n",
       " 'journals.aps.org': 'https://journals.aps.org/prl/abstract/10.1103/PhysRevLett.89.068102',\n",
       " 'journals.humankinetics.com': 'https://journals.humankinetics.com/view/journals/mcj/3/1/article-p28.xml',\n",
       " 'www.jneurosci.org': 'https://www.jneurosci.org/content/34/43/14420',\n",
       " 'content.iospress.com:443': 'https://content.iospress.com:443/articles/journal-of-vestibular-research/ves6-1-07',\n",
       " 'doi.org': 'https://doi.org/10.3864/j.issn.0578-1752.2020.12.005',\n",
       " 'journals.tubitak.gov.tr': 'https://journals.tubitak.gov.tr/elektrik/issues/elk-19-27-3/elk-27-3-6-1809-181.pdf',\n",
       " 'www.cambridge.org': 'https://www.cambridge.org/core/journals/psychological-medicine/article/knowing-me-knowing-you-theory-of-mind-in-ai/C935A66A018117BA5B1991071393655F',\n",
       " 'www.worldscientific.com': 'https://www.worldscientific.com/doi/abs/10.1142/S0129065720500550',\n",
       " 'dl.acm.org': 'https://dl.acm.org/doi/10.1145/3398036',\n",
       " 'ojs.aaai.org': 'https://ojs.aaai.org//index.php/aimagazine/article/view/2157',\n",
       " 'wseas.com': 'https://wseas.com/journals/bae/2020/b405107-1055.pdf',\n",
       " 'www.cnki.net': 'https://www.cnki.net/kcms/doi/10.15885/j.cnki.cn11-4683/z.2009.02.001.html',\n",
       " 'www.spiedigitallibrary.org': 'https://www.spiedigitallibrary.org/conference-proceedings-of-spie/7824/1/A-high-resolution-index-for-vegetation-extraction-in-IKONOS-images/10.1117/12.866187.short?SSO=1',\n",
       " 'kns.cnki.net': 'https://kns.cnki.net/kcms/detail/detail.aspx?doi=10.13287/j.1001-9332.201912.016'}"
      ]
     },
     "execution_count": 21,
     "metadata": {},
     "output_type": "execute_result"
    }
   ],
   "source": [
    "samples"
   ]
  },
  {
   "cell_type": "code",
   "execution_count": null,
   "id": "present-anniversary",
   "metadata": {},
   "outputs": [],
   "source": []
  }
 ],
 "metadata": {
  "kernelspec": {
   "display_name": "Python 3",
   "language": "python",
   "name": "python3"
  },
  "language_info": {
   "codemirror_mode": {
    "name": "ipython",
    "version": 3
   },
   "file_extension": ".py",
   "mimetype": "text/x-python",
   "name": "python",
   "nbconvert_exporter": "python",
   "pygments_lexer": "ipython3",
   "version": "3.8.12"
  }
 },
 "nbformat": 4,
 "nbformat_minor": 5
}
