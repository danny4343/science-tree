{
 "cells": [
  {
   "cell_type": "markdown",
   "id": "neutral-roads",
   "metadata": {},
   "source": [
    "## Replace doi references with actual links"
   ]
  },
  {
   "cell_type": "code",
   "execution_count": 1,
   "id": "running-bolivia",
   "metadata": {},
   "outputs": [],
   "source": [
    "from bs4 import BeautifulSoup"
   ]
  },
  {
   "cell_type": "code",
   "execution_count": 2,
   "id": "afraid-presence",
   "metadata": {},
   "outputs": [],
   "source": [
    "import requests"
   ]
  },
  {
   "cell_type": "code",
   "execution_count": 3,
   "id": "distributed-mathematics",
   "metadata": {},
   "outputs": [],
   "source": [
    "import pandas as pd\n",
    "from collections import Counter"
   ]
  },
  {
   "cell_type": "code",
   "execution_count": 4,
   "id": "varied-drinking",
   "metadata": {},
   "outputs": [],
   "source": [
    "from urllib.parse import urlparse"
   ]
  },
  {
   "cell_type": "code",
   "execution_count": 5,
   "id": "competent-credit",
   "metadata": {},
   "outputs": [],
   "source": [
    "from functions import log, isInRef"
   ]
  },
  {
   "cell_type": "code",
   "execution_count": 6,
   "id": "square-pregnancy",
   "metadata": {},
   "outputs": [],
   "source": [
    "import warnings\n",
    "warnings.filterwarnings('ignore')"
   ]
  },
  {
   "cell_type": "code",
   "execution_count": 7,
   "id": "empirical-transmission",
   "metadata": {},
   "outputs": [],
   "source": [
    "headers = { # this is my header\n",
    "    \"User-Agent\": \"Mozilla/5.0 (Windows NT 10.0; Win64; x64) AppleWebKit/537.36 (KHTML, like Gecko) Chrome/70.0.3538.102 Safari/537.36 Edge/18.19582\"\n",
    "}"
   ]
  },
  {
   "cell_type": "code",
   "execution_count": 8,
   "id": "adjacent-decimal",
   "metadata": {},
   "outputs": [],
   "source": [
    "# dictionary for getting journal name from url\n",
    "journals_df = pd.read_csv('domain_to_journal.csv', delimiter='\\t')\n",
    "journal_ref = pd.Series(journals_df.journal.values,index=journals_df.domain).to_dict()\n",
    "# dict: journal_ref['url'] = journal name"
   ]
  },
  {
   "cell_type": "code",
   "execution_count": 9,
   "id": "demanding-shock",
   "metadata": {},
   "outputs": [],
   "source": [
    "df = pd.read_csv('results.2.csv', delimiter= '\\t')"
   ]
  },
  {
   "cell_type": "code",
   "execution_count": 10,
   "id": "sealed-computer",
   "metadata": {},
   "outputs": [
    {
     "data": {
      "text/html": [
       "<div>\n",
       "<style scoped>\n",
       "    .dataframe tbody tr th:only-of-type {\n",
       "        vertical-align: middle;\n",
       "    }\n",
       "\n",
       "    .dataframe tbody tr th {\n",
       "        vertical-align: top;\n",
       "    }\n",
       "\n",
       "    .dataframe thead th {\n",
       "        text-align: right;\n",
       "    }\n",
       "</style>\n",
       "<table border=\"1\" class=\"dataframe\">\n",
       "  <thead>\n",
       "    <tr style=\"text-align: right;\">\n",
       "      <th></th>\n",
       "      <th>link</th>\n",
       "      <th>journal_domain</th>\n",
       "      <th>title</th>\n",
       "      <th>abstract</th>\n",
       "      <th>references</th>\n",
       "      <th>doi</th>\n",
       "    </tr>\n",
       "  </thead>\n",
       "  <tbody>\n",
       "    <tr>\n",
       "      <th>0</th>\n",
       "      <td>https://doi.org/10.1371/journal.pone.0174944</td>\n",
       "      <td>journals.plos.org</td>\n",
       "      <td>Can machine-learning improve cardiovascular ri...</td>\n",
       "      <td>Current approaches to predict cardiovascular r...</td>\n",
       "      <td>['https://doi.org/10.1136/bmj.39609.449676.25'...</td>\n",
       "      <td>https://doi.org/10.1371/journal.pone.0174944</td>\n",
       "    </tr>\n",
       "    <tr>\n",
       "      <th>1</th>\n",
       "      <td>https://doi.org/10.1371/journal.pone.0181142</td>\n",
       "      <td>journals.plos.org</td>\n",
       "      <td>\"What is relevant in a text document?\": An int...</td>\n",
       "      <td>Text documents can be described by a number of...</td>\n",
       "      <td>['https://doi.org/10.1108/eb026526', 'https://...</td>\n",
       "      <td>https://doi.org/10.1371/journal.pone.0181142</td>\n",
       "    </tr>\n",
       "    <tr>\n",
       "      <th>2</th>\n",
       "      <td>https://doi.org/10.1371/journal.pone.0164270</td>\n",
       "      <td>journals.plos.org</td>\n",
       "      <td>Reversible Cryopreservation of Living Cells Us...</td>\n",
       "      <td>Rapid cooling of aqueous solutions is a useful...</td>\n",
       "      <td>['https://doi.org/10.1038/164666a0', 'https://...</td>\n",
       "      <td>https://doi.org/10.1371/journal.pone.0164270</td>\n",
       "    </tr>\n",
       "    <tr>\n",
       "      <th>3</th>\n",
       "      <td>https://doi.org/10.1371/journal.pone.0144916</td>\n",
       "      <td>journals.plos.org</td>\n",
       "      <td>Improving Cycling Performance: Transcranial Di...</td>\n",
       "      <td>The central nervous system seems to have an im...</td>\n",
       "      <td>['https://doi.org/10.1152/japplphysiol.91324.2...</td>\n",
       "      <td>https://doi.org/10.1371/journal.pone.0144916</td>\n",
       "    </tr>\n",
       "    <tr>\n",
       "      <th>4</th>\n",
       "      <td>https://doi.org/10.1371/journal.pone.0089157</td>\n",
       "      <td>journals.plos.org</td>\n",
       "      <td>Changes in Voluntary Activation Assessed by Tr...</td>\n",
       "      <td>Maximal central motor drive is known to decrea...</td>\n",
       "      <td>[]</td>\n",
       "      <td>https://doi.org/10.1371/journal.pone.0089157</td>\n",
       "    </tr>\n",
       "  </tbody>\n",
       "</table>\n",
       "</div>"
      ],
      "text/plain": [
       "                                           link     journal_domain  \\\n",
       "0  https://doi.org/10.1371/journal.pone.0174944  journals.plos.org   \n",
       "1  https://doi.org/10.1371/journal.pone.0181142  journals.plos.org   \n",
       "2  https://doi.org/10.1371/journal.pone.0164270  journals.plos.org   \n",
       "3  https://doi.org/10.1371/journal.pone.0144916  journals.plos.org   \n",
       "4  https://doi.org/10.1371/journal.pone.0089157  journals.plos.org   \n",
       "\n",
       "                                               title  \\\n",
       "0  Can machine-learning improve cardiovascular ri...   \n",
       "1  \"What is relevant in a text document?\": An int...   \n",
       "2  Reversible Cryopreservation of Living Cells Us...   \n",
       "3  Improving Cycling Performance: Transcranial Di...   \n",
       "4  Changes in Voluntary Activation Assessed by Tr...   \n",
       "\n",
       "                                            abstract  \\\n",
       "0  Current approaches to predict cardiovascular r...   \n",
       "1  Text documents can be described by a number of...   \n",
       "2  Rapid cooling of aqueous solutions is a useful...   \n",
       "3  The central nervous system seems to have an im...   \n",
       "4  Maximal central motor drive is known to decrea...   \n",
       "\n",
       "                                          references  \\\n",
       "0  ['https://doi.org/10.1136/bmj.39609.449676.25'...   \n",
       "1  ['https://doi.org/10.1108/eb026526', 'https://...   \n",
       "2  ['https://doi.org/10.1038/164666a0', 'https://...   \n",
       "3  ['https://doi.org/10.1152/japplphysiol.91324.2...   \n",
       "4                                                 []   \n",
       "\n",
       "                                            doi  \n",
       "0  https://doi.org/10.1371/journal.pone.0174944  \n",
       "1  https://doi.org/10.1371/journal.pone.0181142  \n",
       "2  https://doi.org/10.1371/journal.pone.0164270  \n",
       "3  https://doi.org/10.1371/journal.pone.0144916  \n",
       "4  https://doi.org/10.1371/journal.pone.0089157  "
      ]
     },
     "execution_count": 10,
     "metadata": {},
     "output_type": "execute_result"
    }
   ],
   "source": [
    "df.head()"
   ]
  },
  {
   "cell_type": "code",
   "execution_count": 11,
   "id": "therapeutic-redhead",
   "metadata": {},
   "outputs": [],
   "source": [
    "# # all references in flat list\n",
    "# all_references = []\n",
    "# for sublist in df.references:\n",
    "#     sub = eval(sublist) # convert from string\n",
    "#     for item in sub:        \n",
    "#         all_references.append(item)    "
   ]
  },
  {
   "cell_type": "code",
   "execution_count": 12,
   "id": "textile-mercury",
   "metadata": {},
   "outputs": [],
   "source": [
    "# initialize journal list\n",
    "journals = []"
   ]
  },
  {
   "cell_type": "code",
   "execution_count": 13,
   "id": "opposite-fossil",
   "metadata": {},
   "outputs": [],
   "source": [
    "# collect an example link for every journal\n",
    "samples = {}\n",
    "def get_sample_url(url, domain):\n",
    "    if not(domain in samples.keys()):\n",
    "        samples[domain] = url"
   ]
  },
  {
   "cell_type": "code",
   "execution_count": 14,
   "id": "gothic-change",
   "metadata": {},
   "outputs": [],
   "source": [
    "def main():\n",
    "    # will replace references column\n",
    "    all_references = []\n",
    "    counter = 0; # for knowing progress\n",
    "    for sublist in df.references:\n",
    "        sub_references = []\n",
    "        sub = eval(sublist) # bc its stored as string, parse to list     \n",
    "        for link in sub:\n",
    "            try:\n",
    "                # get request and extract domain\n",
    "                request = requests.get(link, headers=headers, verify=False, timeout = 5)\n",
    "                domain = urlparse(request.url).netloc\n",
    "                # append to master list of domains\n",
    "                journals.append(domain)\n",
    "                # collect example article for each domain\n",
    "                get_sample_url(request.url, domain)\n",
    "                # check if domain is in reference file as some journal\n",
    "                if isInRef(domain):            \n",
    "                    # append to list of references for this article\n",
    "                    sub_references.append(link+\"|\"+domain)\n",
    "\n",
    "                    # counter for progress purposes\n",
    "                    counter+=1;\n",
    "                    if counter%25 == 0:\n",
    "                        print(counter)\n",
    "                else:\n",
    "                    # do same thing actually lol\n",
    "                    sub_references.append(link+\"|\"+domain)\n",
    "\n",
    "                    # counter for progress purposes\n",
    "                    counter+=1;\n",
    "                    if counter%25 == 0:\n",
    "                        print(counter)\n",
    "                        \n",
    "            except:\n",
    "                print(\"Timeout occurred\")\n",
    "                    \n",
    "                \n",
    "        # append list of references for this article        \n",
    "        all_references.append(sub_references)\n",
    "        \n",
    "    df.references = all_references\n",
    "    \n",
    "    log(f'Ran analyze_ref.3.ipynb succesfully')\n"
   ]
  },
  {
   "cell_type": "code",
   "execution_count": 15,
   "id": "horizontal-protest",
   "metadata": {},
   "outputs": [
    {
     "name": "stdout",
     "output_type": "stream",
     "text": [
      "25\n",
      "50\n",
      "75\n",
      "100\n",
      "125\n",
      "Timeout occurred\n"
     ]
    }
   ],
   "source": [
    "main()"
   ]
  },
  {
   "cell_type": "code",
   "execution_count": 16,
   "id": "careful-hudson",
   "metadata": {},
   "outputs": [
    {
     "data": {
      "text/html": [
       "<div>\n",
       "<style scoped>\n",
       "    .dataframe tbody tr th:only-of-type {\n",
       "        vertical-align: middle;\n",
       "    }\n",
       "\n",
       "    .dataframe tbody tr th {\n",
       "        vertical-align: top;\n",
       "    }\n",
       "\n",
       "    .dataframe thead th {\n",
       "        text-align: right;\n",
       "    }\n",
       "</style>\n",
       "<table border=\"1\" class=\"dataframe\">\n",
       "  <thead>\n",
       "    <tr style=\"text-align: right;\">\n",
       "      <th></th>\n",
       "      <th>link</th>\n",
       "      <th>journal_domain</th>\n",
       "      <th>title</th>\n",
       "      <th>abstract</th>\n",
       "      <th>references</th>\n",
       "      <th>doi</th>\n",
       "    </tr>\n",
       "  </thead>\n",
       "  <tbody>\n",
       "    <tr>\n",
       "      <th>0</th>\n",
       "      <td>https://doi.org/10.1371/journal.pone.0174944</td>\n",
       "      <td>journals.plos.org</td>\n",
       "      <td>Can machine-learning improve cardiovascular ri...</td>\n",
       "      <td>Current approaches to predict cardiovascular r...</td>\n",
       "      <td>[https://doi.org/10.1136/bmj.39609.449676.25|w...</td>\n",
       "      <td>https://doi.org/10.1371/journal.pone.0174944</td>\n",
       "    </tr>\n",
       "    <tr>\n",
       "      <th>1</th>\n",
       "      <td>https://doi.org/10.1371/journal.pone.0181142</td>\n",
       "      <td>journals.plos.org</td>\n",
       "      <td>\"What is relevant in a text document?\": An int...</td>\n",
       "      <td>Text documents can be described by a number of...</td>\n",
       "      <td>[https://doi.org/10.1108/eb026526|www.emerald....</td>\n",
       "      <td>https://doi.org/10.1371/journal.pone.0181142</td>\n",
       "    </tr>\n",
       "    <tr>\n",
       "      <th>2</th>\n",
       "      <td>https://doi.org/10.1371/journal.pone.0164270</td>\n",
       "      <td>journals.plos.org</td>\n",
       "      <td>Reversible Cryopreservation of Living Cells Us...</td>\n",
       "      <td>Rapid cooling of aqueous solutions is a useful...</td>\n",
       "      <td>[https://doi.org/10.1038/164666a0|www.nature.c...</td>\n",
       "      <td>https://doi.org/10.1371/journal.pone.0164270</td>\n",
       "    </tr>\n",
       "    <tr>\n",
       "      <th>3</th>\n",
       "      <td>https://doi.org/10.1371/journal.pone.0144916</td>\n",
       "      <td>journals.plos.org</td>\n",
       "      <td>Improving Cycling Performance: Transcranial Di...</td>\n",
       "      <td>The central nervous system seems to have an im...</td>\n",
       "      <td>[https://doi.org/10.1152/japplphysiol.91324.20...</td>\n",
       "      <td>https://doi.org/10.1371/journal.pone.0144916</td>\n",
       "    </tr>\n",
       "    <tr>\n",
       "      <th>4</th>\n",
       "      <td>https://doi.org/10.1371/journal.pone.0089157</td>\n",
       "      <td>journals.plos.org</td>\n",
       "      <td>Changes in Voluntary Activation Assessed by Tr...</td>\n",
       "      <td>Maximal central motor drive is known to decrea...</td>\n",
       "      <td>[]</td>\n",
       "      <td>https://doi.org/10.1371/journal.pone.0089157</td>\n",
       "    </tr>\n",
       "  </tbody>\n",
       "</table>\n",
       "</div>"
      ],
      "text/plain": [
       "                                           link     journal_domain  \\\n",
       "0  https://doi.org/10.1371/journal.pone.0174944  journals.plos.org   \n",
       "1  https://doi.org/10.1371/journal.pone.0181142  journals.plos.org   \n",
       "2  https://doi.org/10.1371/journal.pone.0164270  journals.plos.org   \n",
       "3  https://doi.org/10.1371/journal.pone.0144916  journals.plos.org   \n",
       "4  https://doi.org/10.1371/journal.pone.0089157  journals.plos.org   \n",
       "\n",
       "                                               title  \\\n",
       "0  Can machine-learning improve cardiovascular ri...   \n",
       "1  \"What is relevant in a text document?\": An int...   \n",
       "2  Reversible Cryopreservation of Living Cells Us...   \n",
       "3  Improving Cycling Performance: Transcranial Di...   \n",
       "4  Changes in Voluntary Activation Assessed by Tr...   \n",
       "\n",
       "                                            abstract  \\\n",
       "0  Current approaches to predict cardiovascular r...   \n",
       "1  Text documents can be described by a number of...   \n",
       "2  Rapid cooling of aqueous solutions is a useful...   \n",
       "3  The central nervous system seems to have an im...   \n",
       "4  Maximal central motor drive is known to decrea...   \n",
       "\n",
       "                                          references  \\\n",
       "0  [https://doi.org/10.1136/bmj.39609.449676.25|w...   \n",
       "1  [https://doi.org/10.1108/eb026526|www.emerald....   \n",
       "2  [https://doi.org/10.1038/164666a0|www.nature.c...   \n",
       "3  [https://doi.org/10.1152/japplphysiol.91324.20...   \n",
       "4                                                 []   \n",
       "\n",
       "                                            doi  \n",
       "0  https://doi.org/10.1371/journal.pone.0174944  \n",
       "1  https://doi.org/10.1371/journal.pone.0181142  \n",
       "2  https://doi.org/10.1371/journal.pone.0164270  \n",
       "3  https://doi.org/10.1371/journal.pone.0144916  \n",
       "4  https://doi.org/10.1371/journal.pone.0089157  "
      ]
     },
     "execution_count": 16,
     "metadata": {},
     "output_type": "execute_result"
    }
   ],
   "source": [
    "df.head()"
   ]
  },
  {
   "cell_type": "code",
   "execution_count": 17,
   "id": "future-partnership",
   "metadata": {},
   "outputs": [],
   "source": [
    "df.to_csv(r'results.3.csv', sep='\\t', index = False)"
   ]
  },
  {
   "cell_type": "code",
   "execution_count": 18,
   "id": "noted-firewall",
   "metadata": {},
   "outputs": [
    {
     "data": {
      "text/plain": [
       "137"
      ]
     },
     "execution_count": 18,
     "metadata": {},
     "output_type": "execute_result"
    }
   ],
   "source": [
    "len(journals)"
   ]
  },
  {
   "cell_type": "code",
   "execution_count": 19,
   "id": "comprehensive-concept",
   "metadata": {},
   "outputs": [],
   "source": [
    "counter = Counter(journals)"
   ]
  },
  {
   "cell_type": "code",
   "execution_count": 20,
   "id": "familiar-uruguay",
   "metadata": {},
   "outputs": [
    {
     "data": {
      "text/plain": [
       "[('linkinghub.elsevier.com', 42),\n",
       " ('onlinelibrary.wiley.com', 16),\n",
       " ('link.springer.com', 12),\n",
       " ('journals.plos.org', 8),\n",
       " ('journals.lww.com', 7),\n",
       " ('academic.oup.com', 6),\n",
       " ('www.nature.com', 6),\n",
       " ('www.nejm.org', 5),\n",
       " ('ieeexplore.ieee.org', 5),\n",
       " ('royalsocietypublishing.org', 4),\n",
       " ('jamanetwork.com', 2),\n",
       " ('heart.bmj.com', 2),\n",
       " ('www.cambridge.org', 2),\n",
       " ('journals.physiology.org', 2),\n",
       " ('journals.sagepub.com', 2),\n",
       " ('www.science.org', 2),\n",
       " ('bmcecolevol.biomedcentral.com', 2),\n",
       " ('www.tandfonline.com', 2),\n",
       " ('validate.perfdrive.com', 2),\n",
       " ('www.bmj.com', 1),\n",
       " ('www.ahajournals.org', 1),\n",
       " ('www.emerald.com', 1),\n",
       " ('dl.acm.org', 1),\n",
       " ('ecerm.org', 1),\n",
       " ('www.hindawi.com', 1),\n",
       " ('ijbnpa.biomedcentral.com', 1),\n",
       " ('n.neurology.org', 1)]"
      ]
     },
     "execution_count": 20,
     "metadata": {},
     "output_type": "execute_result"
    }
   ],
   "source": [
    "counter.most_common()"
   ]
  },
  {
   "cell_type": "code",
   "execution_count": 21,
   "id": "occupied-february",
   "metadata": {},
   "outputs": [
    {
     "data": {
      "text/plain": [
       "{'www.bmj.com': 'https://www.bmj.com/content/336/7659/1475',\n",
       " 'www.ahajournals.org': 'https://www.ahajournals.org/doi/10.1161/CIRCULATIONAHA.107.699579',\n",
       " 'jamanetwork.com': 'https://jamanetwork.com/journals/jama/fullarticle/205528',\n",
       " 'www.nejm.org': 'https://www.nejm.org/doi/full/10.1056/NEJMoa0807646',\n",
       " 'linkinghub.elsevier.com': 'https://linkinghub.elsevier.com/retrieve/pii/S0738399112004491',\n",
       " 'onlinelibrary.wiley.com': 'https://onlinelibrary.wiley.com/doi/10.1111/j.1365-2125.2009.03537.x',\n",
       " 'heart.bmj.com': 'https://heart.bmj.com/content/90/8/859',\n",
       " 'academic.oup.com': 'https://academic.oup.com/bioinformatics/article/32/16/2411/2240358',\n",
       " 'journals.lww.com': 'https://journals.lww.com/lww-medicalcare/Abstract/2013/03000/Improved_Cardiovascular_Risk_Prediction_Using.7.aspx',\n",
       " 'www.emerald.com': 'https://www.emerald.com/insight/content/doi/10.1108/eb026526/full/html',\n",
       " 'dl.acm.org': 'https://dl.acm.org/doi/10.1145/361219.361220',\n",
       " 'www.nature.com': 'https://www.nature.com/articles/ncomms13890',\n",
       " 'journals.plos.org': 'https://journals.plos.org/plosone/article?id=10.1371/journal.pone.0130140',\n",
       " 'link.springer.com': 'https://link.springer.com/article/10.1007/BF02309007',\n",
       " 'ecerm.org': 'https://ecerm.org/journal/view.php?doi=10.5653/cerm.2011.38.1.24',\n",
       " 'www.cambridge.org': 'https://www.cambridge.org/core/journals/zygote/article/abs/effects-of-cryodevice-type-and-donors-sexual-maturity-on-vitrification-of-minke-whale-balaenoptera-bonaerensis-oocytes-at-germinal-vesicle-stage/E2F6F067911AD74CDB3227CC025270D6',\n",
       " 'royalsocietypublishing.org': 'https://royalsocietypublishing.org/doi/10.1098/rstb.1971.0042',\n",
       " 'journals.physiology.org': 'https://journals.physiology.org/doi/full/10.1152/japplphysiol.91324.2008',\n",
       " 'journals.sagepub.com': 'https://journals.sagepub.com/doi/10.1177/1545968311402091',\n",
       " 'www.science.org': 'https://www.science.org/doi/10.1126/science.1169896',\n",
       " 'ieeexplore.ieee.org': 'https://ieeexplore.ieee.org/document/7439823/',\n",
       " 'www.hindawi.com': 'https://www.hindawi.com/journals/cin/2017/7361042/',\n",
       " 'bmcecolevol.biomedcentral.com': 'https://bmcecolevol.biomedcentral.com/articles/10.1186/s12862-017-1014-z',\n",
       " 'ijbnpa.biomedcentral.com': 'https://ijbnpa.biomedcentral.com/articles/10.1186/1479-5868-9-84',\n",
       " 'www.tandfonline.com': 'https://www.tandfonline.com/doi/abs/10.1080/17461391.2014.908956',\n",
       " 'validate.perfdrive.com': 'https://validate.perfdrive.com/?ssa=d46a1aeb-a894-4157-a253-af5821927508&ssb=49169293580&ssc=https%3A%2F%2Fiopscience.iop.org%2Farticle%2F10.1088%2F0967-3334%2F27%2F10%2F001&ssi=e7d25293-8427-4298-b3a0-edba120f38ae&ssk=support@shieldsquare.com&ssm=95100344614473245109663345928525&ssn=dea1061029af6f26bdb3554c0eb9c43fc313c69e742b-ca17-4002-9e74dc&sso=ae456897-b3bad2981910706dd7636b51c704e87c15d64db895eca056&ssp=84030021571651654850165165416468342&ssq=03537691563432770326615634218787691415885&ssr=MjQuMTY4LjczLjE5Mg==&sst=Mozilla/5.0%20(Windows%20NT%2010.0;%20Win64;%20x64)%20AppleWebKit/537.36%20(KHTML,%20like%20Gecko)%20Chrome/70.0.3538.102%20Safari/537.36%20Edge/18.19582&ssv=&ssw=&ssx=W10=',\n",
       " 'n.neurology.org': 'https://n.neurology.org/content/72/18/1582'}"
      ]
     },
     "execution_count": 21,
     "metadata": {},
     "output_type": "execute_result"
    }
   ],
   "source": [
    "samples"
   ]
  },
  {
   "cell_type": "code",
   "execution_count": null,
   "id": "determined-offset",
   "metadata": {},
   "outputs": [],
   "source": []
  }
 ],
 "metadata": {
  "kernelspec": {
   "display_name": "Python 3",
   "language": "python",
   "name": "python3"
  },
  "language_info": {
   "codemirror_mode": {
    "name": "ipython",
    "version": 3
   },
   "file_extension": ".py",
   "mimetype": "text/x-python",
   "name": "python",
   "nbconvert_exporter": "python",
   "pygments_lexer": "ipython3",
   "version": "3.8.12"
  }
 },
 "nbformat": 4,
 "nbformat_minor": 5
}
