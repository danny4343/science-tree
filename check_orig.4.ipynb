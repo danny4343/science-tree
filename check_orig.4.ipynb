{
 "cells": [
  {
   "cell_type": "code",
   "execution_count": 1,
   "id": "agreed-winter",
   "metadata": {},
   "outputs": [],
   "source": [
    "import pandas as pd\n",
    "import csv"
   ]
  },
  {
   "cell_type": "code",
   "execution_count": 2,
   "id": "lonely-chaos",
   "metadata": {},
   "outputs": [],
   "source": [
    "from functions import log"
   ]
  },
  {
   "cell_type": "code",
   "execution_count": 3,
   "id": "agreed-merchant",
   "metadata": {},
   "outputs": [],
   "source": [
    "df = pd.read_csv('results.3.csv', delimiter= '\\t')"
   ]
  },
  {
   "cell_type": "code",
   "execution_count": 4,
   "id": "disabled-occupation",
   "metadata": {},
   "outputs": [
    {
     "data": {
      "text/html": [
       "<div>\n",
       "<style scoped>\n",
       "    .dataframe tbody tr th:only-of-type {\n",
       "        vertical-align: middle;\n",
       "    }\n",
       "\n",
       "    .dataframe tbody tr th {\n",
       "        vertical-align: top;\n",
       "    }\n",
       "\n",
       "    .dataframe thead th {\n",
       "        text-align: right;\n",
       "    }\n",
       "</style>\n",
       "<table border=\"1\" class=\"dataframe\">\n",
       "  <thead>\n",
       "    <tr style=\"text-align: right;\">\n",
       "      <th></th>\n",
       "      <th>link</th>\n",
       "      <th>title</th>\n",
       "      <th>abstract</th>\n",
       "      <th>references</th>\n",
       "      <th>journal</th>\n",
       "      <th>doi</th>\n",
       "    </tr>\n",
       "  </thead>\n",
       "  <tbody>\n",
       "    <tr>\n",
       "      <th>0</th>\n",
       "      <td>https://journals.plos.org/plosone/article?id=1...</td>\n",
       "      <td>Awareness, perception and perpetration of cybe...</td>\n",
       "      <td>The modern online society requires everyone, e...</td>\n",
       "      <td>['https://doi.org/10.1111/j.1746-1561.2008.003...</td>\n",
       "      <td>PLOS</td>\n",
       "      <td>https://doi.org/10.1371/journal.pone.0267702</td>\n",
       "    </tr>\n",
       "    <tr>\n",
       "      <th>1</th>\n",
       "      <td>https://journals.plos.org/plosone/article?id=1...</td>\n",
       "      <td>Validation pipeline for machine learning algor...</td>\n",
       "      <td>A standardized objective evaluation method is ...</td>\n",
       "      <td>['https://doi.org/10.1109/TMI.2014.2377694|iee...</td>\n",
       "      <td>PLOS</td>\n",
       "      <td>https://doi.org/10.1371/journal.pone.0267213</td>\n",
       "    </tr>\n",
       "    <tr>\n",
       "      <th>2</th>\n",
       "      <td>https://journals.plos.org/plosone/article?id=1...</td>\n",
       "      <td>Identifying luminal and basal mammary cell spe...</td>\n",
       "      <td>Mammary gland is present in all mammals and us...</td>\n",
       "      <td>['https://doi.org/10.1002/wdev.35|onlinelibrar...</td>\n",
       "      <td>PLOS</td>\n",
       "      <td>https://doi.org/10.1371/journal.pone.0267211</td>\n",
       "    </tr>\n",
       "    <tr>\n",
       "      <th>3</th>\n",
       "      <td>https://journals.plos.org/plosone/article?id=1...</td>\n",
       "      <td>Using machine learning for the personalised pr...</td>\n",
       "      <td>Revision endoscopic sinus surgery (ESS) is oft...</td>\n",
       "      <td>['https://doi.org/10.4193/Rhin20.600|www.rhino...</td>\n",
       "      <td>PLOS</td>\n",
       "      <td>https://doi.org/10.1371/journal.pone.0267146</td>\n",
       "    </tr>\n",
       "    <tr>\n",
       "      <th>4</th>\n",
       "      <td>https://journals.plos.org/plosone/article?id=1...</td>\n",
       "      <td>Underwater acoustic target recognition method ...</td>\n",
       "      <td>To improve the recognition accuracy of underwa...</td>\n",
       "      <td>['https://doi.org/10.3390/e20040243|www.mdpi.c...</td>\n",
       "      <td>PLOS</td>\n",
       "      <td>https://doi.org/10.1371/journal.pone.0266425</td>\n",
       "    </tr>\n",
       "    <tr>\n",
       "      <th>5</th>\n",
       "      <td>https://journals.plos.org/plosone/article?id=1...</td>\n",
       "      <td>Thermo-mechanics aspects of isochoric cryopres...</td>\n",
       "      <td>A new mathematical model is proposed for the a...</td>\n",
       "      <td>['https://doi.org/10.1016/j.cryobiol.2019.01.0...</td>\n",
       "      <td>PLOS</td>\n",
       "      <td>https://doi.org/10.1371/journal.pone.0267852</td>\n",
       "    </tr>\n",
       "    <tr>\n",
       "      <th>6</th>\n",
       "      <td>https://journals.plos.org/plosone/article?id=1...</td>\n",
       "      <td>Machine learning-based modeling of acute respi...</td>\n",
       "      <td>Emergency general surgery (EGS) operations are...</td>\n",
       "      <td>['https://doi.org/10.1016/s1072-7515(01)01183-...</td>\n",
       "      <td>PLOS</td>\n",
       "      <td>https://doi.org/10.1371/journal.pone.0267733</td>\n",
       "    </tr>\n",
       "    <tr>\n",
       "      <th>7</th>\n",
       "      <td>https://journals.plos.org/plosone/article?id=1...</td>\n",
       "      <td>Transcutaneous spinal direct current stimulati...</td>\n",
       "      <td>Transcutaneous spinal direct current stimulati...</td>\n",
       "      <td>['https://doi.org/10.1016/j.clinph.2008.07.249...</td>\n",
       "      <td>PLOS</td>\n",
       "      <td>https://doi.org/10.1371/journal.pone.0267718</td>\n",
       "    </tr>\n",
       "    <tr>\n",
       "      <th>8</th>\n",
       "      <td>https://journals.plos.org/plosone/article?id=1...</td>\n",
       "      <td>Maize leaf disease identification based on WG-...</td>\n",
       "      <td>In deep learning-based maize leaf disease dete...</td>\n",
       "      <td>['https://doi.org/10.3864/j.issn.0578-1752.202...</td>\n",
       "      <td>PLOS</td>\n",
       "      <td>https://doi.org/10.1371/journal.pone.0267650</td>\n",
       "    </tr>\n",
       "    <tr>\n",
       "      <th>9</th>\n",
       "      <td>https://journals.plos.org/plosone/article?id=1...</td>\n",
       "      <td>An evaluation to determine if reading the mind...</td>\n",
       "      <td>The Reading the Mind in the Eyes Test (RMET) h...</td>\n",
       "      <td>['https://doi.org/10.1111/j.1469-7610.1997.tb0...</td>\n",
       "      <td>PLOS</td>\n",
       "      <td>https://doi.org/10.1371/journal.pone.0267579</td>\n",
       "    </tr>\n",
       "    <tr>\n",
       "      <th>10</th>\n",
       "      <td>https://journals.plos.org/plosone/article?id=1...</td>\n",
       "      <td>An improved multi-view attention network inspi...</td>\n",
       "      <td>Most of the existing graph embedding methods a...</td>\n",
       "      <td>['https://doi.org/10.1006/jcss.1999.1693|linki...</td>\n",
       "      <td>PLOS</td>\n",
       "      <td>https://doi.org/10.1371/journal.pone.0267565</td>\n",
       "    </tr>\n",
       "    <tr>\n",
       "      <th>11</th>\n",
       "      <td>https://journals.plos.org/plosone/article?id=1...</td>\n",
       "      <td>Research on the transformation from internatio...</td>\n",
       "      <td>By exploring the China International Fair for ...</td>\n",
       "      <td>['https://doi.org/10.1080/00420980020002760|jo...</td>\n",
       "      <td>PLOS</td>\n",
       "      <td>https://doi.org/10.1371/journal.pone.0267455</td>\n",
       "    </tr>\n",
       "    <tr>\n",
       "      <th>12</th>\n",
       "      <td>https://journals.plos.org/plosone/article?id=1...</td>\n",
       "      <td>Pixel-based versus object-based identification...</td>\n",
       "      <td>Scenic resources can serve as symbols of a reg...</td>\n",
       "      <td>['https://doi.org/10.3969/j.issn.1002-2724.200...</td>\n",
       "      <td>PLOS</td>\n",
       "      <td>https://doi.org/10.1371/journal.pone.0267435</td>\n",
       "    </tr>\n",
       "  </tbody>\n",
       "</table>\n",
       "</div>"
      ],
      "text/plain": [
       "                                                 link  \\\n",
       "0   https://journals.plos.org/plosone/article?id=1...   \n",
       "1   https://journals.plos.org/plosone/article?id=1...   \n",
       "2   https://journals.plos.org/plosone/article?id=1...   \n",
       "3   https://journals.plos.org/plosone/article?id=1...   \n",
       "4   https://journals.plos.org/plosone/article?id=1...   \n",
       "5   https://journals.plos.org/plosone/article?id=1...   \n",
       "6   https://journals.plos.org/plosone/article?id=1...   \n",
       "7   https://journals.plos.org/plosone/article?id=1...   \n",
       "8   https://journals.plos.org/plosone/article?id=1...   \n",
       "9   https://journals.plos.org/plosone/article?id=1...   \n",
       "10  https://journals.plos.org/plosone/article?id=1...   \n",
       "11  https://journals.plos.org/plosone/article?id=1...   \n",
       "12  https://journals.plos.org/plosone/article?id=1...   \n",
       "\n",
       "                                                title  \\\n",
       "0   Awareness, perception and perpetration of cybe...   \n",
       "1   Validation pipeline for machine learning algor...   \n",
       "2   Identifying luminal and basal mammary cell spe...   \n",
       "3   Using machine learning for the personalised pr...   \n",
       "4   Underwater acoustic target recognition method ...   \n",
       "5   Thermo-mechanics aspects of isochoric cryopres...   \n",
       "6   Machine learning-based modeling of acute respi...   \n",
       "7   Transcutaneous spinal direct current stimulati...   \n",
       "8   Maize leaf disease identification based on WG-...   \n",
       "9   An evaluation to determine if reading the mind...   \n",
       "10  An improved multi-view attention network inspi...   \n",
       "11  Research on the transformation from internatio...   \n",
       "12  Pixel-based versus object-based identification...   \n",
       "\n",
       "                                             abstract  \\\n",
       "0   The modern online society requires everyone, e...   \n",
       "1   A standardized objective evaluation method is ...   \n",
       "2   Mammary gland is present in all mammals and us...   \n",
       "3   Revision endoscopic sinus surgery (ESS) is oft...   \n",
       "4   To improve the recognition accuracy of underwa...   \n",
       "5   A new mathematical model is proposed for the a...   \n",
       "6   Emergency general surgery (EGS) operations are...   \n",
       "7   Transcutaneous spinal direct current stimulati...   \n",
       "8   In deep learning-based maize leaf disease dete...   \n",
       "9   The Reading the Mind in the Eyes Test (RMET) h...   \n",
       "10  Most of the existing graph embedding methods a...   \n",
       "11  By exploring the China International Fair for ...   \n",
       "12  Scenic resources can serve as symbols of a reg...   \n",
       "\n",
       "                                           references journal  \\\n",
       "0   ['https://doi.org/10.1111/j.1746-1561.2008.003...    PLOS   \n",
       "1   ['https://doi.org/10.1109/TMI.2014.2377694|iee...    PLOS   \n",
       "2   ['https://doi.org/10.1002/wdev.35|onlinelibrar...    PLOS   \n",
       "3   ['https://doi.org/10.4193/Rhin20.600|www.rhino...    PLOS   \n",
       "4   ['https://doi.org/10.3390/e20040243|www.mdpi.c...    PLOS   \n",
       "5   ['https://doi.org/10.1016/j.cryobiol.2019.01.0...    PLOS   \n",
       "6   ['https://doi.org/10.1016/s1072-7515(01)01183-...    PLOS   \n",
       "7   ['https://doi.org/10.1016/j.clinph.2008.07.249...    PLOS   \n",
       "8   ['https://doi.org/10.3864/j.issn.0578-1752.202...    PLOS   \n",
       "9   ['https://doi.org/10.1111/j.1469-7610.1997.tb0...    PLOS   \n",
       "10  ['https://doi.org/10.1006/jcss.1999.1693|linki...    PLOS   \n",
       "11  ['https://doi.org/10.1080/00420980020002760|jo...    PLOS   \n",
       "12  ['https://doi.org/10.3969/j.issn.1002-2724.200...    PLOS   \n",
       "\n",
       "                                             doi  \n",
       "0   https://doi.org/10.1371/journal.pone.0267702  \n",
       "1   https://doi.org/10.1371/journal.pone.0267213  \n",
       "2   https://doi.org/10.1371/journal.pone.0267211  \n",
       "3   https://doi.org/10.1371/journal.pone.0267146  \n",
       "4   https://doi.org/10.1371/journal.pone.0266425  \n",
       "5   https://doi.org/10.1371/journal.pone.0267852  \n",
       "6   https://doi.org/10.1371/journal.pone.0267733  \n",
       "7   https://doi.org/10.1371/journal.pone.0267718  \n",
       "8   https://doi.org/10.1371/journal.pone.0267650  \n",
       "9   https://doi.org/10.1371/journal.pone.0267579  \n",
       "10  https://doi.org/10.1371/journal.pone.0267565  \n",
       "11  https://doi.org/10.1371/journal.pone.0267455  \n",
       "12  https://doi.org/10.1371/journal.pone.0267435  "
      ]
     },
     "execution_count": 4,
     "metadata": {},
     "output_type": "execute_result"
    }
   ],
   "source": [
    "df"
   ]
  },
  {
   "cell_type": "code",
   "execution_count": 5,
   "id": "intermediate-astronomy",
   "metadata": {},
   "outputs": [
    {
     "data": {
      "text/plain": [
       "0     https://doi.org/10.1371/journal.pone.0267702\n",
       "1     https://doi.org/10.1371/journal.pone.0267213\n",
       "2     https://doi.org/10.1371/journal.pone.0267211\n",
       "3     https://doi.org/10.1371/journal.pone.0267146\n",
       "4     https://doi.org/10.1371/journal.pone.0266425\n",
       "5     https://doi.org/10.1371/journal.pone.0267852\n",
       "6     https://doi.org/10.1371/journal.pone.0267733\n",
       "7     https://doi.org/10.1371/journal.pone.0267718\n",
       "8     https://doi.org/10.1371/journal.pone.0267650\n",
       "9     https://doi.org/10.1371/journal.pone.0267579\n",
       "10    https://doi.org/10.1371/journal.pone.0267565\n",
       "11    https://doi.org/10.1371/journal.pone.0267455\n",
       "12    https://doi.org/10.1371/journal.pone.0267435\n",
       "Name: doi, dtype: object"
      ]
     },
     "execution_count": 5,
     "metadata": {},
     "output_type": "execute_result"
    }
   ],
   "source": [
    "doi = df[\"doi\"]\n",
    "doi"
   ]
  },
  {
   "cell_type": "code",
   "execution_count": 6,
   "id": "postal-rendering",
   "metadata": {},
   "outputs": [],
   "source": [
    "refs = []\n",
    "\n",
    "for sublist in df.references:\n",
    "    sub = eval(sublist) # bc its stored as string, parse to list \n",
    "    for item in sub:        \n",
    "        refs.append(item.split('|')[0])\n",
    "\n",
    "# refs"
   ]
  },
  {
   "cell_type": "code",
   "execution_count": 7,
   "id": "latest-journalism",
   "metadata": {},
   "outputs": [],
   "source": [
    "refs.append(\"https://doi.org/10.1371/journal.pone.0267702\")"
   ]
  },
  {
   "cell_type": "code",
   "execution_count": 8,
   "id": "statutory-inventory",
   "metadata": {},
   "outputs": [
    {
     "data": {
      "text/plain": [
       "{'https://doi.org/10.1371/journal.pone.0267702'}"
      ]
     },
     "execution_count": 8,
     "metadata": {},
     "output_type": "execute_result"
    }
   ],
   "source": [
    "intersection = set(doi).intersection(set(refs))\n",
    "intersection"
   ]
  },
  {
   "cell_type": "code",
   "execution_count": 9,
   "id": "lyric-attendance",
   "metadata": {},
   "outputs": [],
   "source": [
    "refs = [x for x in refs if x not in intersection]"
   ]
  },
  {
   "cell_type": "code",
   "execution_count": 10,
   "id": "scientific-screen",
   "metadata": {},
   "outputs": [],
   "source": [
    "num_articles = len(refs)"
   ]
  },
  {
   "cell_type": "code",
   "execution_count": 11,
   "id": "intellectual-riverside",
   "metadata": {},
   "outputs": [],
   "source": [
    "with open('orig.4.csv', 'w', newline='', encoding='utf-8') as f:\n",
    "    writer = csv.writer(f, delimiter='\\t')\n",
    "    writer.writerow(['link'])\n",
    "    for i in refs:\n",
    "        writer.writerow([i])"
   ]
  },
  {
   "cell_type": "code",
   "execution_count": 12,
   "id": "other-launch",
   "metadata": {},
   "outputs": [],
   "source": [
    "log(f'Ran check_orig.4.ipynb succesfully, finding {num_articles} original references')"
   ]
  }
 ],
 "metadata": {
  "kernelspec": {
   "display_name": "Python 3",
   "language": "python",
   "name": "python3"
  },
  "language_info": {
   "codemirror_mode": {
    "name": "ipython",
    "version": 3
   },
   "file_extension": ".py",
   "mimetype": "text/x-python",
   "name": "python",
   "nbconvert_exporter": "python",
   "pygments_lexer": "ipython3",
   "version": "3.8.12"
  }
 },
 "nbformat": 4,
 "nbformat_minor": 5
}
