{
 "cells": [
  {
   "cell_type": "code",
   "execution_count": 1,
   "id": "differential-result",
   "metadata": {},
   "outputs": [],
   "source": [
    "import pandas as pd\n",
    "import numpy as np\n",
    "import matplotlib.pyplot as plt\n",
    "import re\n",
    "import pickle"
   ]
  },
  {
   "cell_type": "code",
   "execution_count": 2,
   "id": "varied-feelings",
   "metadata": {},
   "outputs": [
    {
     "name": "stderr",
     "output_type": "stream",
     "text": [
      "[nltk_data] Downloading package stopwords to\n",
      "[nltk_data]     C:\\Users\\Danny\\AppData\\Roaming\\nltk_data...\n",
      "[nltk_data]   Package stopwords is already up-to-date!\n"
     ]
    },
    {
     "data": {
      "text/plain": [
       "True"
      ]
     },
     "execution_count": 2,
     "metadata": {},
     "output_type": "execute_result"
    }
   ],
   "source": [
    "from nltk.stem import WordNetLemmatizer \n",
    "lemmatizer = WordNetLemmatizer()\n",
    "from nltk.tokenize import word_tokenize\n",
    "from nltk.corpus import stopwords\n",
    "import nltk\n",
    "nltk.download('stopwords')"
   ]
  },
  {
   "cell_type": "code",
   "execution_count": 17,
   "id": "thermal-receipt",
   "metadata": {},
   "outputs": [],
   "source": [
    "from sklearn.feature_extraction.text import TfidfVectorizer, CountVectorizer\n",
    "from sklearn.decomposition import NMF, LatentDirichletAllocation"
   ]
  },
  {
   "cell_type": "code",
   "execution_count": 3,
   "id": "settled-grammar",
   "metadata": {},
   "outputs": [],
   "source": [
    "from functions import log, plot_top_words"
   ]
  },
  {
   "cell_type": "code",
   "execution_count": 4,
   "id": "spoken-optimization",
   "metadata": {},
   "outputs": [],
   "source": [
    "df = pd.read_csv('files/select_files.txt', delimiter= '\\t')"
   ]
  },
  {
   "cell_type": "code",
   "execution_count": 5,
   "id": "aggregate-amino",
   "metadata": {},
   "outputs": [],
   "source": [
    "df = df[[\"PMID\", \"title\", \"references\"]]"
   ]
  },
  {
   "cell_type": "code",
   "execution_count": 6,
   "id": "former-county",
   "metadata": {},
   "outputs": [
    {
     "data": {
      "text/html": [
       "<div>\n",
       "<style scoped>\n",
       "    .dataframe tbody tr th:only-of-type {\n",
       "        vertical-align: middle;\n",
       "    }\n",
       "\n",
       "    .dataframe tbody tr th {\n",
       "        vertical-align: top;\n",
       "    }\n",
       "\n",
       "    .dataframe thead th {\n",
       "        text-align: right;\n",
       "    }\n",
       "</style>\n",
       "<table border=\"1\" class=\"dataframe\">\n",
       "  <thead>\n",
       "    <tr style=\"text-align: right;\">\n",
       "      <th></th>\n",
       "      <th>PMID</th>\n",
       "      <th>title</th>\n",
       "      <th>references</th>\n",
       "    </tr>\n",
       "  </thead>\n",
       "  <tbody>\n",
       "    <tr>\n",
       "      <th>0</th>\n",
       "      <td>12929205</td>\n",
       "      <td>The Transcriptome of the Intraerythrocytic Dev...</td>\n",
       "      <td>[Plasmodium falciparum: Analysis of transcribe...</td>\n",
       "    </tr>\n",
       "    <tr>\n",
       "      <th>1</th>\n",
       "      <td>12929206</td>\n",
       "      <td>DNA Analysis Indicates That Asian Elephants Ar...</td>\n",
       "      <td>[WHICHRUN (version 3.2): A computer program fo...</td>\n",
       "    </tr>\n",
       "    <tr>\n",
       "      <th>2</th>\n",
       "      <td>12975658</td>\n",
       "      <td>Drosophila Free-Running Rhythms Require Interc...</td>\n",
       "      <td>[A mutant Drosophila homolog of mammalian Cloc...</td>\n",
       "    </tr>\n",
       "    <tr>\n",
       "      <th>3</th>\n",
       "      <td>12975657</td>\n",
       "      <td>From Gene Trees to Organismal Phylogeny in Pro...</td>\n",
       "      <td>[Genome sequence of the endocellular obligate ...</td>\n",
       "    </tr>\n",
       "    <tr>\n",
       "      <th>4</th>\n",
       "      <td>14551903</td>\n",
       "      <td>A Functional Analysis of the Spacer of V(D)J R...</td>\n",
       "      <td>[Distinct roles of RAG1 and RAG2 in binding th...</td>\n",
       "    </tr>\n",
       "    <tr>\n",
       "      <th>...</th>\n",
       "      <td>...</td>\n",
       "      <td>...</td>\n",
       "      <td>...</td>\n",
       "    </tr>\n",
       "    <tr>\n",
       "      <th>3994</th>\n",
       "      <td>17925860</td>\n",
       "      <td>Large-Scale Mitochondrial DNA Analysis of the ...</td>\n",
       "      <td>[Domesticated animals from early times., Goats...</td>\n",
       "    </tr>\n",
       "    <tr>\n",
       "      <th>3995</th>\n",
       "      <td>17925881</td>\n",
       "      <td>Endothelial Progenitor Cells, Cardiovascular R...</td>\n",
       "      <td>[Isolation of putative progenitor endothelial ...</td>\n",
       "    </tr>\n",
       "    <tr>\n",
       "      <th>3996</th>\n",
       "      <td>17925862</td>\n",
       "      <td>Ataxin-1 Fusion Partners Alter PolyQ Lethality...</td>\n",
       "      <td>[Protein aggregation and neurodegenerative dis...</td>\n",
       "    </tr>\n",
       "    <tr>\n",
       "      <th>3997</th>\n",
       "      <td>17925864</td>\n",
       "      <td>The Chemokine Receptor CXCR4 Strongly Promotes...</td>\n",
       "      <td>[Neuroblastoma: biological insights into a cli...</td>\n",
       "    </tr>\n",
       "    <tr>\n",
       "      <th>3998</th>\n",
       "      <td>17925856</td>\n",
       "      <td>Predicting Spatial Patterns of Plant Recruitme...</td>\n",
       "      <td>[Spatial patterns of seed dispersal, their det...</td>\n",
       "    </tr>\n",
       "  </tbody>\n",
       "</table>\n",
       "<p>3999 rows × 3 columns</p>\n",
       "</div>"
      ],
      "text/plain": [
       "          PMID                                              title  \\\n",
       "0     12929205  The Transcriptome of the Intraerythrocytic Dev...   \n",
       "1     12929206  DNA Analysis Indicates That Asian Elephants Ar...   \n",
       "2     12975658  Drosophila Free-Running Rhythms Require Interc...   \n",
       "3     12975657  From Gene Trees to Organismal Phylogeny in Pro...   \n",
       "4     14551903  A Functional Analysis of the Spacer of V(D)J R...   \n",
       "...        ...                                                ...   \n",
       "3994  17925860  Large-Scale Mitochondrial DNA Analysis of the ...   \n",
       "3995  17925881  Endothelial Progenitor Cells, Cardiovascular R...   \n",
       "3996  17925862  Ataxin-1 Fusion Partners Alter PolyQ Lethality...   \n",
       "3997  17925864  The Chemokine Receptor CXCR4 Strongly Promotes...   \n",
       "3998  17925856  Predicting Spatial Patterns of Plant Recruitme...   \n",
       "\n",
       "                                             references  \n",
       "0     [Plasmodium falciparum: Analysis of transcribe...  \n",
       "1     [WHICHRUN (version 3.2): A computer program fo...  \n",
       "2     [A mutant Drosophila homolog of mammalian Cloc...  \n",
       "3     [Genome sequence of the endocellular obligate ...  \n",
       "4     [Distinct roles of RAG1 and RAG2 in binding th...  \n",
       "...                                                 ...  \n",
       "3994  [Domesticated animals from early times., Goats...  \n",
       "3995  [Isolation of putative progenitor endothelial ...  \n",
       "3996  [Protein aggregation and neurodegenerative dis...  \n",
       "3997  [Neuroblastoma: biological insights into a cli...  \n",
       "3998  [Spatial patterns of seed dispersal, their det...  \n",
       "\n",
       "[3999 rows x 3 columns]"
      ]
     },
     "execution_count": 6,
     "metadata": {},
     "output_type": "execute_result"
    }
   ],
   "source": [
    "df[\"references\"] = [ eval(x) for x in df[\"references\"] ]\n",
    "\n",
    "df"
   ]
  },
  {
   "cell_type": "code",
   "execution_count": 7,
   "id": "popular-content",
   "metadata": {},
   "outputs": [],
   "source": [
    "all_pmid = []\n",
    "all_ref = []\n",
    "\n",
    "def parseRefs(row):\n",
    "    pmid = row['PMID']\n",
    "    for i in row['references']:\n",
    "        all_pmid.append(pmid)\n",
    "        all_ref.append(i)\n",
    "\n",
    "df.apply(parseRefs, axis=1)\n",
    "\n",
    "all_title = all_ref.copy()"
   ]
  },
  {
   "cell_type": "code",
   "execution_count": 8,
   "id": "supreme-rough",
   "metadata": {},
   "outputs": [],
   "source": [
    "all_title.extend(df['title'].tolist()) "
   ]
  },
  {
   "cell_type": "code",
   "execution_count": 9,
   "id": "confident-inspection",
   "metadata": {},
   "outputs": [],
   "source": [
    "ref_df = pd.DataFrame(data = {'PMID' : all_pmid, 'title' : all_ref, 'type' : 'ref'})"
   ]
  },
  {
   "cell_type": "code",
   "execution_count": 11,
   "id": "robust-status",
   "metadata": {},
   "outputs": [],
   "source": [
    "df = df[[\"PMID\", \"title\"]]\n",
    "df['type'] = 'paper'"
   ]
  },
  {
   "cell_type": "code",
   "execution_count": 12,
   "id": "based-saudi",
   "metadata": {},
   "outputs": [],
   "source": [
    "df = pd.concat([df, ref_df], axis=0)"
   ]
  },
  {
   "cell_type": "code",
   "execution_count": 13,
   "id": "classical-apollo",
   "metadata": {},
   "outputs": [],
   "source": [
    "del ref_df"
   ]
  },
  {
   "cell_type": "code",
   "execution_count": 14,
   "id": "metallic-somewhere",
   "metadata": {},
   "outputs": [],
   "source": [
    "# ref_df = ref_df.dropna()\n",
    "\n",
    "stop_words = set(stopwords.words('english'))\n",
    "\n",
    "def parseGroupString(title):\n",
    "    temp = re.sub(r'[^\\w\\s]', '', title)\n",
    "    temp = temp.lower()\n",
    "    temp = word_tokenize(temp)\n",
    "    temp = [w for w in temp if not w in stop_words]\n",
    "    temp = ' '.join([lemmatizer.lemmatize(w) for w in temp])\n",
    "        \n",
    "    return temp\n",
    "                     \n",
    "df['title'] = [ parseGroupString(x) for x in df['title'] ]"
   ]
  },
  {
   "cell_type": "code",
   "execution_count": 18,
   "id": "august-balance",
   "metadata": {},
   "outputs": [],
   "source": [
    "tfidf_vect = TfidfVectorizer(max_df=0.8, min_df=2, stop_words=\"english\")\n",
    "tfidf = tfidf_vect.fit_transform(df['title'])"
   ]
  },
  {
   "cell_type": "code",
   "execution_count": 19,
   "id": "illegal-overview",
   "metadata": {},
   "outputs": [],
   "source": [
    "n_top_words = 10 # for bar graph\n",
    "n_topics = 5"
   ]
  },
  {
   "cell_type": "code",
   "execution_count": 20,
   "id": "still-refund",
   "metadata": {},
   "outputs": [
    {
     "name": "stderr",
     "output_type": "stream",
     "text": [
      "c:\\users\\danny\\miniconda3\\lib\\site-packages\\sklearn\\decomposition\\_nmf.py:289: FutureWarning: The 'init' value, when 'init=None' and n_components is less than n_samples and n_features, will be changed from 'nndsvd' to 'nndsvda' in 1.1 (renaming of 0.26).\n",
      "  warnings.warn(\n"
     ]
    }
   ],
   "source": [
    "nmf1 = NMF(\n",
    "    n_components=n_topics,\n",
    "    beta_loss=\"frobenius\", #\"frobenius\"\n",
    "    solver=\"cd\",\n",
    "    max_iter=1000,\n",
    "    l1_ratio=0.5,\n",
    ").fit(tfidf)\n",
    "\n",
    "log(f'fitting {n_topics}')"
   ]
  },
  {
   "cell_type": "code",
   "execution_count": 21,
   "id": "experimental-washington",
   "metadata": {},
   "outputs": [
    {
     "data": {
      "image/png": "[encoded data removed]",
      "text/plain": [
       "<Figure size 2160x288 with 5 Axes>"
      ]
     },
     "metadata": {
      "needs_background": "light"
     },
     "output_type": "display_data"
    }
   ],
   "source": [
    "plot_top_words(\n",
    "    nmf1, tfidf_vect.get_feature_names_out(), n_topics, n_top_words,\"Topics in nmf1\"\n",
    ")"
   ]
  },
  {
   "cell_type": "code",
   "execution_count": 22,
   "id": "certified-float",
   "metadata": {},
   "outputs": [
    {
     "data": {
      "text/html": [
       "<div>\n",
       "<style scoped>\n",
       "    .dataframe tbody tr th:only-of-type {\n",
       "        vertical-align: middle;\n",
       "    }\n",
       "\n",
       "    .dataframe tbody tr th {\n",
       "        vertical-align: top;\n",
       "    }\n",
       "\n",
       "    .dataframe thead th {\n",
       "        text-align: right;\n",
       "    }\n",
       "</style>\n",
       "<table border=\"1\" class=\"dataframe\">\n",
       "  <thead>\n",
       "    <tr style=\"text-align: right;\">\n",
       "      <th></th>\n",
       "      <th>PMID</th>\n",
       "      <th>title</th>\n",
       "      <th>type</th>\n",
       "    </tr>\n",
       "  </thead>\n",
       "  <tbody>\n",
       "    <tr>\n",
       "      <th>0</th>\n",
       "      <td>12929205</td>\n",
       "      <td>transcriptome intraerythrocytic developmental ...</td>\n",
       "      <td>paper</td>\n",
       "    </tr>\n",
       "    <tr>\n",
       "      <th>1</th>\n",
       "      <td>12929206</td>\n",
       "      <td>dna analysis indicates asian elephant native b...</td>\n",
       "      <td>paper</td>\n",
       "    </tr>\n",
       "    <tr>\n",
       "      <th>2</th>\n",
       "      <td>12975658</td>\n",
       "      <td>drosophila freerunning rhythm require intercel...</td>\n",
       "      <td>paper</td>\n",
       "    </tr>\n",
       "    <tr>\n",
       "      <th>3</th>\n",
       "      <td>12975657</td>\n",
       "      <td>gene tree organismal phylogeny prokaryotesthe ...</td>\n",
       "      <td>paper</td>\n",
       "    </tr>\n",
       "    <tr>\n",
       "      <th>4</th>\n",
       "      <td>14551903</td>\n",
       "      <td>functional analysis spacer vdj recombination s...</td>\n",
       "      <td>paper</td>\n",
       "    </tr>\n",
       "  </tbody>\n",
       "</table>\n",
       "</div>"
      ],
      "text/plain": [
       "       PMID                                              title   type\n",
       "0  12929205  transcriptome intraerythrocytic developmental ...  paper\n",
       "1  12929206  dna analysis indicates asian elephant native b...  paper\n",
       "2  12975658  drosophila freerunning rhythm require intercel...  paper\n",
       "3  12975657  gene tree organismal phylogeny prokaryotesthe ...  paper\n",
       "4  14551903  functional analysis spacer vdj recombination s...  paper"
      ]
     },
     "execution_count": 22,
     "metadata": {},
     "output_type": "execute_result"
    }
   ],
   "source": [
    "df.head()"
   ]
  },
  {
   "cell_type": "code",
   "execution_count": 23,
   "id": "suited-suite",
   "metadata": {},
   "outputs": [],
   "source": [
    "X_new = nmf1.transform(tfidf)\n",
    "# Get the top predicted topic\n",
    "predicted_topics = [np.argsort(each)[::-1][0] for each in X_new]"
   ]
  },
  {
   "cell_type": "code",
   "execution_count": 24,
   "id": "interim-cement",
   "metadata": {},
   "outputs": [],
   "source": [
    "df[\"title\"] = predicted_topics"
   ]
  },
  {
   "cell_type": "code",
   "execution_count": 25,
   "id": "assured-fraud",
   "metadata": {},
   "outputs": [
    {
     "data": {
      "text/plain": [
       "<AxesSubplot:ylabel='Frequency'>"
      ]
     },
     "execution_count": 25,
     "metadata": {},
     "output_type": "execute_result"
    },
    {
     "data": {
      "image/png": "[encoded data removed]",
      "text/plain": [
       "<Figure size 432x288 with 1 Axes>"
      ]
     },
     "metadata": {
      "needs_background": "light"
     },
     "output_type": "display_data"
    }
   ],
   "source": [
    "df['title'].plot(kind='hist', edgecolor='black')"
   ]
  },
  {
   "cell_type": "code",
   "execution_count": 26,
   "id": "interpreted-inquiry",
   "metadata": {},
   "outputs": [
    {
     "name": "stdout",
     "output_type": "stream",
     "text": [
      "{0: ['gene', 'expression', 'drosophila', 'regulation', 'mouse', 'pattern', 'development', 'control', 'evolution', 'identification'], 1: ['cell', 'stem', 'receptor', 'cycle', 'dendritic', 'mouse', 'embryonic', 'growth', 'signaling', 'response'], 2: ['human', 'virus', 'immunodeficiency', 'type', 'infection', 'disease', 'study', 'genetic', 'population', 'influenza'], 3: ['protein', 'structure', 'kinase', 'interaction', 'function', 'complex', 'family', 'domain', 'network', 'yeast'], 4: ['genome', 'analysis', 'sequence', 'dna', 'evolution', 'comparative', 'sequencing', 'genomic', 'initial', 'using']}\n"
     ]
    }
   ],
   "source": [
    "topicDict = {}\n",
    "\n",
    "for i,topic in enumerate(nmf1.components_):\n",
    "    top_features_ind = topic.argsort()[: -n_top_words - 1 : -1] # finds indeces of n top words\n",
    "    top_features = [tfidf_vect.get_feature_names_out()[i] for i in top_features_ind] # gets the actual words\n",
    "    topicDict[i] = top_features\n",
    "    \n",
    "print(topicDict)"
   ]
  },
  {
   "cell_type": "code",
   "execution_count": 27,
   "id": "swiss-pregnancy",
   "metadata": {},
   "outputs": [],
   "source": [
    "with open(r'files/refTopicDict.pkl', 'wb') as f:\n",
    "    pickle.dump(topicDict, f)\n",
    "    \n",
    "log(f'saving main word of ref topic to files/refTopicDict.pkl')"
   ]
  },
  {
   "cell_type": "code",
   "execution_count": 28,
   "id": "female-giving",
   "metadata": {},
   "outputs": [],
   "source": [
    "ref_df = df[df['type']=='ref']\n",
    "df = df[df['type']=='paper']"
   ]
  },
  {
   "cell_type": "code",
   "execution_count": 29,
   "id": "cathedral-terror",
   "metadata": {},
   "outputs": [],
   "source": [
    "ref_df = ref_df.groupby('PMID')['title'].apply(list).reset_index(name='refTopics')"
   ]
  },
  {
   "cell_type": "code",
   "execution_count": 30,
   "id": "steady-advisory",
   "metadata": {},
   "outputs": [],
   "source": [
    "df = df.merge(ref_df, left_on='PMID', right_on='PMID')"
   ]
  },
  {
   "cell_type": "code",
   "execution_count": 31,
   "id": "genuine-accordance",
   "metadata": {},
   "outputs": [],
   "source": [
    "df = df[['PMID', 'title', 'refTopics']]"
   ]
  },
  {
   "cell_type": "code",
   "execution_count": 32,
   "id": "metropolitan-webcam",
   "metadata": {},
   "outputs": [],
   "source": [
    "df.to_csv(r'files/topics_refs.txt', sep='\\t', index = False)\n",
    "log(f'Ran topics_abstract.ipynb succesfully')"
   ]
  },
  {
   "cell_type": "code",
   "execution_count": null,
   "id": "wrong-qualification",
   "metadata": {},
   "outputs": [],
   "source": []
  }
 ],
 "metadata": {
  "kernelspec": {
   "display_name": "Python 3",
   "language": "python",
   "name": "python3"
  },
  "language_info": {
   "codemirror_mode": {
    "name": "ipython",
    "version": 3
   },
   "file_extension": ".py",
   "mimetype": "text/x-python",
   "name": "python",
   "nbconvert_exporter": "python",
   "pygments_lexer": "ipython3",
   "version": "3.8.12"
  }
 },
 "nbformat": 4,
 "nbformat_minor": 5
}
