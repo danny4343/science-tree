{
 "cells": [
  {
   "cell_type": "markdown",
   "id": "mediterranean-belly",
   "metadata": {},
   "source": [
    "## Seed with original article set"
   ]
  },
  {
   "cell_type": "code",
   "execution_count": 1,
   "id": "ambient-monday",
   "metadata": {},
   "outputs": [],
   "source": [
    "from bs4 import BeautifulSoup\n",
    "import csv"
   ]
  },
  {
   "cell_type": "code",
   "execution_count": 2,
   "id": "facial-match",
   "metadata": {},
   "outputs": [],
   "source": [
    "import requests"
   ]
  },
  {
   "cell_type": "code",
   "execution_count": 3,
   "id": "challenging-weight",
   "metadata": {},
   "outputs": [],
   "source": [
    "from functions import log"
   ]
  },
  {
   "cell_type": "code",
   "execution_count": 4,
   "id": "falling-hunter",
   "metadata": {},
   "outputs": [],
   "source": [
    "# function to extract useful info from html page\n",
    "def extract_record(item):\n",
    "    # extract and return data for single article\n",
    "    \n",
    "    link = 'https://journals.plos.org' + item.a.get('href')\n",
    "    \n",
    "    result = ([link])\n",
    "    return result    "
   ]
  },
  {
   "cell_type": "code",
   "execution_count": 5,
   "id": "marked-philosophy",
   "metadata": {},
   "outputs": [],
   "source": [
    "# initialize articles list\n",
    "articles = []\n",
    "# url with formatiing for page\n",
    "url = 'https://journals.plos.org/plosone/browse/computer_and_information_sciences?page={}'"
   ]
  },
  {
   "cell_type": "code",
   "execution_count": 6,
   "id": "aquatic-fossil",
   "metadata": {},
   "outputs": [],
   "source": [
    "def main():\n",
    "    for page in range (1,2):\n",
    "        page = requests.get(url.format(page)).content\n",
    "        soup = BeautifulSoup(page, 'html.parser')\n",
    "        results = soup.find_all('div', {'class': 'article-block'})\n",
    "        for item in results:\n",
    "            articles.append(extract_record(item)) \n",
    "            \n",
    "    with open('links.1.csv', 'w', newline='', encoding='utf-8') as f:\n",
    "        writer = csv.writer(f, delimiter='\\t')\n",
    "        writer.writerow(['link'])\n",
    "        writer.writerows(articles)\n",
    "        \n",
    "    num_articles = len(articles)\n",
    "        \n",
    "    log(f'Ran get_links.1.ipynb succesfully, finding {num_articles} articles')\n",
    "            "
   ]
  },
  {
   "cell_type": "code",
   "execution_count": 7,
   "id": "adjusted-roots",
   "metadata": {},
   "outputs": [],
   "source": [
    "main()"
   ]
  },
  {
   "cell_type": "code",
   "execution_count": null,
   "id": "antique-quantity",
   "metadata": {},
   "outputs": [],
   "source": []
  }
 ],
 "metadata": {
  "kernelspec": {
   "display_name": "Python 3",
   "language": "python",
   "name": "python3"
  },
  "language_info": {
   "codemirror_mode": {
    "name": "ipython",
    "version": 3
   },
   "file_extension": ".py",
   "mimetype": "text/x-python",
   "name": "python",
   "nbconvert_exporter": "python",
   "pygments_lexer": "ipython3",
   "version": "3.8.12"
  }
 },
 "nbformat": 4,
 "nbformat_minor": 5
}
