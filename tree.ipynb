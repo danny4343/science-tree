{
 "cells": [
  {
   "cell_type": "code",
   "execution_count": 1,
   "id": "induced-tuesday",
   "metadata": {},
   "outputs": [],
   "source": [
    "import pandas as pd\n",
    "import numpy as np\n",
    "import matplotlib.pyplot as plt\n",
    "import pickle\n",
    "from collections.abc import Iterable"
   ]
  },
  {
   "cell_type": "code",
   "execution_count": 2,
   "id": "varying-petite",
   "metadata": {},
   "outputs": [],
   "source": [
    "with open(r'files/topicDict.pkl', 'rb') as f:\n",
    "    topicDict = pickle.load(f)\n",
    "    \n",
    "with open(r'files/refTopicDict.pkl', 'rb') as f2:\n",
    "    refDict = pickle.load(f2)"
   ]
  },
  {
   "cell_type": "code",
   "execution_count": 3,
   "id": "major-hierarchy",
   "metadata": {},
   "outputs": [],
   "source": [
    "df = pd.read_csv('files/topics_abstract.txt', delimiter= '\\t')"
   ]
  },
  {
   "cell_type": "code",
   "execution_count": 4,
   "id": "complete-classics",
   "metadata": {},
   "outputs": [],
   "source": [
    "refDf = pd.read_csv('files/topics_refs.txt', delimiter= '\\t')"
   ]
  },
  {
   "cell_type": "code",
   "execution_count": 5,
   "id": "lightweight-share",
   "metadata": {},
   "outputs": [],
   "source": [
    "refDf['refTopics'] = [ eval(x) for x in refDf['refTopics'] ]"
   ]
  },
  {
   "cell_type": "code",
   "execution_count": 6,
   "id": "french-compilation",
   "metadata": {},
   "outputs": [],
   "source": [
    "df = df.merge(refDf, left_on='PMID', right_on='PMID')"
   ]
  },
  {
   "cell_type": "code",
   "execution_count": 7,
   "id": "advised-newark",
   "metadata": {},
   "outputs": [],
   "source": [
    "df = df.groupby('topic')['refTopics'].apply(list).reset_index(name='refTopics')"
   ]
  },
  {
   "cell_type": "code",
   "execution_count": 8,
   "id": "excellent-effect",
   "metadata": {},
   "outputs": [],
   "source": [
    "def flatten(l):\n",
    "    for el in l:\n",
    "        if isinstance(el, Iterable) and not isinstance(el, (str, bytes)):\n",
    "            yield from flatten(el)\n",
    "        else:\n",
    "            yield el"
   ]
  },
  {
   "cell_type": "code",
   "execution_count": 9,
   "id": "reasonable-winter",
   "metadata": {},
   "outputs": [],
   "source": [
    "df['refTopics'] =  df['refTopics'].apply(lambda x:list(flatten(x)))"
   ]
  },
  {
   "cell_type": "code",
   "execution_count": 10,
   "id": "oriental-scheduling",
   "metadata": {},
   "outputs": [
    {
     "data": {
      "image/png": "[encoded data removed]",
      "text/plain": [
       "<Figure size 2160x288 with 5 Axes>"
      ]
     },
     "metadata": {
      "needs_background": "light"
     },
     "output_type": "display_data"
    }
   ],
   "source": [
    "rows = ((len(df)-2) // 5) + 1\n",
    "fig, axes = plt.subplots(rows, 5, figsize=(30, (4*rows)), sharex=True) # 1x5 plot\n",
    "axes = axes.flatten()\n",
    "for i in range(0, len(df)):\n",
    "    ax = axes[i]\n",
    "    ax.hist(df[df['topic']==i]['refTopics'])\n",
    "    ax.set_title(f\"Topic {i}\", fontdict={\"fontsize\": 20})\n",
    "\n",
    "plt.show()"
   ]
  },
  {
   "cell_type": "code",
   "execution_count": 11,
   "id": "fifteen-subcommittee",
   "metadata": {},
   "outputs": [
    {
     "data": {
      "text/plain": [
       "{0: ['gene',\n",
       "  'expression',\n",
       "  'genome',\n",
       "  'transcription',\n",
       "  'promoter',\n",
       "  'region',\n",
       "  'sequence',\n",
       "  'regulatory',\n",
       "  'regulation',\n",
       "  'function'],\n",
       " 1: ['patient',\n",
       "  'health',\n",
       "  'trial',\n",
       "  'treatment',\n",
       "  'hiv',\n",
       "  'study',\n",
       "  'research',\n",
       "  'discus',\n",
       "  'disease',\n",
       "  'risk'],\n",
       " 2: ['cell',\n",
       "  'response',\n",
       "  'mouse',\n",
       "  'stem',\n",
       "  'infection',\n",
       "  'tumor',\n",
       "  'signaling',\n",
       "  'expression',\n",
       "  'immune',\n",
       "  'virus'],\n",
       " 3: ['protein',\n",
       "  'network',\n",
       "  'interaction',\n",
       "  'structure',\n",
       "  'binding',\n",
       "  'complex',\n",
       "  'domain',\n",
       "  'model',\n",
       "  'motif',\n",
       "  'method'],\n",
       " 4: ['population',\n",
       "  'specie',\n",
       "  'genetic',\n",
       "  'genome',\n",
       "  'human',\n",
       "  'selection',\n",
       "  'variation',\n",
       "  'sequence',\n",
       "  'mutation',\n",
       "  'evolution']}"
      ]
     },
     "execution_count": 11,
     "metadata": {},
     "output_type": "execute_result"
    }
   ],
   "source": [
    "topicDict"
   ]
  },
  {
   "cell_type": "code",
   "execution_count": 12,
   "id": "inner-compromise",
   "metadata": {},
   "outputs": [
    {
     "data": {
      "text/plain": [
       "{0: ['gene',\n",
       "  'expression',\n",
       "  'drosophila',\n",
       "  'regulation',\n",
       "  'mouse',\n",
       "  'pattern',\n",
       "  'development',\n",
       "  'control',\n",
       "  'evolution',\n",
       "  'identification'],\n",
       " 1: ['cell',\n",
       "  'stem',\n",
       "  'receptor',\n",
       "  'cycle',\n",
       "  'mouse',\n",
       "  'dendritic',\n",
       "  'embryonic',\n",
       "  'growth',\n",
       "  'factor',\n",
       "  'signaling'],\n",
       " 2: ['human',\n",
       "  'virus',\n",
       "  'immunodeficiency',\n",
       "  'type',\n",
       "  'infection',\n",
       "  'disease',\n",
       "  'study',\n",
       "  'genetic',\n",
       "  'population',\n",
       "  'mutation'],\n",
       " 3: ['protein',\n",
       "  'structure',\n",
       "  'kinase',\n",
       "  'interaction',\n",
       "  'function',\n",
       "  'complex',\n",
       "  'family',\n",
       "  'domain',\n",
       "  'network',\n",
       "  'yeast'],\n",
       " 4: ['genome',\n",
       "  'analysis',\n",
       "  'sequence',\n",
       "  'dna',\n",
       "  'evolution',\n",
       "  'comparative',\n",
       "  'sequencing',\n",
       "  'initial',\n",
       "  'genomic',\n",
       "  'molecular']}"
      ]
     },
     "execution_count": 12,
     "metadata": {},
     "output_type": "execute_result"
    }
   ],
   "source": [
    "refDict"
   ]
  },
  {
   "cell_type": "code",
   "execution_count": null,
   "id": "modern-portland",
   "metadata": {},
   "outputs": [],
   "source": []
  }
 ],
 "metadata": {
  "kernelspec": {
   "display_name": "Python 3",
   "language": "python",
   "name": "python3"
  },
  "language_info": {
   "codemirror_mode": {
    "name": "ipython",
    "version": 3
   },
   "file_extension": ".py",
   "mimetype": "text/x-python",
   "name": "python",
   "nbconvert_exporter": "python",
   "pygments_lexer": "ipython3",
   "version": "3.8.12"
  }
 },
 "nbformat": 4,
 "nbformat_minor": 5
}
