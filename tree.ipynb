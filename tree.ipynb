{
 "cells": [
  {
   "cell_type": "code",
   "execution_count": 1,
   "id": "b667615f-4aa5-426b-b1b5-abe28560ffd0",
   "metadata": {},
   "outputs": [],
   "source": [
    "import pandas as pd\n",
    "import numpy as np\n",
    "import matplotlib.pyplot as plt\n",
    "import pickle"
   ]
  },
  {
   "cell_type": "code",
   "execution_count": 2,
   "id": "10b9298f-1f16-4689-a83c-3d6fd4a87393",
   "metadata": {},
   "outputs": [],
   "source": [
    "with open(r'files/topicDict.pkl', 'rb') as f:\n",
    "    topicDict = pickle.load(f)"
   ]
  },
  {
   "cell_type": "code",
   "execution_count": 3,
   "id": "c21b7a93-287d-4dbc-a369-c588e3088d13",
   "metadata": {},
   "outputs": [
    {
     "data": {
      "text/plain": [
       "{0: 'protein', 1: 'cell', 2: 'hiv', 3: 'cancer', 4: 'gene'}"
      ]
     },
     "execution_count": 3,
     "metadata": {},
     "output_type": "execute_result"
    }
   ],
   "source": [
    "topicDict"
   ]
  },
  {
   "cell_type": "code",
   "execution_count": 4,
   "id": "d251c3ca-1389-42bb-ae07-4ae7a22fcd19",
   "metadata": {},
   "outputs": [],
   "source": [
    "df = pd.read_csv('files/topics.txt', delimiter= '\\t')"
   ]
  },
  {
   "cell_type": "code",
   "execution_count": 5,
   "id": "1b5e277c-4419-496b-a12b-e6d6e736e1d3",
   "metadata": {},
   "outputs": [
    {
     "data": {
      "text/html": [
       "<div>\n",
       "<style scoped>\n",
       "    .dataframe tbody tr th:only-of-type {\n",
       "        vertical-align: middle;\n",
       "    }\n",
       "\n",
       "    .dataframe tbody tr th {\n",
       "        vertical-align: top;\n",
       "    }\n",
       "\n",
       "    .dataframe thead th {\n",
       "        text-align: right;\n",
       "    }\n",
       "</style>\n",
       "<table border=\"1\" class=\"dataframe\">\n",
       "  <thead>\n",
       "    <tr style=\"text-align: right;\">\n",
       "      <th></th>\n",
       "      <th>PMID</th>\n",
       "      <th>title</th>\n",
       "      <th>abstract</th>\n",
       "      <th>references</th>\n",
       "      <th>topic</th>\n",
       "    </tr>\n",
       "  </thead>\n",
       "  <tbody>\n",
       "    <tr>\n",
       "      <th>0</th>\n",
       "      <td>12929205</td>\n",
       "      <td>The Transcriptome of the Intraerythrocytic Dev...</td>\n",
       "      <td>Plasmodium falciparum is the causative agent o...</td>\n",
       "      <td>['12427465', '12351791', '12519984', '11123685...</td>\n",
       "      <td>4</td>\n",
       "    </tr>\n",
       "    <tr>\n",
       "      <th>1</th>\n",
       "      <td>12929206</td>\n",
       "      <td>DNA Analysis Indicates That Asian Elephants Ar...</td>\n",
       "      <td>The origin of Borneo 's elephant is controvers...</td>\n",
       "      <td>['10739137', '8978083', '10762406', '12721223'...</td>\n",
       "      <td>0</td>\n",
       "    </tr>\n",
       "    <tr>\n",
       "      <th>2</th>\n",
       "      <td>12975658</td>\n",
       "      <td>Drosophila Free-Running Rhythms Require Interc...</td>\n",
       "      <td>Robust self-sustained oscillation are a ubiqui...</td>\n",
       "      <td>['9630223', '11520929', '12839998', '10684876'...</td>\n",
       "      <td>0</td>\n",
       "    </tr>\n",
       "    <tr>\n",
       "      <th>3</th>\n",
       "      <td>12975657</td>\n",
       "      <td>From Gene Trees to Organismal Phylogeny in Pro...</td>\n",
       "      <td>The rapid increase in published genomic sequen...</td>\n",
       "      <td>['12219091', '9254694', '11752243', '9278503',...</td>\n",
       "      <td>4</td>\n",
       "    </tr>\n",
       "    <tr>\n",
       "      <th>4</th>\n",
       "      <td>14551903</td>\n",
       "      <td>A Functional Analysis of the Spacer of V(D)J R...</td>\n",
       "      <td>During lymphocyte development , V ( D ) J reco...</td>\n",
       "      <td>['9671477', '3120312', '9665841', '11983152', ...</td>\n",
       "      <td>4</td>\n",
       "    </tr>\n",
       "  </tbody>\n",
       "</table>\n",
       "</div>"
      ],
      "text/plain": [
       "       PMID                                              title  \\\n",
       "0  12929205  The Transcriptome of the Intraerythrocytic Dev...   \n",
       "1  12929206  DNA Analysis Indicates That Asian Elephants Ar...   \n",
       "2  12975658  Drosophila Free-Running Rhythms Require Interc...   \n",
       "3  12975657  From Gene Trees to Organismal Phylogeny in Pro...   \n",
       "4  14551903  A Functional Analysis of the Spacer of V(D)J R...   \n",
       "\n",
       "                                            abstract  \\\n",
       "0  Plasmodium falciparum is the causative agent o...   \n",
       "1  The origin of Borneo 's elephant is controvers...   \n",
       "2  Robust self-sustained oscillation are a ubiqui...   \n",
       "3  The rapid increase in published genomic sequen...   \n",
       "4  During lymphocyte development , V ( D ) J reco...   \n",
       "\n",
       "                                          references  topic  \n",
       "0  ['12427465', '12351791', '12519984', '11123685...      4  \n",
       "1  ['10739137', '8978083', '10762406', '12721223'...      0  \n",
       "2  ['9630223', '11520929', '12839998', '10684876'...      0  \n",
       "3  ['12219091', '9254694', '11752243', '9278503',...      4  \n",
       "4  ['9671477', '3120312', '9665841', '11983152', ...      4  "
      ]
     },
     "execution_count": 5,
     "metadata": {},
     "output_type": "execute_result"
    }
   ],
   "source": [
    "df.head()"
   ]
  },
  {
   "cell_type": "code",
   "execution_count": 6,
   "id": "4db985c7-ccd1-4cc2-a80a-fdea9dcf98a4",
   "metadata": {},
   "outputs": [],
   "source": [
    "allRefs = []\n",
    "\n",
    "for i in df.references.dropna():\n",
    "        allRefs.extend(eval(i))\n",
    "\n",
    "pmids = df[df.PMID != 0].PMID.tolist()"
   ]
  },
  {
   "cell_type": "code",
   "execution_count": 7,
   "id": "bb356f7a-456f-4544-9865-a4762175eb03",
   "metadata": {},
   "outputs": [
    {
     "data": {
      "text/plain": [
       "set()"
      ]
     },
     "execution_count": 7,
     "metadata": {},
     "output_type": "execute_result"
    }
   ],
   "source": [
    "set(pmids).intersection(allRefs)"
   ]
  },
  {
   "cell_type": "code",
   "execution_count": 8,
   "id": "1a316b78-09d1-46b0-aa6e-d66655293f16",
   "metadata": {},
   "outputs": [
    {
     "name": "stdout",
     "output_type": "stream",
     "text": [
      "2095224\n",
      "53630\n"
     ]
    }
   ],
   "source": [
    "print(len(allRefs))\n",
    "print(len(pmids))"
   ]
  },
  {
   "cell_type": "code",
   "execution_count": null,
   "id": "f32c0c61-ad54-4a86-8219-2ee460c2d993",
   "metadata": {},
   "outputs": [],
   "source": []
  }
 ],
 "metadata": {
  "kernelspec": {
   "display_name": "Python 3 (ipykernel)",
   "language": "python",
   "name": "python3"
  },
  "language_info": {
   "codemirror_mode": {
    "name": "ipython",
    "version": 3
   },
   "file_extension": ".py",
   "mimetype": "text/x-python",
   "name": "python",
   "nbconvert_exporter": "python",
   "pygments_lexer": "ipython3",
   "version": "3.7.3"
  }
 },
 "nbformat": 4,
 "nbformat_minor": 5
}
