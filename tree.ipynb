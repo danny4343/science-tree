{
 "cells": [
  {
   "cell_type": "code",
   "execution_count": 1,
   "id": "b667615f-4aa5-426b-b1b5-abe28560ffd0",
   "metadata": {},
   "outputs": [],
   "source": [
    "import pickle"
   ]
  },
  {
   "cell_type": "code",
   "execution_count": 2,
   "id": "10b9298f-1f16-4689-a83c-3d6fd4a87393",
   "metadata": {},
   "outputs": [],
   "source": [
    "with open(r'files/topicDict.pkl', 'rb') as f:\n",
    "    topicDict = pickle.load(f)"
   ]
  },
  {
   "cell_type": "code",
   "execution_count": 3,
   "id": "c21b7a93-287d-4dbc-a369-c588e3088d13",
   "metadata": {},
   "outputs": [
    {
     "data": {
      "text/plain": [
       "{0: 'gene',\n",
       " 1: 'patient',\n",
       " 2: 'cell',\n",
       " 3: 'neuron',\n",
       " 4: 'protein',\n",
       " 5: 'population',\n",
       " 6: 'research',\n",
       " 7: 'hiv',\n",
       " 8: 'virus',\n",
       " 9: 'genome'}"
      ]
     },
     "execution_count": 3,
     "metadata": {},
     "output_type": "execute_result"
    }
   ],
   "source": [
    "topicDict"
   ]
  },
  {
   "cell_type": "code",
   "execution_count": null,
   "id": "d251c3ca-1389-42bb-ae07-4ae7a22fcd19",
   "metadata": {},
   "outputs": [],
   "source": []
  }
 ],
 "metadata": {
  "kernelspec": {
   "display_name": "Python 3 (ipykernel)",
   "language": "python",
   "name": "python3"
  },
  "language_info": {
   "codemirror_mode": {
    "name": "ipython",
    "version": 3
   },
   "file_extension": ".py",
   "mimetype": "text/x-python",
   "name": "python",
   "nbconvert_exporter": "python",
   "pygments_lexer": "ipython3",
   "version": "3.7.3"
  }
 },
 "nbformat": 4,
 "nbformat_minor": 5
}
