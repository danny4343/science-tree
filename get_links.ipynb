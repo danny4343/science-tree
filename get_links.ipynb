{
 "cells": [
  {
   "cell_type": "code",
   "execution_count": 1,
   "id": "adjusted-amount",
   "metadata": {},
   "outputs": [],
   "source": [
    "from bs4 import BeautifulSoup\n",
    "import csv"
   ]
  },
  {
   "cell_type": "code",
   "execution_count": 2,
   "id": "virgin-cycling",
   "metadata": {},
   "outputs": [],
   "source": [
    "import requests"
   ]
  },
  {
   "cell_type": "code",
   "execution_count": 3,
   "id": "delayed-keyboard",
   "metadata": {},
   "outputs": [],
   "source": [
    "# function to extract useful info from html page\n",
    "def extract_record(item):\n",
    "    # extract and return data for single article\n",
    "    \n",
    "    title = item.div.a.text\n",
    "    link = 'https://journals.plos.org' + item.a.get('href')\n",
    "    \n",
    "    result = (link, title)\n",
    "    return result    "
   ]
  },
  {
   "cell_type": "code",
   "execution_count": 4,
   "id": "dimensional-watson",
   "metadata": {},
   "outputs": [],
   "source": [
    "# initialize articles list\n",
    "articles = []\n",
    "# url with formatiing for page\n",
    "url = 'https://journals.plos.org/plosone/browse/computer_and_information_sciences?page={}'"
   ]
  },
  {
   "cell_type": "code",
   "execution_count": 5,
   "id": "front-integer",
   "metadata": {},
   "outputs": [],
   "source": [
    "def main():\n",
    "    for page in range (1,2):\n",
    "        page = requests.get(url.format(page)).content\n",
    "        soup = BeautifulSoup(page, 'html.parser')\n",
    "        results = soup.find_all('div', {'class': 'article-block'})\n",
    "        for item in results:\n",
    "            articles.append(extract_record(item)) \n",
    "            \n",
    "    with open('links.csv', 'w', newline='', encoding='utf-8') as f:\n",
    "        writer = csv.writer(f, delimiter='\\t')\n",
    "        writer.writerow(['link', 'title'])\n",
    "        writer.writerows(articles)\n",
    "            "
   ]
  },
  {
   "cell_type": "code",
   "execution_count": 6,
   "id": "unlike-witch",
   "metadata": {},
   "outputs": [],
   "source": [
    "main()"
   ]
  },
  {
   "cell_type": "code",
   "execution_count": 7,
   "id": "desirable-respondent",
   "metadata": {},
   "outputs": [
    {
     "data": {
      "text/plain": [
       "13"
      ]
     },
     "execution_count": 7,
     "metadata": {},
     "output_type": "execute_result"
    }
   ],
   "source": [
    "len(articles)"
   ]
  },
  {
   "cell_type": "code",
   "execution_count": null,
   "id": "formed-segment",
   "metadata": {},
   "outputs": [],
   "source": []
  }
 ],
 "metadata": {
  "kernelspec": {
   "display_name": "Python 3",
   "language": "python",
   "name": "python3"
  },
  "language_info": {
   "codemirror_mode": {
    "name": "ipython",
    "version": 3
   },
   "file_extension": ".py",
   "mimetype": "text/x-python",
   "name": "python",
   "nbconvert_exporter": "python",
   "pygments_lexer": "ipython3",
   "version": "3.8.12"
  }
 },
 "nbformat": 4,
 "nbformat_minor": 5
}
