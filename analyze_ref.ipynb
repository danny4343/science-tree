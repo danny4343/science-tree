{
 "cells": [
  {
   "cell_type": "code",
   "execution_count": 1,
   "id": "leading-nickel",
   "metadata": {},
   "outputs": [],
   "source": [
    "from bs4 import BeautifulSoup"
   ]
  },
  {
   "cell_type": "code",
   "execution_count": 2,
   "id": "certain-removal",
   "metadata": {},
   "outputs": [],
   "source": [
    "import requests\n",
    "import ssl"
   ]
  },
  {
   "cell_type": "code",
   "execution_count": 3,
   "id": "actual-marketplace",
   "metadata": {},
   "outputs": [],
   "source": [
    "import pandas as pd\n",
    "from collections import Counter"
   ]
  },
  {
   "cell_type": "code",
   "execution_count": 4,
   "id": "hazardous-semiconductor",
   "metadata": {},
   "outputs": [],
   "source": [
    "from urllib.parse import urlparse"
   ]
  },
  {
   "cell_type": "code",
   "execution_count": 16,
   "id": "dependent-figure",
   "metadata": {},
   "outputs": [],
   "source": [
    "import warnings\n",
    "warnings.filterwarnings('ignore')"
   ]
  },
  {
   "cell_type": "code",
   "execution_count": 5,
   "id": "circular-litigation",
   "metadata": {},
   "outputs": [],
   "source": [
    "headers = {\n",
    "    \"User-Agent\": \"Mozilla/5.0 (Windows NT 10.0; Win64; x64) AppleWebKit/537.36 (KHTML, like Gecko) Chrome/70.0.3538.102 Safari/537.36 Edge/18.19582\"\n",
    "}"
   ]
  },
  {
   "cell_type": "code",
   "execution_count": 6,
   "id": "dietary-thread",
   "metadata": {},
   "outputs": [],
   "source": [
    "df = pd.read_csv('results.csv', delimiter= '\\t')"
   ]
  },
  {
   "cell_type": "code",
   "execution_count": 23,
   "id": "sticky-sleeping",
   "metadata": {},
   "outputs": [],
   "source": [
    "# all references in flat list\n",
    "all_references = []\n",
    "for sublist in df.references:\n",
    "    sub = eval(sublist) # convert from string\n",
    "    for item in sub:        \n",
    "        all_references.append(item)    "
   ]
  },
  {
   "cell_type": "code",
   "execution_count": 24,
   "id": "outer-offering",
   "metadata": {},
   "outputs": [],
   "source": [
    "# initialize journal list\n",
    "journals = []"
   ]
  },
  {
   "cell_type": "code",
   "execution_count": 25,
   "id": "apart-primary",
   "metadata": {},
   "outputs": [
    {
     "name": "stdout",
     "output_type": "stream",
     "text": [
      "link.springer.com\n"
     ]
    }
   ],
   "source": [
    "domain = urlparse('https://link.springer.com/chapter/10.1007/978-3-7091-0579-5_5').netloc\n",
    "print(domain)"
   ]
  },
  {
   "cell_type": "code",
   "execution_count": 26,
   "id": "western-heath",
   "metadata": {},
   "outputs": [
    {
     "name": "stdout",
     "output_type": "stream",
     "text": [
      "331\n"
     ]
    }
   ],
   "source": [
    "print(len(all_references))"
   ]
  },
  {
   "cell_type": "code",
   "execution_count": 27,
   "id": "revised-restoration",
   "metadata": {},
   "outputs": [],
   "source": [
    "def main():\n",
    "    counter = 0;\n",
    "    for link in all_references:\n",
    "        request = requests.get(link, headers=headers, verify=False)\n",
    "        domain = urlparse(request.url).netloc\n",
    "        journals.append(domain)\n",
    "        counter+=1;\n",
    "        if counter%10 == 0:\n",
    "            print(counter)\n"
   ]
  },
  {
   "cell_type": "code",
   "execution_count": 28,
   "id": "cleared-village",
   "metadata": {},
   "outputs": [
    {
     "name": "stdout",
     "output_type": "stream",
     "text": [
      "10\n",
      "20\n",
      "30\n",
      "40\n",
      "50\n",
      "60\n",
      "70\n",
      "80\n",
      "90\n",
      "100\n",
      "110\n",
      "120\n",
      "130\n",
      "140\n",
      "150\n",
      "160\n",
      "170\n",
      "180\n",
      "190\n",
      "200\n",
      "210\n",
      "220\n",
      "230\n",
      "240\n",
      "250\n",
      "260\n",
      "270\n",
      "280\n",
      "290\n",
      "300\n",
      "310\n",
      "320\n",
      "330\n"
     ]
    }
   ],
   "source": [
    "main()"
   ]
  },
  {
   "cell_type": "code",
   "execution_count": 29,
   "id": "twelve-instruction",
   "metadata": {},
   "outputs": [
    {
     "data": {
      "text/plain": [
       "331"
      ]
     },
     "execution_count": 29,
     "metadata": {},
     "output_type": "execute_result"
    }
   ],
   "source": [
    "len(journals)"
   ]
  },
  {
   "cell_type": "code",
   "execution_count": 30,
   "id": "color-porter",
   "metadata": {},
   "outputs": [],
   "source": [
    "counter = Counter(journals)"
   ]
  },
  {
   "cell_type": "code",
   "execution_count": 31,
   "id": "urban-detroit",
   "metadata": {},
   "outputs": [
    {
     "data": {
      "text/plain": [
       "[('linkinghub.elsevier.com', 63),\n",
       " ('ieeexplore.ieee.org', 35),\n",
       " ('link.springer.com', 30),\n",
       " ('onlinelibrary.wiley.com', 20),\n",
       " ('journals.sagepub.com', 17),\n",
       " ('www.nature.com', 13),\n",
       " ('academic.oup.com', 12),\n",
       " ('www.mdpi.com', 11),\n",
       " ('journals.plos.org', 9),\n",
       " ('www.tandfonline.com', 9),\n",
       " ('journals.lww.com', 9),\n",
       " ('www.cambridge.org', 7),\n",
       " ('kns.cnki.net', 6),\n",
       " ('doi.org', 5),\n",
       " ('mhealth.jmir.org', 4),\n",
       " ('www.frontiersin.org', 4),\n",
       " ('journals.humankinetics.com', 4),\n",
       " ('www.cnki.net', 4),\n",
       " ('pnas.org', 3),\n",
       " ('www.jmir.org', 3),\n",
       " ('www.hindawi.com', 3),\n",
       " ('ijbnpa.biomedcentral.com', 3),\n",
       " ('doi.apa.org:443', 3),\n",
       " ('journals.asm.org', 2),\n",
       " ('www.worldscientific.com', 2),\n",
       " ('www.science.org', 2),\n",
       " ('jkms.org', 2),\n",
       " ('publications.aap.org', 2),\n",
       " ('jamanetwork.com', 2),\n",
       " ('www.ipol.im', 2),\n",
       " ('journal.r-project.org', 2),\n",
       " ('direct.mit.edu', 1),\n",
       " ('translational-medicine.biomedcentral.com', 1),\n",
       " ('f1000research.com', 1),\n",
       " ('www.mattioli1885journals.com', 1),\n",
       " ('mental.jmir.org', 1),\n",
       " ('www.ncmedicaljournal.com', 1),\n",
       " ('www.dovepress.com', 1),\n",
       " ('pubs.acs.org', 1),\n",
       " ('nsca.allenpress.com', 1),\n",
       " ('www.thieme-connect.de', 1),\n",
       " ('sportsmedicine-open.springeropen.com', 1),\n",
       " ('koreascience.or.kr', 1),\n",
       " ('thesai.org', 1),\n",
       " ('adc.bmj.com', 1),\n",
       " ('emj.bmj.com', 1),\n",
       " ('annalsofintensivecare.springeropen.com', 1),\n",
       " ('epubs.siam.org', 1),\n",
       " ('opg.optica.org', 1),\n",
       " ('dl.acm.org', 1),\n",
       " ('airccse.org', 1),\n",
       " ('www.techscience.com', 1),\n",
       " ('ascelibrary.org', 1),\n",
       " ('www.jasss.org', 1),\n",
       " ('ij-healthgeographics.biomedcentral.com', 1),\n",
       " ('validate.perfdrive.com', 1),\n",
       " ('www.scirp.org', 1),\n",
       " ('www.liebertpub.com', 1),\n",
       " ('aodr.org', 1),\n",
       " ('www.ijpronline.com', 1),\n",
       " ('fdslive.oup.com', 1),\n",
       " ('elifesciences.org', 1),\n",
       " ('www.bmj.com', 1),\n",
       " ('joss.theoj.org', 1),\n",
       " ('peerj.com', 1),\n",
       " ('bjsm.bmj.com', 1),\n",
       " ('www.annualreviews.org', 1),\n",
       " ('journals.aps.org', 1),\n",
       " ('aeps.alljournals.ac.cn', 1)]"
      ]
     },
     "execution_count": 31,
     "metadata": {},
     "output_type": "execute_result"
    }
   ],
   "source": [
    "counter.most_common()"
   ]
  },
  {
   "cell_type": "code",
   "execution_count": null,
   "id": "variable-antibody",
   "metadata": {},
   "outputs": [],
   "source": []
  }
 ],
 "metadata": {
  "kernelspec": {
   "display_name": "Python 3",
   "language": "python",
   "name": "python3"
  },
  "language_info": {
   "codemirror_mode": {
    "name": "ipython",
    "version": 3
   },
   "file_extension": ".py",
   "mimetype": "text/x-python",
   "name": "python",
   "nbconvert_exporter": "python",
   "pygments_lexer": "ipython3",
   "version": "3.8.12"
  }
 },
 "nbformat": 4,
 "nbformat_minor": 5
}
