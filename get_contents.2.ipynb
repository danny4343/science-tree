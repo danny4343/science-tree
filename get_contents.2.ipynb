{
 "cells": [
  {
   "cell_type": "markdown",
   "id": "immediate-cattle",
   "metadata": {},
   "source": [
    "## Find abstract and references"
   ]
  },
  {
   "cell_type": "code",
   "execution_count": 1,
   "id": "explicit-prompt",
   "metadata": {},
   "outputs": [],
   "source": [
    "from bs4 import BeautifulSoup"
   ]
  },
  {
   "cell_type": "code",
   "execution_count": 2,
   "id": "wrapped-lingerie",
   "metadata": {},
   "outputs": [],
   "source": [
    "import requests"
   ]
  },
  {
   "cell_type": "code",
   "execution_count": 3,
   "id": "proprietary-function",
   "metadata": {},
   "outputs": [],
   "source": [
    "import pandas as pd\n",
    "import re"
   ]
  },
  {
   "cell_type": "code",
   "execution_count": 4,
   "id": "important-count",
   "metadata": {},
   "outputs": [],
   "source": [
    "from functions import log, isInRef"
   ]
  },
  {
   "cell_type": "code",
   "execution_count": 5,
   "id": "grand-concern",
   "metadata": {},
   "outputs": [],
   "source": [
    "from urllib.parse import urlparse"
   ]
  },
  {
   "cell_type": "code",
   "execution_count": 6,
   "id": "living-actor",
   "metadata": {},
   "outputs": [],
   "source": [
    "df = pd.read_csv('links.1.csv', delimiter= '\\t')"
   ]
  },
  {
   "cell_type": "code",
   "execution_count": 7,
   "id": "banner-contamination",
   "metadata": {},
   "outputs": [],
   "source": [
    "# dictionary for getting journal name from url\n",
    "journals_df = pd.read_csv('domain_to_journal.csv', delimiter='\\t')\n",
    "journal_ref = pd.Series(journals_df.journal.values,index=journals_df.domain).to_dict()\n",
    "# dict: journal_ref['url'] = journal name"
   ]
  },
  {
   "cell_type": "code",
   "execution_count": 8,
   "id": "vocal-atlantic",
   "metadata": {},
   "outputs": [],
   "source": [
    "headers = {\n",
    "    \"User-Agent\": \"Mozilla/5.0 (Windows NT 10.0; Win64; x64) AppleWebKit/537.36 (KHTML, like Gecko) Chrome/70.0.3538.102 Safari/537.36 Edge/18.19582\"\n",
    "}"
   ]
  },
  {
   "cell_type": "code",
   "execution_count": 9,
   "id": "oriental-deadline",
   "metadata": {},
   "outputs": [],
   "source": [
    "# initialize abstracts list and citations list as well as journal name\n",
    "abstracts = []\n",
    "all_references = [] # nested list\n",
    "journal_names = []"
   ]
  },
  {
   "cell_type": "code",
   "execution_count": 10,
   "id": "russian-buyer",
   "metadata": {},
   "outputs": [],
   "source": [
    "# make sure reference link exists \n",
    "def check_ref(ref):\n",
    "    try:\n",
    "        link = ref.ul.li.a.get('href')\n",
    "        if link != '#': # occurs if link is fake\n",
    "            return link\n",
    "    except AttributeError: # occurs if no link exists\n",
    "        return"
   ]
  },
  {
   "cell_type": "code",
   "execution_count": 11,
   "id": "concerned-solomon",
   "metadata": {},
   "outputs": [],
   "source": [
    "def main():\n",
    "    for link in df.link:\n",
    "        \n",
    "        domain = urlparse(link).netloc\n",
    "        \n",
    "        if isInRef(domain):\n",
    "            journal_names.append(journal_ref[domain])\n",
    "                \n",
    "        page = requests.get(link, headers=headers).content\n",
    "        soup = BeautifulSoup(page, 'html.parser')\n",
    "        \n",
    "        # get abstract \n",
    "        abstract = soup.find('div', 'abstract-content').p.get_text()\n",
    "        abstracts.append(abstract)\n",
    "        \n",
    "        # get references\n",
    "        # initialize reference list\n",
    "        local_references = []\n",
    "        references = soup.find('ol', 'references').find_all('li', id=re.compile('^ref\\d+'))\n",
    "        for ref in references:\n",
    "            checked_ref = check_ref(ref)\n",
    "            if checked_ref != None:\n",
    "                local_references.append(checked_ref)\n",
    "        all_references.append(local_references)\n",
    "        \n",
    "    # count references\n",
    "    count = 0\n",
    "    for listElem in all_references:\n",
    "        count += len(listElem)\n",
    "\n",
    "    log(f'Ran get_contents.2.ipynb succesfully, finding {count} references')\n",
    "    print(count)\n",
    "        \n"
   ]
  },
  {
   "cell_type": "code",
   "execution_count": 12,
   "id": "recovered-calculator",
   "metadata": {},
   "outputs": [
    {
     "name": "stdout",
     "output_type": "stream",
     "text": [
      "305\n"
     ]
    }
   ],
   "source": [
    "main()"
   ]
  },
  {
   "cell_type": "code",
   "execution_count": 13,
   "id": "sexual-colorado",
   "metadata": {},
   "outputs": [],
   "source": [
    "df[\"abstract\"] = abstracts\n",
    "df[\"references\"] = all_references\n",
    "df[\"journal\"] = journal_names"
   ]
  },
  {
   "cell_type": "code",
   "execution_count": 14,
   "id": "hidden-movement",
   "metadata": {},
   "outputs": [
    {
     "data": {
      "text/html": [
       "<div>\n",
       "<style scoped>\n",
       "    .dataframe tbody tr th:only-of-type {\n",
       "        vertical-align: middle;\n",
       "    }\n",
       "\n",
       "    .dataframe tbody tr th {\n",
       "        vertical-align: top;\n",
       "    }\n",
       "\n",
       "    .dataframe thead th {\n",
       "        text-align: right;\n",
       "    }\n",
       "</style>\n",
       "<table border=\"1\" class=\"dataframe\">\n",
       "  <thead>\n",
       "    <tr style=\"text-align: right;\">\n",
       "      <th></th>\n",
       "      <th>link</th>\n",
       "      <th>title</th>\n",
       "      <th>abstract</th>\n",
       "      <th>references</th>\n",
       "      <th>journal</th>\n",
       "    </tr>\n",
       "  </thead>\n",
       "  <tbody>\n",
       "    <tr>\n",
       "      <th>0</th>\n",
       "      <td>https://journals.plos.org/plosone/article?id=1...</td>\n",
       "      <td>Multi-methodological approach for the Quality ...</td>\n",
       "      <td>We set forth to assess the quality of an herba...</td>\n",
       "      <td>[https://doi.org/10.1016/j.jpba.2011.05.004, h...</td>\n",
       "      <td>PLOS</td>\n",
       "    </tr>\n",
       "    <tr>\n",
       "      <th>1</th>\n",
       "      <td>https://journals.plos.org/plosone/article?id=1...</td>\n",
       "      <td>Differential COVID-19 testing, admissions, and...</td>\n",
       "      <td>Understanding of COVID-19 acquisition and seve...</td>\n",
       "      <td>[https://doi.org/10.1111/joim.13117, https://d...</td>\n",
       "      <td>PLOS</td>\n",
       "    </tr>\n",
       "    <tr>\n",
       "      <th>2</th>\n",
       "      <td>https://journals.plos.org/plosone/article?id=1...</td>\n",
       "      <td>DAO-CP: Data-Adaptive Online CP decomposition ...</td>\n",
       "      <td>How can we accurately and efficiently decompos...</td>\n",
       "      <td>[https://doi.org/10.1109/TSP.2017.2690524, htt...</td>\n",
       "      <td>PLOS</td>\n",
       "    </tr>\n",
       "    <tr>\n",
       "      <th>3</th>\n",
       "      <td>https://journals.plos.org/plosone/article?id=1...</td>\n",
       "      <td>Retinal biomarkers of Cerebral Small Vessel Di...</td>\n",
       "      <td>Cerebral Small Vessel Disease (CSVD), a progre...</td>\n",
       "      <td>[https://doi.org/10.1212/WNL.0000000000007654,...</td>\n",
       "      <td>PLOS</td>\n",
       "    </tr>\n",
       "    <tr>\n",
       "      <th>4</th>\n",
       "      <td>https://journals.plos.org/plosone/article?id=1...</td>\n",
       "      <td>Blockchain-based healthcare management system ...</td>\n",
       "      <td>The lack of data outsourcing in healthcare man...</td>\n",
       "      <td>[https://doi.org/10.3390/sym10100470, https://...</td>\n",
       "      <td>PLOS</td>\n",
       "    </tr>\n",
       "    <tr>\n",
       "      <th>5</th>\n",
       "      <td>https://journals.plos.org/plosone/article?id=1...</td>\n",
       "      <td>Analysis of vibratory mode changes in symmetri...</td>\n",
       "      <td>Investigations of neuromuscular control of voi...</td>\n",
       "      <td>[https://doi.org/10.2174/157489311796904637, h...</td>\n",
       "      <td>PLOS</td>\n",
       "    </tr>\n",
       "    <tr>\n",
       "      <th>6</th>\n",
       "      <td>https://journals.plos.org/plosone/article?id=1...</td>\n",
       "      <td>A study on pick cutting properties with full-s...</td>\n",
       "      <td>To investigate the cutting forces on road-head...</td>\n",
       "      <td>[https://doi.org/10.1007/s00603-015-0834-7, ht...</td>\n",
       "      <td>PLOS</td>\n",
       "    </tr>\n",
       "    <tr>\n",
       "      <th>7</th>\n",
       "      <td>https://journals.plos.org/plosone/article?id=1...</td>\n",
       "      <td>Is it really organic? Credibility factors of o...</td>\n",
       "      <td>Consumer trust and organic food product credib...</td>\n",
       "      <td>[https://doi.org/10.1080/00207144.2020.1756695...</td>\n",
       "      <td>PLOS</td>\n",
       "    </tr>\n",
       "    <tr>\n",
       "      <th>8</th>\n",
       "      <td>https://journals.plos.org/plosone/article?id=1...</td>\n",
       "      <td>Contractility analysis of human engineered 3D ...</td>\n",
       "      <td>The use of Engineered Heart Tissues (EHT) as i...</td>\n",
       "      <td>[https://doi.org/10.1161/CIR.0000000000000570,...</td>\n",
       "      <td>PLOS</td>\n",
       "    </tr>\n",
       "    <tr>\n",
       "      <th>9</th>\n",
       "      <td>https://journals.plos.org/plosone/article?id=1...</td>\n",
       "      <td>Experimental study on engineering properties o...</td>\n",
       "      <td>Carbide slag has been used to prepare solidifi...</td>\n",
       "      <td>[https://doi.org/10.1016/j.conbuildmat.2019.05...</td>\n",
       "      <td>PLOS</td>\n",
       "    </tr>\n",
       "    <tr>\n",
       "      <th>10</th>\n",
       "      <td>https://journals.plos.org/plosone/article?id=1...</td>\n",
       "      <td>User incentives for blockchain-based data shar...</td>\n",
       "      <td>Data sharing is very important for acceleratin...</td>\n",
       "      <td>[https://doi.org/10.1002/asi.22634, https://do...</td>\n",
       "      <td>PLOS</td>\n",
       "    </tr>\n",
       "    <tr>\n",
       "      <th>11</th>\n",
       "      <td>https://journals.plos.org/plosone/article?id=1...</td>\n",
       "      <td>Can digital finance reduce industrial pollutio...</td>\n",
       "      <td>Industrial pollution reduction is a crucial is...</td>\n",
       "      <td>[]</td>\n",
       "      <td>PLOS</td>\n",
       "    </tr>\n",
       "    <tr>\n",
       "      <th>12</th>\n",
       "      <td>https://journals.plos.org/plosone/article?id=1...</td>\n",
       "      <td>Social capital, identification and support: Sc...</td>\n",
       "      <td>Social relationships are important predictors ...</td>\n",
       "      <td>[https://doi.org/10.1371/journal.pmed.1000316,...</td>\n",
       "      <td>PLOS</td>\n",
       "    </tr>\n",
       "  </tbody>\n",
       "</table>\n",
       "</div>"
      ],
      "text/plain": [
       "                                                 link  \\\n",
       "0   https://journals.plos.org/plosone/article?id=1...   \n",
       "1   https://journals.plos.org/plosone/article?id=1...   \n",
       "2   https://journals.plos.org/plosone/article?id=1...   \n",
       "3   https://journals.plos.org/plosone/article?id=1...   \n",
       "4   https://journals.plos.org/plosone/article?id=1...   \n",
       "5   https://journals.plos.org/plosone/article?id=1...   \n",
       "6   https://journals.plos.org/plosone/article?id=1...   \n",
       "7   https://journals.plos.org/plosone/article?id=1...   \n",
       "8   https://journals.plos.org/plosone/article?id=1...   \n",
       "9   https://journals.plos.org/plosone/article?id=1...   \n",
       "10  https://journals.plos.org/plosone/article?id=1...   \n",
       "11  https://journals.plos.org/plosone/article?id=1...   \n",
       "12  https://journals.plos.org/plosone/article?id=1...   \n",
       "\n",
       "                                                title  \\\n",
       "0   Multi-methodological approach for the Quality ...   \n",
       "1   Differential COVID-19 testing, admissions, and...   \n",
       "2   DAO-CP: Data-Adaptive Online CP decomposition ...   \n",
       "3   Retinal biomarkers of Cerebral Small Vessel Di...   \n",
       "4   Blockchain-based healthcare management system ...   \n",
       "5   Analysis of vibratory mode changes in symmetri...   \n",
       "6   A study on pick cutting properties with full-s...   \n",
       "7   Is it really organic? Credibility factors of o...   \n",
       "8   Contractility analysis of human engineered 3D ...   \n",
       "9   Experimental study on engineering properties o...   \n",
       "10  User incentives for blockchain-based data shar...   \n",
       "11  Can digital finance reduce industrial pollutio...   \n",
       "12  Social capital, identification and support: Sc...   \n",
       "\n",
       "                                             abstract  \\\n",
       "0   We set forth to assess the quality of an herba...   \n",
       "1   Understanding of COVID-19 acquisition and seve...   \n",
       "2   How can we accurately and efficiently decompos...   \n",
       "3   Cerebral Small Vessel Disease (CSVD), a progre...   \n",
       "4   The lack of data outsourcing in healthcare man...   \n",
       "5   Investigations of neuromuscular control of voi...   \n",
       "6   To investigate the cutting forces on road-head...   \n",
       "7   Consumer trust and organic food product credib...   \n",
       "8   The use of Engineered Heart Tissues (EHT) as i...   \n",
       "9   Carbide slag has been used to prepare solidifi...   \n",
       "10  Data sharing is very important for acceleratin...   \n",
       "11  Industrial pollution reduction is a crucial is...   \n",
       "12  Social relationships are important predictors ...   \n",
       "\n",
       "                                           references journal  \n",
       "0   [https://doi.org/10.1016/j.jpba.2011.05.004, h...    PLOS  \n",
       "1   [https://doi.org/10.1111/joim.13117, https://d...    PLOS  \n",
       "2   [https://doi.org/10.1109/TSP.2017.2690524, htt...    PLOS  \n",
       "3   [https://doi.org/10.1212/WNL.0000000000007654,...    PLOS  \n",
       "4   [https://doi.org/10.3390/sym10100470, https://...    PLOS  \n",
       "5   [https://doi.org/10.2174/157489311796904637, h...    PLOS  \n",
       "6   [https://doi.org/10.1007/s00603-015-0834-7, ht...    PLOS  \n",
       "7   [https://doi.org/10.1080/00207144.2020.1756695...    PLOS  \n",
       "8   [https://doi.org/10.1161/CIR.0000000000000570,...    PLOS  \n",
       "9   [https://doi.org/10.1016/j.conbuildmat.2019.05...    PLOS  \n",
       "10  [https://doi.org/10.1002/asi.22634, https://do...    PLOS  \n",
       "11                                                 []    PLOS  \n",
       "12  [https://doi.org/10.1371/journal.pmed.1000316,...    PLOS  "
      ]
     },
     "execution_count": 14,
     "metadata": {},
     "output_type": "execute_result"
    }
   ],
   "source": [
    "df"
   ]
  },
  {
   "cell_type": "code",
   "execution_count": 15,
   "id": "super-drunk",
   "metadata": {},
   "outputs": [],
   "source": [
    "df.to_csv(r'results.2.csv', sep='\\t', index = False)"
   ]
  },
  {
   "cell_type": "code",
   "execution_count": 16,
   "id": "congressional-joining",
   "metadata": {},
   "outputs": [
    {
     "data": {
      "text/plain": [
       "13"
      ]
     },
     "execution_count": 16,
     "metadata": {},
     "output_type": "execute_result"
    }
   ],
   "source": [
    "len(all_references)"
   ]
  },
  {
   "cell_type": "code",
   "execution_count": null,
   "id": "outstanding-mills",
   "metadata": {},
   "outputs": [],
   "source": []
  },
  {
   "cell_type": "code",
   "execution_count": null,
   "id": "blond-prescription",
   "metadata": {},
   "outputs": [],
   "source": []
  }
 ],
 "metadata": {
  "kernelspec": {
   "display_name": "Python 3",
   "language": "python",
   "name": "python3"
  },
  "language_info": {
   "codemirror_mode": {
    "name": "ipython",
    "version": 3
   },
   "file_extension": ".py",
   "mimetype": "text/x-python",
   "name": "python",
   "nbconvert_exporter": "python",
   "pygments_lexer": "ipython3",
   "version": "3.8.12"
  }
 },
 "nbformat": 4,
 "nbformat_minor": 5
}
