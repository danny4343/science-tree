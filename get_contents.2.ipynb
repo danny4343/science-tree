{
 "cells": [
  {
   "cell_type": "markdown",
   "id": "instructional-sound",
   "metadata": {},
   "source": [
    "## Find abstract, title, doi, and references"
   ]
  },
  {
   "cell_type": "code",
   "execution_count": 1,
   "id": "electronic-rover",
   "metadata": {},
   "outputs": [],
   "source": [
    "from bs4 import BeautifulSoup"
   ]
  },
  {
   "cell_type": "code",
   "execution_count": 2,
   "id": "transsexual-batch",
   "metadata": {},
   "outputs": [],
   "source": [
    "import requests"
   ]
  },
  {
   "cell_type": "code",
   "execution_count": 3,
   "id": "equipped-values",
   "metadata": {},
   "outputs": [],
   "source": [
    "import pandas as pd\n",
    "import re"
   ]
  },
  {
   "cell_type": "code",
   "execution_count": 4,
   "id": "architectural-modeling",
   "metadata": {},
   "outputs": [],
   "source": [
    "from functions import log, isInRef"
   ]
  },
  {
   "cell_type": "code",
   "execution_count": 5,
   "id": "forced-boston",
   "metadata": {},
   "outputs": [],
   "source": [
    "from urllib.parse import urlparse"
   ]
  },
  {
   "cell_type": "code",
   "execution_count": 6,
   "id": "after-charles",
   "metadata": {},
   "outputs": [],
   "source": [
    "df = pd.read_csv('links.4.csv', delimiter= '\\t')"
   ]
  },
  {
   "cell_type": "code",
   "execution_count": 7,
   "id": "upset-adolescent",
   "metadata": {},
   "outputs": [],
   "source": [
    "links = df[\"link\"].str.split('|').map(lambda x: x[0])\n",
    "journals = df[\"link\"].str.split('|').map(lambda x: x[1])\n",
    "df[\"link\"] = links\n",
    "df[\"journal_domain\"] = journals"
   ]
  },
  {
   "cell_type": "code",
   "execution_count": 8,
   "id": "isolated-concrete",
   "metadata": {},
   "outputs": [],
   "source": [
    "known_journals = [\"journals.plos.org\"]"
   ]
  },
  {
   "cell_type": "code",
   "execution_count": 9,
   "id": "corporate-guard",
   "metadata": {},
   "outputs": [
    {
     "data": {
      "text/html": [
       "<div>\n",
       "<style scoped>\n",
       "    .dataframe tbody tr th:only-of-type {\n",
       "        vertical-align: middle;\n",
       "    }\n",
       "\n",
       "    .dataframe tbody tr th {\n",
       "        vertical-align: top;\n",
       "    }\n",
       "\n",
       "    .dataframe thead th {\n",
       "        text-align: right;\n",
       "    }\n",
       "</style>\n",
       "<table border=\"1\" class=\"dataframe\">\n",
       "  <thead>\n",
       "    <tr style=\"text-align: right;\">\n",
       "      <th></th>\n",
       "      <th>link</th>\n",
       "      <th>journal_domain</th>\n",
       "    </tr>\n",
       "  </thead>\n",
       "  <tbody>\n",
       "    <tr>\n",
       "      <th>11</th>\n",
       "      <td>https://doi.org/10.1371/journal.pone.0174944</td>\n",
       "      <td>journals.plos.org</td>\n",
       "    </tr>\n",
       "    <tr>\n",
       "      <th>14</th>\n",
       "      <td>https://doi.org/10.1371/journal.pone.0181142</td>\n",
       "      <td>journals.plos.org</td>\n",
       "    </tr>\n",
       "    <tr>\n",
       "      <th>110</th>\n",
       "      <td>https://doi.org/10.1371/journal.pone.0164270</td>\n",
       "      <td>journals.plos.org</td>\n",
       "    </tr>\n",
       "    <tr>\n",
       "      <th>174</th>\n",
       "      <td>https://doi.org/10.1371/journal.pone.0144916</td>\n",
       "      <td>journals.plos.org</td>\n",
       "    </tr>\n",
       "    <tr>\n",
       "      <th>191</th>\n",
       "      <td>https://doi.org/10.1371/journal.pone.0089157</td>\n",
       "      <td>journals.plos.org</td>\n",
       "    </tr>\n",
       "    <tr>\n",
       "      <th>265</th>\n",
       "      <td>https://doi.org/10.1371/journal.pone.0010271</td>\n",
       "      <td>journals.plos.org</td>\n",
       "    </tr>\n",
       "    <tr>\n",
       "      <th>270</th>\n",
       "      <td>https://doi.org/10.1371/journal.pcbi.1005993</td>\n",
       "      <td>journals.plos.org</td>\n",
       "    </tr>\n",
       "    <tr>\n",
       "      <th>271</th>\n",
       "      <td>https://doi.org/10.1371/journal.pone.0192011</td>\n",
       "      <td>journals.plos.org</td>\n",
       "    </tr>\n",
       "    <tr>\n",
       "      <th>285</th>\n",
       "      <td>https://doi.org/10.1371/journal.pone.0118723</td>\n",
       "      <td>journals.plos.org</td>\n",
       "    </tr>\n",
       "    <tr>\n",
       "      <th>287</th>\n",
       "      <td>https://doi.org/10.1371/journal.pone.0124414</td>\n",
       "      <td>journals.plos.org</td>\n",
       "    </tr>\n",
       "  </tbody>\n",
       "</table>\n",
       "</div>"
      ],
      "text/plain": [
       "                                             link     journal_domain\n",
       "11   https://doi.org/10.1371/journal.pone.0174944  journals.plos.org\n",
       "14   https://doi.org/10.1371/journal.pone.0181142  journals.plos.org\n",
       "110  https://doi.org/10.1371/journal.pone.0164270  journals.plos.org\n",
       "174  https://doi.org/10.1371/journal.pone.0144916  journals.plos.org\n",
       "191  https://doi.org/10.1371/journal.pone.0089157  journals.plos.org\n",
       "265  https://doi.org/10.1371/journal.pone.0010271  journals.plos.org\n",
       "270  https://doi.org/10.1371/journal.pcbi.1005993  journals.plos.org\n",
       "271  https://doi.org/10.1371/journal.pone.0192011  journals.plos.org\n",
       "285  https://doi.org/10.1371/journal.pone.0118723  journals.plos.org\n",
       "287  https://doi.org/10.1371/journal.pone.0124414  journals.plos.org"
      ]
     },
     "execution_count": 9,
     "metadata": {},
     "output_type": "execute_result"
    }
   ],
   "source": [
    "# remove articles from unknown journals\n",
    "df = df[df[\"journal_domain\"].isin(known_journals)]\n",
    "df"
   ]
  },
  {
   "cell_type": "code",
   "execution_count": 10,
   "id": "speaking-nitrogen",
   "metadata": {},
   "outputs": [],
   "source": [
    "# dictionary for getting journal name from url\n",
    "journals_df = pd.read_csv('domain_to_journal.csv', delimiter='\\t')\n",
    "journal_ref = pd.Series(journals_df.journal.values,index=journals_df.domain).to_dict()\n",
    "# dict: journal_ref['url'] = journal name"
   ]
  },
  {
   "cell_type": "code",
   "execution_count": 11,
   "id": "eastern-rental",
   "metadata": {},
   "outputs": [],
   "source": [
    "headers = {\n",
    "    \"User-Agent\": \"Mozilla/5.0 (Windows NT 10.0; Win64; x64) AppleWebKit/537.36 (KHTML, like Gecko) Chrome/70.0.3538.102 Safari/537.36 Edge/18.19582\"\n",
    "}"
   ]
  },
  {
   "cell_type": "code",
   "execution_count": 12,
   "id": "entertaining-quarterly",
   "metadata": {},
   "outputs": [],
   "source": [
    "# initialize abstracts list, doi list, and citations list as well as journal name\n",
    "abstracts = []\n",
    "all_references = [] # nested list\n",
    "dois = []\n",
    "journal_names = []\n",
    "titles = []"
   ]
  },
  {
   "cell_type": "code",
   "execution_count": 13,
   "id": "radio-reality",
   "metadata": {},
   "outputs": [],
   "source": [
    "# make sure reference link exists \n",
    "def check_ref_plos(ref):\n",
    "    try:\n",
    "        link = ref.ul.li.a.get('href')\n",
    "        if link != '#': # occurs if link is fake\n",
    "            return link\n",
    "    except AttributeError: # occurs if no link exists\n",
    "        return\n",
    "    \n",
    "# make sure reference link exists \n",
    "def check_ref_lhub(ref):\n",
    "    try:\n",
    "        link = ref.ul.li.a.get('href')\n",
    "        if link != '#': # occurs if link is fake\n",
    "            return link\n",
    "    except AttributeError: # occurs if no link exists\n",
    "        return"
   ]
  },
  {
   "cell_type": "code",
   "execution_count": 20,
   "id": "fleet-distinction",
   "metadata": {},
   "outputs": [],
   "source": [
    "def main():\n",
    "    \n",
    "    for index, row in df.iterrows():\n",
    "        \n",
    "        link = row[\"link\"]\n",
    "        \n",
    "        domain = urlparse(link).netloc\n",
    "\n",
    "        if isInRef(domain):\n",
    "            journal_names.append(journal_ref[domain])\n",
    "            \n",
    "        page = requests.get(link, headers=headers).content\n",
    "        soup = BeautifulSoup(page, 'html.parser')\n",
    "        \n",
    "        if row[\"journal_domain\"] == \"journals.plos.org\":\n",
    "\n",
    "            # get title\n",
    "            title = soup.find('h1', id='artTitle').get_text()\n",
    "            titles.append(title)\n",
    "\n",
    "            # get abstract \n",
    "            abstract = soup.find('div', 'abstract-content').p.get_text()\n",
    "            abstracts.append(abstract)\n",
    "\n",
    "            # get doi\n",
    "            doi = soup.find('li', id=\"artDoi\").a.get_text()\n",
    "            dois.append(doi)\n",
    "\n",
    "            # get references\n",
    "            # initialize reference list\n",
    "            local_references = []\n",
    "            references = soup.find('ol', 'references').find_all('li', id=re.compile('^ref\\d+'))\n",
    "            for ref in references:\n",
    "                checked_ref = check_ref_plos(ref)\n",
    "                if checked_ref != None:\n",
    "                    local_references.append(checked_ref)\n",
    "            all_references.append(local_references)\n",
    "            \n",
    "        elif row[\"journal_domain\"] == \"linkinghub.elsevier.com\":\n",
    "            \n",
    "            print(soup)\n",
    "            \n",
    "            # get title\n",
    "            title = soup.find('h1', id='screen-reader-main-title').span.get_text()\n",
    "            titles.append(title)\n",
    "            \n",
    "            # get abstract\n",
    "            abstract = soup.find('div', id='abstracts').find_all('p')\n",
    "            tmp_abstract = ''\n",
    "            for x in abstract:\n",
    "                tmp_abstract+=x.get_text()\n",
    "            abstracts.append(tmp_abstract)\n",
    "            \n",
    "            # get doi\n",
    "            doi = soup.find('div', id='article-identifier-links').find('a', 'doi').get_text()\n",
    "            dois.append(doi)\n",
    "            \n",
    "            # get references\n",
    "            # initialize reference list\n",
    "            local_references = []\n",
    "            references = soup.find('dl', id='reference-links-bibs005').find_all('dd', 'reference')\n",
    "            for ref in references:\n",
    "                local_references.append(ref.find('div', 'ReferenceLinks u-font-sans').find('a', string='CrossRef').get('href'))\n",
    "            all_references.append(local_references)\n",
    "                \n",
    "        \n",
    "    # count references\n",
    "    count = 0\n",
    "    for listElem in all_references:\n",
    "        count += len(listElem)\n",
    "\n",
    "    log(f'Ran get_contents.2.ipynb succesfully, finding {count} references')\n",
    "    print(count)\n",
    "        \n"
   ]
  },
  {
   "cell_type": "code",
   "execution_count": 21,
   "id": "knowing-slide",
   "metadata": {},
   "outputs": [
    {
     "name": "stdout",
     "output_type": "stream",
     "text": [
      "276\n"
     ]
    }
   ],
   "source": [
    "main()"
   ]
  },
  {
   "cell_type": "code",
   "execution_count": 16,
   "id": "adult-minister",
   "metadata": {},
   "outputs": [],
   "source": [
    "df[\"title\"] = titles\n",
    "df[\"abstract\"] = abstracts\n",
    "df[\"references\"] = all_references\n",
    "df[\"doi\"] = dois"
   ]
  },
  {
   "cell_type": "code",
   "execution_count": 17,
   "id": "geological-comparative",
   "metadata": {},
   "outputs": [
    {
     "data": {
      "text/html": [
       "<div>\n",
       "<style scoped>\n",
       "    .dataframe tbody tr th:only-of-type {\n",
       "        vertical-align: middle;\n",
       "    }\n",
       "\n",
       "    .dataframe tbody tr th {\n",
       "        vertical-align: top;\n",
       "    }\n",
       "\n",
       "    .dataframe thead th {\n",
       "        text-align: right;\n",
       "    }\n",
       "</style>\n",
       "<table border=\"1\" class=\"dataframe\">\n",
       "  <thead>\n",
       "    <tr style=\"text-align: right;\">\n",
       "      <th></th>\n",
       "      <th>link</th>\n",
       "      <th>journal_domain</th>\n",
       "      <th>title</th>\n",
       "      <th>abstract</th>\n",
       "      <th>references</th>\n",
       "      <th>doi</th>\n",
       "    </tr>\n",
       "  </thead>\n",
       "  <tbody>\n",
       "    <tr>\n",
       "      <th>11</th>\n",
       "      <td>https://doi.org/10.1371/journal.pone.0174944</td>\n",
       "      <td>journals.plos.org</td>\n",
       "      <td>Can machine-learning improve cardiovascular ri...</td>\n",
       "      <td>Current approaches to predict cardiovascular r...</td>\n",
       "      <td>[https://doi.org/10.1136/bmj.39609.449676.25, ...</td>\n",
       "      <td>https://doi.org/10.1371/journal.pone.0174944</td>\n",
       "    </tr>\n",
       "    <tr>\n",
       "      <th>14</th>\n",
       "      <td>https://doi.org/10.1371/journal.pone.0181142</td>\n",
       "      <td>journals.plos.org</td>\n",
       "      <td>\"What is relevant in a text document?\": An int...</td>\n",
       "      <td>Text documents can be described by a number of...</td>\n",
       "      <td>[https://doi.org/10.1108/eb026526, https://doi...</td>\n",
       "      <td>https://doi.org/10.1371/journal.pone.0181142</td>\n",
       "    </tr>\n",
       "    <tr>\n",
       "      <th>110</th>\n",
       "      <td>https://doi.org/10.1371/journal.pone.0164270</td>\n",
       "      <td>journals.plos.org</td>\n",
       "      <td>Reversible Cryopreservation of Living Cells Us...</td>\n",
       "      <td>Rapid cooling of aqueous solutions is a useful...</td>\n",
       "      <td>[https://doi.org/10.1038/164666a0, https://doi...</td>\n",
       "      <td>https://doi.org/10.1371/journal.pone.0164270</td>\n",
       "    </tr>\n",
       "    <tr>\n",
       "      <th>174</th>\n",
       "      <td>https://doi.org/10.1371/journal.pone.0144916</td>\n",
       "      <td>journals.plos.org</td>\n",
       "      <td>Improving Cycling Performance: Transcranial Di...</td>\n",
       "      <td>The central nervous system seems to have an im...</td>\n",
       "      <td>[https://doi.org/10.1152/japplphysiol.91324.20...</td>\n",
       "      <td>https://doi.org/10.1371/journal.pone.0144916</td>\n",
       "    </tr>\n",
       "    <tr>\n",
       "      <th>191</th>\n",
       "      <td>https://doi.org/10.1371/journal.pone.0089157</td>\n",
       "      <td>journals.plos.org</td>\n",
       "      <td>Changes in Voluntary Activation Assessed by Tr...</td>\n",
       "      <td>Maximal central motor drive is known to decrea...</td>\n",
       "      <td>[]</td>\n",
       "      <td>https://doi.org/10.1371/journal.pone.0089157</td>\n",
       "    </tr>\n",
       "    <tr>\n",
       "      <th>265</th>\n",
       "      <td>https://doi.org/10.1371/journal.pone.0010271</td>\n",
       "      <td>journals.plos.org</td>\n",
       "      <td>Do Pressures to Publish Increase Scientists' B...</td>\n",
       "      <td>The growing competition and “publish or perish...</td>\n",
       "      <td>[]</td>\n",
       "      <td>https://doi.org/10.1371/journal.pone.0010271</td>\n",
       "    </tr>\n",
       "    <tr>\n",
       "      <th>270</th>\n",
       "      <td>https://doi.org/10.1371/journal.pcbi.1005993</td>\n",
       "      <td>journals.plos.org</td>\n",
       "      <td>Automated plant species identification—Trends ...</td>\n",
       "      <td>Current rates of species loss triggered numero...</td>\n",
       "      <td>[https://doi.org/10.1371/journal.pbio.1001127,...</td>\n",
       "      <td>https://doi.org/10.1371/journal.pcbi.1005993</td>\n",
       "    </tr>\n",
       "    <tr>\n",
       "      <th>271</th>\n",
       "      <td>https://doi.org/10.1371/journal.pone.0192011</td>\n",
       "      <td>journals.plos.org</td>\n",
       "      <td>Ant genera identification using an ensemble of...</td>\n",
       "      <td>Works requiring taxonomic knowledge face sever...</td>\n",
       "      <td>[https://doi.org/10.1098/rstb.2003.1440, https...</td>\n",
       "      <td>https://doi.org/10.1371/journal.pone.0192011</td>\n",
       "    </tr>\n",
       "    <tr>\n",
       "      <th>285</th>\n",
       "      <td>https://doi.org/10.1371/journal.pone.0118723</td>\n",
       "      <td>journals.plos.org</td>\n",
       "      <td>Step Detection and Activity Recognition Accura...</td>\n",
       "      <td>The aim of this study was to compare the seven...</td>\n",
       "      <td>[https://doi.org/10.1249/MSS.0b013e3182399bc8,...</td>\n",
       "      <td>https://doi.org/10.1371/journal.pone.0118723</td>\n",
       "    </tr>\n",
       "    <tr>\n",
       "      <th>287</th>\n",
       "      <td>https://doi.org/10.1371/journal.pone.0124414</td>\n",
       "      <td>journals.plos.org</td>\n",
       "      <td>Feature Selection for Wearable Smartphone-Base...</td>\n",
       "      <td>Human activity recognition (HAR), using wearab...</td>\n",
       "      <td>[https://doi.org/10.1007/s12668-013-0088-3, ht...</td>\n",
       "      <td>https://doi.org/10.1371/journal.pone.0124414</td>\n",
       "    </tr>\n",
       "  </tbody>\n",
       "</table>\n",
       "</div>"
      ],
      "text/plain": [
       "                                             link     journal_domain  \\\n",
       "11   https://doi.org/10.1371/journal.pone.0174944  journals.plos.org   \n",
       "14   https://doi.org/10.1371/journal.pone.0181142  journals.plos.org   \n",
       "110  https://doi.org/10.1371/journal.pone.0164270  journals.plos.org   \n",
       "174  https://doi.org/10.1371/journal.pone.0144916  journals.plos.org   \n",
       "191  https://doi.org/10.1371/journal.pone.0089157  journals.plos.org   \n",
       "265  https://doi.org/10.1371/journal.pone.0010271  journals.plos.org   \n",
       "270  https://doi.org/10.1371/journal.pcbi.1005993  journals.plos.org   \n",
       "271  https://doi.org/10.1371/journal.pone.0192011  journals.plos.org   \n",
       "285  https://doi.org/10.1371/journal.pone.0118723  journals.plos.org   \n",
       "287  https://doi.org/10.1371/journal.pone.0124414  journals.plos.org   \n",
       "\n",
       "                                                 title  \\\n",
       "11   Can machine-learning improve cardiovascular ri...   \n",
       "14   \"What is relevant in a text document?\": An int...   \n",
       "110  Reversible Cryopreservation of Living Cells Us...   \n",
       "174  Improving Cycling Performance: Transcranial Di...   \n",
       "191  Changes in Voluntary Activation Assessed by Tr...   \n",
       "265  Do Pressures to Publish Increase Scientists' B...   \n",
       "270  Automated plant species identification—Trends ...   \n",
       "271  Ant genera identification using an ensemble of...   \n",
       "285  Step Detection and Activity Recognition Accura...   \n",
       "287  Feature Selection for Wearable Smartphone-Base...   \n",
       "\n",
       "                                              abstract  \\\n",
       "11   Current approaches to predict cardiovascular r...   \n",
       "14   Text documents can be described by a number of...   \n",
       "110  Rapid cooling of aqueous solutions is a useful...   \n",
       "174  The central nervous system seems to have an im...   \n",
       "191  Maximal central motor drive is known to decrea...   \n",
       "265  The growing competition and “publish or perish...   \n",
       "270  Current rates of species loss triggered numero...   \n",
       "271  Works requiring taxonomic knowledge face sever...   \n",
       "285  The aim of this study was to compare the seven...   \n",
       "287  Human activity recognition (HAR), using wearab...   \n",
       "\n",
       "                                            references  \\\n",
       "11   [https://doi.org/10.1136/bmj.39609.449676.25, ...   \n",
       "14   [https://doi.org/10.1108/eb026526, https://doi...   \n",
       "110  [https://doi.org/10.1038/164666a0, https://doi...   \n",
       "174  [https://doi.org/10.1152/japplphysiol.91324.20...   \n",
       "191                                                 []   \n",
       "265                                                 []   \n",
       "270  [https://doi.org/10.1371/journal.pbio.1001127,...   \n",
       "271  [https://doi.org/10.1098/rstb.2003.1440, https...   \n",
       "285  [https://doi.org/10.1249/MSS.0b013e3182399bc8,...   \n",
       "287  [https://doi.org/10.1007/s12668-013-0088-3, ht...   \n",
       "\n",
       "                                              doi  \n",
       "11   https://doi.org/10.1371/journal.pone.0174944  \n",
       "14   https://doi.org/10.1371/journal.pone.0181142  \n",
       "110  https://doi.org/10.1371/journal.pone.0164270  \n",
       "174  https://doi.org/10.1371/journal.pone.0144916  \n",
       "191  https://doi.org/10.1371/journal.pone.0089157  \n",
       "265  https://doi.org/10.1371/journal.pone.0010271  \n",
       "270  https://doi.org/10.1371/journal.pcbi.1005993  \n",
       "271  https://doi.org/10.1371/journal.pone.0192011  \n",
       "285  https://doi.org/10.1371/journal.pone.0118723  \n",
       "287  https://doi.org/10.1371/journal.pone.0124414  "
      ]
     },
     "execution_count": 17,
     "metadata": {},
     "output_type": "execute_result"
    }
   ],
   "source": [
    "df"
   ]
  },
  {
   "cell_type": "code",
   "execution_count": 18,
   "id": "pointed-optics",
   "metadata": {},
   "outputs": [],
   "source": [
    "df.to_csv(r'results.2.csv', sep='\\t', index = False)"
   ]
  },
  {
   "cell_type": "code",
   "execution_count": 19,
   "id": "large-syntax",
   "metadata": {},
   "outputs": [
    {
     "data": {
      "text/plain": [
       "10"
      ]
     },
     "execution_count": 19,
     "metadata": {},
     "output_type": "execute_result"
    }
   ],
   "source": [
    "len(all_references)"
   ]
  },
  {
   "cell_type": "code",
   "execution_count": null,
   "id": "advisory-rachel",
   "metadata": {},
   "outputs": [],
   "source": []
  },
  {
   "cell_type": "code",
   "execution_count": null,
   "id": "spatial-editor",
   "metadata": {},
   "outputs": [],
   "source": []
  }
 ],
 "metadata": {
  "kernelspec": {
   "display_name": "Python 3",
   "language": "python",
   "name": "python3"
  },
  "language_info": {
   "codemirror_mode": {
    "name": "ipython",
    "version": 3
   },
   "file_extension": ".py",
   "mimetype": "text/x-python",
   "name": "python",
   "nbconvert_exporter": "python",
   "pygments_lexer": "ipython3",
   "version": "3.8.12"
  }
 },
 "nbformat": 4,
 "nbformat_minor": 5
}
