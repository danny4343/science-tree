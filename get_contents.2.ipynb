{
 "cells": [
  {
   "cell_type": "markdown",
   "id": "registered-sharing",
   "metadata": {},
   "source": [
    "## Find abstract, title, doi, and references"
   ]
  },
  {
   "cell_type": "code",
   "execution_count": 1,
   "id": "agreed-wiring",
   "metadata": {},
   "outputs": [],
   "source": [
    "from bs4 import BeautifulSoup"
   ]
  },
  {
   "cell_type": "code",
   "execution_count": 2,
   "id": "alpha-today",
   "metadata": {},
   "outputs": [],
   "source": [
    "import requests"
   ]
  },
  {
   "cell_type": "code",
   "execution_count": 3,
   "id": "beginning-unknown",
   "metadata": {},
   "outputs": [],
   "source": [
    "import pandas as pd\n",
    "import re"
   ]
  },
  {
   "cell_type": "code",
   "execution_count": 4,
   "id": "bored-argument",
   "metadata": {},
   "outputs": [],
   "source": [
    "from functions import log, isInRef"
   ]
  },
  {
   "cell_type": "code",
   "execution_count": 5,
   "id": "technical-mobility",
   "metadata": {},
   "outputs": [],
   "source": [
    "from urllib.parse import urlparse"
   ]
  },
  {
   "cell_type": "code",
   "execution_count": 6,
   "id": "geological-things",
   "metadata": {},
   "outputs": [],
   "source": [
    "df = pd.read_csv('links.1.csv', delimiter= '\\t')"
   ]
  },
  {
   "cell_type": "code",
   "execution_count": 7,
   "id": "coordinate-matthew",
   "metadata": {},
   "outputs": [],
   "source": [
    "# dictionary for getting journal name from url\n",
    "journals_df = pd.read_csv('domain_to_journal.csv', delimiter='\\t')\n",
    "journal_ref = pd.Series(journals_df.journal.values,index=journals_df.domain).to_dict()\n",
    "# dict: journal_ref['url'] = journal name"
   ]
  },
  {
   "cell_type": "code",
   "execution_count": 8,
   "id": "intimate-independence",
   "metadata": {},
   "outputs": [],
   "source": [
    "headers = {\n",
    "    \"User-Agent\": \"Mozilla/5.0 (Windows NT 10.0; Win64; x64) AppleWebKit/537.36 (KHTML, like Gecko) Chrome/70.0.3538.102 Safari/537.36 Edge/18.19582\"\n",
    "}"
   ]
  },
  {
   "cell_type": "code",
   "execution_count": 9,
   "id": "recorded-hughes",
   "metadata": {},
   "outputs": [],
   "source": [
    "# initialize abstracts list, doi list, and citations list as well as journal name\n",
    "abstracts = []\n",
    "all_references = [] # nested list\n",
    "dois = []\n",
    "journal_names = []\n",
    "titles = []"
   ]
  },
  {
   "cell_type": "code",
   "execution_count": 10,
   "id": "breeding-health",
   "metadata": {},
   "outputs": [],
   "source": [
    "# make sure reference link exists \n",
    "def check_ref(ref):\n",
    "    try:\n",
    "        link = ref.ul.li.a.get('href')\n",
    "        if link != '#': # occurs if link is fake\n",
    "            return link\n",
    "    except AttributeError: # occurs if no link exists\n",
    "        return"
   ]
  },
  {
   "cell_type": "code",
   "execution_count": 11,
   "id": "commercial-lying",
   "metadata": {},
   "outputs": [],
   "source": [
    "def main():\n",
    "    for link in df.link:\n",
    "        \n",
    "        domain = urlparse(link).netloc\n",
    "        \n",
    "        if isInRef(domain):\n",
    "            journal_names.append(journal_ref[domain])\n",
    "                \n",
    "        page = requests.get(link, headers=headers).content\n",
    "        soup = BeautifulSoup(page, 'html.parser')\n",
    "        \n",
    "        # get title\n",
    "        title = soup.find('h1', id='artTitle').get_text()\n",
    "        titles.append(title)\n",
    "        \n",
    "        # get abstract \n",
    "        abstract = soup.find('div', 'abstract-content').p.get_text()\n",
    "        abstracts.append(abstract)\n",
    "        \n",
    "        # get doi\n",
    "        doi = soup.find('li', id=\"artDoi\").a.get_text()\n",
    "        dois.append(doi)\n",
    "        \n",
    "        # get references\n",
    "        # initialize reference list\n",
    "        local_references = []\n",
    "        references = soup.find('ol', 'references').find_all('li', id=re.compile('^ref\\d+'))\n",
    "        for ref in references:\n",
    "            checked_ref = check_ref(ref)\n",
    "            if checked_ref != None:\n",
    "                local_references.append(checked_ref)\n",
    "        all_references.append(local_references)\n",
    "        \n",
    "    # count references\n",
    "    count = 0\n",
    "    for listElem in all_references:\n",
    "        count += len(listElem)\n",
    "\n",
    "    log(f'Ran get_contents.2.ipynb succesfully, finding {count} references')\n",
    "    print(count)\n",
    "        \n"
   ]
  },
  {
   "cell_type": "code",
   "execution_count": 12,
   "id": "sharing-force",
   "metadata": {},
   "outputs": [
    {
     "name": "stdout",
     "output_type": "stream",
     "text": [
      "382\n"
     ]
    }
   ],
   "source": [
    "main()"
   ]
  },
  {
   "cell_type": "code",
   "execution_count": 13,
   "id": "personal-government",
   "metadata": {},
   "outputs": [],
   "source": [
    "df[\"title\"] = titles\n",
    "df[\"abstract\"] = abstracts\n",
    "df[\"references\"] = all_references\n",
    "df[\"journal\"] = journal_names\n",
    "df[\"doi\"] = dois"
   ]
  },
  {
   "cell_type": "code",
   "execution_count": 14,
   "id": "respective-holder",
   "metadata": {},
   "outputs": [
    {
     "data": {
      "text/html": [
       "<div>\n",
       "<style scoped>\n",
       "    .dataframe tbody tr th:only-of-type {\n",
       "        vertical-align: middle;\n",
       "    }\n",
       "\n",
       "    .dataframe tbody tr th {\n",
       "        vertical-align: top;\n",
       "    }\n",
       "\n",
       "    .dataframe thead th {\n",
       "        text-align: right;\n",
       "    }\n",
       "</style>\n",
       "<table border=\"1\" class=\"dataframe\">\n",
       "  <thead>\n",
       "    <tr style=\"text-align: right;\">\n",
       "      <th></th>\n",
       "      <th>link</th>\n",
       "      <th>title</th>\n",
       "      <th>abstract</th>\n",
       "      <th>references</th>\n",
       "      <th>journal</th>\n",
       "      <th>doi</th>\n",
       "    </tr>\n",
       "  </thead>\n",
       "  <tbody>\n",
       "    <tr>\n",
       "      <th>0</th>\n",
       "      <td>https://journals.plos.org/plosone/article?id=1...</td>\n",
       "      <td>SinGAN-Seg: Synthetic training data generation...</td>\n",
       "      <td>Analyzing medical data to find abnormalities i...</td>\n",
       "      <td>[https://doi.org/10.1136/svn-2017-000101, http...</td>\n",
       "      <td>PLOS</td>\n",
       "      <td>https://doi.org/10.1371/journal.pone.0267976</td>\n",
       "    </tr>\n",
       "    <tr>\n",
       "      <th>1</th>\n",
       "      <td>https://journals.plos.org/plosone/article?id=1...</td>\n",
       "      <td>Modeling transport of extended interacting obj...</td>\n",
       "      <td>We study a deterministic framework for importa...</td>\n",
       "      <td>[https://doi.org/10.1016/j.bpj.2009.01.015, ht...</td>\n",
       "      <td>PLOS</td>\n",
       "      <td>https://doi.org/10.1371/journal.pone.0267858</td>\n",
       "    </tr>\n",
       "    <tr>\n",
       "      <th>2</th>\n",
       "      <td>https://journals.plos.org/plosone/article?id=1...</td>\n",
       "      <td>Using deep transfer learning to detect scolios...</td>\n",
       "      <td>Recent years have witnessed wider prevalence o...</td>\n",
       "      <td>[https://doi.org/10.1007/s12652-019-01312-3, h...</td>\n",
       "      <td>PLOS</td>\n",
       "      <td>https://doi.org/10.1371/journal.pone.0267851</td>\n",
       "    </tr>\n",
       "    <tr>\n",
       "      <th>3</th>\n",
       "      <td>https://journals.plos.org/plosone/article?id=1...</td>\n",
       "      <td>Pressure vessel-oriented visual inspection met...</td>\n",
       "      <td>The detection of surface parameters of pressur...</td>\n",
       "      <td>[https://doi.org/10.1109/ias.1995.531101, http...</td>\n",
       "      <td>PLOS</td>\n",
       "      <td>https://doi.org/10.1371/journal.pone.0267743</td>\n",
       "    </tr>\n",
       "    <tr>\n",
       "      <th>4</th>\n",
       "      <td>https://journals.plos.org/plosone/article?id=1...</td>\n",
       "      <td>Comparison of public discussions of gene editi...</td>\n",
       "      <td>The world’s first gene-edited babies event has...</td>\n",
       "      <td>[https://doi.org/10.1038/d41586-020-02765-9, h...</td>\n",
       "      <td>PLOS</td>\n",
       "      <td>https://doi.org/10.1371/journal.pone.0267406</td>\n",
       "    </tr>\n",
       "    <tr>\n",
       "      <th>5</th>\n",
       "      <td>https://journals.plos.org/plosone/article?id=1...</td>\n",
       "      <td>Software reliability model of open source soft...</td>\n",
       "      <td>Open source software (OSS) has become one of t...</td>\n",
       "      <td>[https://doi.org/10.1002/9781119821779.ch5, ht...</td>\n",
       "      <td>PLOS</td>\n",
       "      <td>https://doi.org/10.1371/journal.pone.0267171</td>\n",
       "    </tr>\n",
       "    <tr>\n",
       "      <th>6</th>\n",
       "      <td>https://journals.plos.org/plosone/article?id=1...</td>\n",
       "      <td>Study of Asian indexes by a newly derived dyna...</td>\n",
       "      <td>We take the stock prices as a dynamic system a...</td>\n",
       "      <td>[https://doi.org/10.2307/1907042, https://doi....</td>\n",
       "      <td>PLOS</td>\n",
       "      <td>https://doi.org/10.1371/journal.pone.0266600</td>\n",
       "    </tr>\n",
       "    <tr>\n",
       "      <th>7</th>\n",
       "      <td>https://journals.plos.org/plosone/article?id=1...</td>\n",
       "      <td>Awareness, perception and perpetration of cybe...</td>\n",
       "      <td>The modern online society requires everyone, e...</td>\n",
       "      <td>[https://doi.org/10.1111/j.1746-1561.2008.0033...</td>\n",
       "      <td>PLOS</td>\n",
       "      <td>https://doi.org/10.1371/journal.pone.0267702</td>\n",
       "    </tr>\n",
       "    <tr>\n",
       "      <th>8</th>\n",
       "      <td>https://journals.plos.org/plosone/article?id=1...</td>\n",
       "      <td>Validation pipeline for machine learning algor...</td>\n",
       "      <td>A standardized objective evaluation method is ...</td>\n",
       "      <td>[https://doi.org/10.1109/TMI.2014.2377694, htt...</td>\n",
       "      <td>PLOS</td>\n",
       "      <td>https://doi.org/10.1371/journal.pone.0267213</td>\n",
       "    </tr>\n",
       "    <tr>\n",
       "      <th>9</th>\n",
       "      <td>https://journals.plos.org/plosone/article?id=1...</td>\n",
       "      <td>Identifying luminal and basal mammary cell spe...</td>\n",
       "      <td>Mammary gland is present in all mammals and us...</td>\n",
       "      <td>[https://doi.org/10.1002/wdev.35, https://doi....</td>\n",
       "      <td>PLOS</td>\n",
       "      <td>https://doi.org/10.1371/journal.pone.0267211</td>\n",
       "    </tr>\n",
       "    <tr>\n",
       "      <th>10</th>\n",
       "      <td>https://journals.plos.org/plosone/article?id=1...</td>\n",
       "      <td>Using machine learning for the personalised pr...</td>\n",
       "      <td>Revision endoscopic sinus surgery (ESS) is oft...</td>\n",
       "      <td>[https://doi.org/10.4193/Rhin20.600, https://d...</td>\n",
       "      <td>PLOS</td>\n",
       "      <td>https://doi.org/10.1371/journal.pone.0267146</td>\n",
       "    </tr>\n",
       "    <tr>\n",
       "      <th>11</th>\n",
       "      <td>https://journals.plos.org/plosone/article?id=1...</td>\n",
       "      <td>Underwater acoustic target recognition method ...</td>\n",
       "      <td>To improve the recognition accuracy of underwa...</td>\n",
       "      <td>[https://doi.org/10.3390/e20040243, https://do...</td>\n",
       "      <td>PLOS</td>\n",
       "      <td>https://doi.org/10.1371/journal.pone.0266425</td>\n",
       "    </tr>\n",
       "    <tr>\n",
       "      <th>12</th>\n",
       "      <td>https://journals.plos.org/plosone/article?id=1...</td>\n",
       "      <td>Thermo-mechanics aspects of isochoric cryopres...</td>\n",
       "      <td>A new mathematical model is proposed for the a...</td>\n",
       "      <td>[https://doi.org/10.1016/j.cryobiol.2019.01.00...</td>\n",
       "      <td>PLOS</td>\n",
       "      <td>https://doi.org/10.1371/journal.pone.0267852</td>\n",
       "    </tr>\n",
       "  </tbody>\n",
       "</table>\n",
       "</div>"
      ],
      "text/plain": [
       "                                                 link  \\\n",
       "0   https://journals.plos.org/plosone/article?id=1...   \n",
       "1   https://journals.plos.org/plosone/article?id=1...   \n",
       "2   https://journals.plos.org/plosone/article?id=1...   \n",
       "3   https://journals.plos.org/plosone/article?id=1...   \n",
       "4   https://journals.plos.org/plosone/article?id=1...   \n",
       "5   https://journals.plos.org/plosone/article?id=1...   \n",
       "6   https://journals.plos.org/plosone/article?id=1...   \n",
       "7   https://journals.plos.org/plosone/article?id=1...   \n",
       "8   https://journals.plos.org/plosone/article?id=1...   \n",
       "9   https://journals.plos.org/plosone/article?id=1...   \n",
       "10  https://journals.plos.org/plosone/article?id=1...   \n",
       "11  https://journals.plos.org/plosone/article?id=1...   \n",
       "12  https://journals.plos.org/plosone/article?id=1...   \n",
       "\n",
       "                                                title  \\\n",
       "0   SinGAN-Seg: Synthetic training data generation...   \n",
       "1   Modeling transport of extended interacting obj...   \n",
       "2   Using deep transfer learning to detect scolios...   \n",
       "3   Pressure vessel-oriented visual inspection met...   \n",
       "4   Comparison of public discussions of gene editi...   \n",
       "5   Software reliability model of open source soft...   \n",
       "6   Study of Asian indexes by a newly derived dyna...   \n",
       "7   Awareness, perception and perpetration of cybe...   \n",
       "8   Validation pipeline for machine learning algor...   \n",
       "9   Identifying luminal and basal mammary cell spe...   \n",
       "10  Using machine learning for the personalised pr...   \n",
       "11  Underwater acoustic target recognition method ...   \n",
       "12  Thermo-mechanics aspects of isochoric cryopres...   \n",
       "\n",
       "                                             abstract  \\\n",
       "0   Analyzing medical data to find abnormalities i...   \n",
       "1   We study a deterministic framework for importa...   \n",
       "2   Recent years have witnessed wider prevalence o...   \n",
       "3   The detection of surface parameters of pressur...   \n",
       "4   The world’s first gene-edited babies event has...   \n",
       "5   Open source software (OSS) has become one of t...   \n",
       "6   We take the stock prices as a dynamic system a...   \n",
       "7   The modern online society requires everyone, e...   \n",
       "8   A standardized objective evaluation method is ...   \n",
       "9   Mammary gland is present in all mammals and us...   \n",
       "10  Revision endoscopic sinus surgery (ESS) is oft...   \n",
       "11  To improve the recognition accuracy of underwa...   \n",
       "12  A new mathematical model is proposed for the a...   \n",
       "\n",
       "                                           references journal  \\\n",
       "0   [https://doi.org/10.1136/svn-2017-000101, http...    PLOS   \n",
       "1   [https://doi.org/10.1016/j.bpj.2009.01.015, ht...    PLOS   \n",
       "2   [https://doi.org/10.1007/s12652-019-01312-3, h...    PLOS   \n",
       "3   [https://doi.org/10.1109/ias.1995.531101, http...    PLOS   \n",
       "4   [https://doi.org/10.1038/d41586-020-02765-9, h...    PLOS   \n",
       "5   [https://doi.org/10.1002/9781119821779.ch5, ht...    PLOS   \n",
       "6   [https://doi.org/10.2307/1907042, https://doi....    PLOS   \n",
       "7   [https://doi.org/10.1111/j.1746-1561.2008.0033...    PLOS   \n",
       "8   [https://doi.org/10.1109/TMI.2014.2377694, htt...    PLOS   \n",
       "9   [https://doi.org/10.1002/wdev.35, https://doi....    PLOS   \n",
       "10  [https://doi.org/10.4193/Rhin20.600, https://d...    PLOS   \n",
       "11  [https://doi.org/10.3390/e20040243, https://do...    PLOS   \n",
       "12  [https://doi.org/10.1016/j.cryobiol.2019.01.00...    PLOS   \n",
       "\n",
       "                                             doi  \n",
       "0   https://doi.org/10.1371/journal.pone.0267976  \n",
       "1   https://doi.org/10.1371/journal.pone.0267858  \n",
       "2   https://doi.org/10.1371/journal.pone.0267851  \n",
       "3   https://doi.org/10.1371/journal.pone.0267743  \n",
       "4   https://doi.org/10.1371/journal.pone.0267406  \n",
       "5   https://doi.org/10.1371/journal.pone.0267171  \n",
       "6   https://doi.org/10.1371/journal.pone.0266600  \n",
       "7   https://doi.org/10.1371/journal.pone.0267702  \n",
       "8   https://doi.org/10.1371/journal.pone.0267213  \n",
       "9   https://doi.org/10.1371/journal.pone.0267211  \n",
       "10  https://doi.org/10.1371/journal.pone.0267146  \n",
       "11  https://doi.org/10.1371/journal.pone.0266425  \n",
       "12  https://doi.org/10.1371/journal.pone.0267852  "
      ]
     },
     "execution_count": 14,
     "metadata": {},
     "output_type": "execute_result"
    }
   ],
   "source": [
    "df"
   ]
  },
  {
   "cell_type": "code",
   "execution_count": 15,
   "id": "alpine-appreciation",
   "metadata": {},
   "outputs": [],
   "source": [
    "df.to_csv(r'results.2.csv', sep='\\t', index = False)"
   ]
  },
  {
   "cell_type": "code",
   "execution_count": 16,
   "id": "coupled-foster",
   "metadata": {},
   "outputs": [
    {
     "data": {
      "text/plain": [
       "13"
      ]
     },
     "execution_count": 16,
     "metadata": {},
     "output_type": "execute_result"
    }
   ],
   "source": [
    "len(all_references)"
   ]
  },
  {
   "cell_type": "code",
   "execution_count": null,
   "id": "clear-fairy",
   "metadata": {},
   "outputs": [],
   "source": []
  },
  {
   "cell_type": "code",
   "execution_count": null,
   "id": "supported-actress",
   "metadata": {},
   "outputs": [],
   "source": []
  }
 ],
 "metadata": {
  "kernelspec": {
   "display_name": "Python 3",
   "language": "python",
   "name": "python3"
  },
  "language_info": {
   "codemirror_mode": {
    "name": "ipython",
    "version": 3
   },
   "file_extension": ".py",
   "mimetype": "text/x-python",
   "name": "python",
   "nbconvert_exporter": "python",
   "pygments_lexer": "ipython3",
   "version": "3.8.12"
  }
 },
 "nbformat": 4,
 "nbformat_minor": 5
}
